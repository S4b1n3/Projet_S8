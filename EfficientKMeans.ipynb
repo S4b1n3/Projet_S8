{
 "cells": [
  {
   "cell_type": "markdown",
   "metadata": {},
   "source": [
    "# Temporary code for processing k-means only"
   ]
  },
  {
   "cell_type": "code",
   "execution_count": 3,
   "metadata": {
    "jupyter": {
     "outputs_hidden": true
    },
    "scrolled": true
   },
   "outputs": [],
   "source": [
    "%matplotlib inline\n",
    "#import cython\n",
    "#%load_ext Cython"
   ]
  },
  {
   "cell_type": "code",
   "execution_count": 4,
   "metadata": {},
   "outputs": [
    {
     "name": "stdout",
     "output_type": "stream",
     "text": [
      "Memory usage         :  77.90 MB\n"
     ]
    }
   ],
   "source": [
    "import gc\n",
    "import resource\n",
    "\n",
    "def mem():\n",
    "    print('Memory usage         : % 2.2f MB' % round(\n",
    "        resource.getrusage(resource.RUSAGE_SELF).ru_maxrss/1024.0,1)\n",
    "    )\n",
    "\n",
    "mem()"
   ]
  },
  {
   "cell_type": "code",
   "execution_count": 5,
   "metadata": {
    "jupyter": {
     "outputs_hidden": true
    }
   },
   "outputs": [],
   "source": [
    "import matplotlib.pyplot as plt\n",
    "import numpy as np\n",
    "from collections import defaultdict\n",
    "import os\n",
    "\n",
    "import gzip\n",
    "import sys\n",
    "import csv\n",
    "\n",
    "figsize_base = (6.0, 4.0)\n",
    "plt.rcParams['figure.figsize'] = (6.0, 4.0)\n",
    "base_image_path = \"figures\"\n",
    "\n",
    "def save_fig(name, extension=\"pdf\", add_param={}):\n",
    "    plt.savefig(os.path.join(base_image_path, \"{}.{}\".format(name, extension)), bbox_inches=\"tight\", **add_param)\n"
   ]
  },
  {
   "cell_type": "code",
   "execution_count": 12,
   "metadata": {},
   "outputs": [
    {
     "name": "stdout",
     "output_type": "stream",
     "text": [
      "/home/sabine/Documents/Seafile/clusterdata-2011-2/task_events/part-00000-of-00500.csv.gz\n",
      "to\n",
      "/home/sabine/Documents/Seafile/clusterdata-2011-2/task_events/part-00499-of-00500.csv.gz\n"
     ]
    }
   ],
   "source": [
    "#tracesPath='/var/tmp/clusterdata-2011-2'\n",
    "tracesPath='/home/sabine/Documents/Seafile/clusterdata-2011-2'\n",
    "tasksNums = range(0,500)\n",
    "tasksNums = range(0,500)\n",
    "\n",
    "tasksFiles=list(map(lambda x:tracesPath+'/task_events/part-'+str(x).zfill(5)+'-of-00500.csv.gz', tasksNums))\n",
    "\n",
    "print (tasksFiles[0])\n",
    "print ('to')\n",
    "print (tasksFiles[-1])"
   ]
  },
  {
   "cell_type": "code",
   "execution_count": 13,
   "metadata": {
    "jupyter": {
     "outputs_hidden": true
    }
   },
   "outputs": [],
   "source": [
    "preprocessing_file='/home/sabine/Documents/Projet_S8/preprocessed.csv'"
   ]
  },
  {
   "cell_type": "code",
   "execution_count": 53,
   "metadata": {},
   "outputs": [],
   "source": [
    "\n",
    "\n",
    "def read_tasks(tasksFiles, outfile=None):\n",
    "    tasks={}\n",
    "    bad_tasks=[]\n",
    "    arrival=[]\n",
    "    current_time=0\n",
    "\n",
    "    complete_tasks_good = []\n",
    "    complete_tasks_bad = []\n",
    "    \n",
    "    outcsv = None\n",
    "    if outfile is not None:\n",
    "        outcsv = csv.writer(outfile, delimiter=',')\n",
    "    \n",
    "    def make_task_complete(jID, tID):\n",
    "        (sc, prio, evts) = tasks[(jID, tID)]\n",
    "        \n",
    "        if len(evts) < 3:\n",
    "            #bad_tasks.append((jID, tID))\n",
    "            pass\n",
    "        else:\n",
    "            # XXX suppose the 2nd event is always 'schedule'\n",
    "            subtime=evts[0][1]\n",
    "            runtime=evts[1][1]\n",
    "            endtime=evts[-1][1]\n",
    "\n",
    "            diff=runtime-subtime\n",
    "            mt=float(endtime-runtime)/1000000.0\n",
    "            \n",
    "            if outcsv is not None:\n",
    "                outcsv.writerow([evts[-1][0], subtime, sc, prio, diff/1000000.0, 0, mt])\n",
    "            else:\n",
    "                toAdd = (sc, prio, diff/1000000.0, 0, mt)\n",
    "                if evts[-1][0] == 4:\n",
    "                    complete_tasks_good.append(toAdd)\n",
    "                else:\n",
    "                    complete_tasks_bad.append(toAdd)\n",
    "\n",
    "            del tasks[(jID, tID)]\n",
    "        \n",
    "    \n",
    "    for f in tasksFiles:\n",
    "        print ('File: ', f)\n",
    "        with gzip.open(f, 'rb') as f:\n",
    "            for line in f.readlines():\n",
    "                (timestamp,_,jID,tID,_,evtType,_,schedClass,prio,_,_,_,_)=line.decode(\"ascii\").split(',')\n",
    "                try:\n",
    "                    if(evtType == '0'):\n",
    "                        timestamp=int(timestamp)\n",
    "                        tasks[(int(jID), int(tID))] = (int(schedClass), int(prio), [(0,int(timestamp))])\n",
    "                        if timestamp>0:\n",
    "                            arrival.append(timestamp-current_time)\n",
    "                            current_time=timestamp\n",
    "                    else:\n",
    "                        timestamp, jID, tID, evtType = int(timestamp), int(jID), int(tID), int(evtType)\n",
    "                        (_,_, events)=tasks[(jID,tID)]\n",
    "                        events.append((evtType,timestamp))\n",
    "\n",
    "                        if evtType == 4 or evtType == 5:\n",
    "                            make_task_complete(jID, tID)\n",
    "                except:\n",
    "                    bad_tasks.append((int(jID), int(tID)))\n",
    "            print (\"Invalid \", len(bad_tasks))\n",
    "            print (\"Partial \", len(tasks))\n",
    "            print (\"Done : (Finished)\", len(complete_tasks_good), \"(Killed)\", len(complete_tasks_bad))\n",
    "            mem()\n",
    "    return arrival,tasks, {'Good': complete_tasks_good, 'Bad': complete_tasks_bad}"
   ]
  },
  {
   "cell_type": "code",
   "execution_count": 55,
   "metadata": {},
   "outputs": [],
   "source": [
    "def read_from_preprocessed(filename, limit=None):\n",
    "    tasks_finished = []\n",
    "    tasks_killed = []\n",
    "    arrival = []\n",
    "    \n",
    "    count = 0\n",
    "    \n",
    "    fieldformat = [int, int, int, int, float, float, float]\n",
    "    row2data = lambda row : (f(v) for f, v in zip(fieldformat, row))\n",
    "    \n",
    "    with open(filename, 'r') as f:\n",
    "        csvfile = csv.reader(f, delimiter=',')\n",
    "        for row in csvfile:\n",
    "            lastevt, subtime, sclass, prio, diff, diffrel, mt = row2data(row)\n",
    "            \n",
    "            arrival.append(subtime)\n",
    "            toadd = (sclass, prio, diff, diffrel, mt)\n",
    "            if lastevt == 4:\n",
    "                tasks_finished.append(toadd)\n",
    "            elif lastevt == 5:\n",
    "                tasks_killed.append(toadd)\n",
    "                \n",
    "            count += 1\n",
    "            if limit is not None and count > limit:\n",
    "                break\n",
    "\n",
    "    return {'Good' : tasks_finished, 'Bad' : tasks_killed}, arrival\n",
    "            "
   ]
  },
  {
   "cell_type": "code",
   "execution_count": 56,
   "metadata": {},
   "outputs": [],
   "source": [
    "#_, _, tasks = read_tasks(tasksFiles)"
   ]
  },
  {
   "cell_type": "code",
   "execution_count": 57,
   "metadata": {},
   "outputs": [
    {
     "name": "stdout",
     "output_type": "stream",
     "text": [
      "Memory usage         :  146.90 MB\n",
      "Memory usage         :  146.90 MB\n"
     ]
    }
   ],
   "source": [
    "mem()\n",
    "gc.collect()\n",
    "mem()"
   ]
  },
  {
   "cell_type": "code",
   "execution_count": 58,
   "metadata": {},
   "outputs": [
    {
     "name": "stdout",
     "output_type": "stream",
     "text": [
      "File:  /home/sabine/Documents/Seafile/clusterdata-2011-2/task_events/part-00000-of-00500.csv.gz\n",
      "Invalid  0\n",
      "Partial  142915\n",
      "Done : (Finished) 0 (Killed) 0\n",
      "Memory usage         :  228.50 MB\n",
      "File:  /home/sabine/Documents/Seafile/clusterdata-2011-2/task_events/part-00001-of-00500.csv.gz\n",
      "Invalid  0\n",
      "Partial  143084\n",
      "Done : (Finished) 0 (Killed) 0\n",
      "Memory usage         :  228.50 MB\n",
      "File:  /home/sabine/Documents/Seafile/clusterdata-2011-2/task_events/part-00002-of-00500.csv.gz\n",
      "Invalid  0\n",
      "Partial  148847\n",
      "Done : (Finished) 0 (Killed) 0\n",
      "Memory usage         :  228.50 MB\n",
      "File:  /home/sabine/Documents/Seafile/clusterdata-2011-2/task_events/part-00003-of-00500.csv.gz\n",
      "Invalid  0\n",
      "Partial  153148\n",
      "Done : (Finished) 0 (Killed) 0\n",
      "Memory usage         :  228.50 MB\n",
      "File:  /home/sabine/Documents/Seafile/clusterdata-2011-2/task_events/part-00004-of-00500.csv.gz\n",
      "Invalid  0\n",
      "Partial  148991\n",
      "Done : (Finished) 0 (Killed) 0\n",
      "Memory usage         :  228.50 MB\n",
      "File:  /home/sabine/Documents/Seafile/clusterdata-2011-2/task_events/part-00005-of-00500.csv.gz\n",
      "Invalid  0\n",
      "Partial  164342\n",
      "Done : (Finished) 0 (Killed) 0\n",
      "Memory usage         :  228.50 MB\n",
      "File:  /home/sabine/Documents/Seafile/clusterdata-2011-2/task_events/part-00006-of-00500.csv.gz\n",
      "Invalid  0\n",
      "Partial  160170\n",
      "Done : (Finished) 0 (Killed) 0\n",
      "Memory usage         :  228.50 MB\n",
      "File:  /home/sabine/Documents/Seafile/clusterdata-2011-2/task_events/part-00007-of-00500.csv.gz\n",
      "Invalid  0\n",
      "Partial  169326\n",
      "Done : (Finished) 0 (Killed) 0\n",
      "Memory usage         :  228.50 MB\n",
      "File:  /home/sabine/Documents/Seafile/clusterdata-2011-2/task_events/part-00008-of-00500.csv.gz\n",
      "Invalid  0\n",
      "Partial  168283\n",
      "Done : (Finished) 0 (Killed) 0\n",
      "Memory usage         :  228.50 MB\n",
      "File:  /home/sabine/Documents/Seafile/clusterdata-2011-2/task_events/part-00009-of-00500.csv.gz\n",
      "Invalid  0\n",
      "Partial  173386\n",
      "Done : (Finished) 0 (Killed) 0\n",
      "Memory usage         :  235.70 MB\n",
      "File:  /home/sabine/Documents/Seafile/clusterdata-2011-2/task_events/part-00010-of-00500.csv.gz\n",
      "Invalid  0\n",
      "Partial  173391\n",
      "Done : (Finished) 0 (Killed) 0\n",
      "Memory usage         :  235.70 MB\n",
      "File:  /home/sabine/Documents/Seafile/clusterdata-2011-2/task_events/part-00011-of-00500.csv.gz\n",
      "Invalid  0\n",
      "Partial  174973\n",
      "Done : (Finished) 0 (Killed) 0\n",
      "Memory usage         :  235.70 MB\n",
      "File:  /home/sabine/Documents/Seafile/clusterdata-2011-2/task_events/part-00012-of-00500.csv.gz\n",
      "Invalid  0\n",
      "Partial  180278\n",
      "Done : (Finished) 0 (Killed) 0\n",
      "Memory usage         :  240.30 MB\n",
      "File:  /home/sabine/Documents/Seafile/clusterdata-2011-2/task_events/part-00013-of-00500.csv.gz\n",
      "Invalid  0\n",
      "Partial  183994\n",
      "Done : (Finished) 0 (Killed) 0\n",
      "Memory usage         :  240.30 MB\n",
      "File:  /home/sabine/Documents/Seafile/clusterdata-2011-2/task_events/part-00014-of-00500.csv.gz\n",
      "Invalid  0\n",
      "Partial  187039\n",
      "Done : (Finished) 0 (Killed) 0\n",
      "Memory usage         :  273.30 MB\n",
      "File:  /home/sabine/Documents/Seafile/clusterdata-2011-2/task_events/part-00015-of-00500.csv.gz\n",
      "Invalid  0\n",
      "Partial  193520\n",
      "Done : (Finished) 0 (Killed) 0\n",
      "Memory usage         :  273.30 MB\n",
      "File:  /home/sabine/Documents/Seafile/clusterdata-2011-2/task_events/part-00016-of-00500.csv.gz\n",
      "Invalid  0\n",
      "Partial  211768\n",
      "Done : (Finished) 0 (Killed) 0\n",
      "Memory usage         :  275.20 MB\n",
      "File:  /home/sabine/Documents/Seafile/clusterdata-2011-2/task_events/part-00017-of-00500.csv.gz\n",
      "Invalid  0\n",
      "Partial  213706\n",
      "Done : (Finished) 0 (Killed) 0\n",
      "Memory usage         :  306.30 MB\n",
      "File:  /home/sabine/Documents/Seafile/clusterdata-2011-2/task_events/part-00018-of-00500.csv.gz\n",
      "Invalid  0\n",
      "Partial  216709\n",
      "Done : (Finished) 0 (Killed) 0\n",
      "Memory usage         :  417.60 MB\n",
      "File:  /home/sabine/Documents/Seafile/clusterdata-2011-2/task_events/part-00019-of-00500.csv.gz\n",
      "Invalid  0\n",
      "Partial  241961\n",
      "Done : (Finished) 0 (Killed) 0\n",
      "Memory usage         :  697.30 MB\n",
      "File:  /home/sabine/Documents/Seafile/clusterdata-2011-2/task_events/part-00020-of-00500.csv.gz\n",
      "Invalid  0\n",
      "Partial  220566\n",
      "Done : (Finished) 0 (Killed) 0\n",
      "Memory usage         :  767.00 MB\n",
      "File:  /home/sabine/Documents/Seafile/clusterdata-2011-2/task_events/part-00021-of-00500.csv.gz\n",
      "Invalid  0\n",
      "Partial  222930\n",
      "Done : (Finished) 0 (Killed) 0\n",
      "Memory usage         :  796.50 MB\n",
      "File:  /home/sabine/Documents/Seafile/clusterdata-2011-2/task_events/part-00022-of-00500.csv.gz\n",
      "Invalid  0\n",
      "Partial  222857\n",
      "Done : (Finished) 0 (Killed) 0\n",
      "Memory usage         :  796.50 MB\n",
      "File:  /home/sabine/Documents/Seafile/clusterdata-2011-2/task_events/part-00023-of-00500.csv.gz\n",
      "Invalid  0\n",
      "Partial  233363\n",
      "Done : (Finished) 0 (Killed) 0\n",
      "Memory usage         :  796.50 MB\n",
      "File:  /home/sabine/Documents/Seafile/clusterdata-2011-2/task_events/part-00024-of-00500.csv.gz\n",
      "Invalid  0\n",
      "Partial  229995\n",
      "Done : (Finished) 0 (Killed) 0\n",
      "Memory usage         :  796.50 MB\n",
      "File:  /home/sabine/Documents/Seafile/clusterdata-2011-2/task_events/part-00025-of-00500.csv.gz\n"
     ]
    },
    {
     "ename": "KeyboardInterrupt",
     "evalue": "",
     "output_type": "error",
     "traceback": [
      "\u001b[0;31m---------------------------------------------------------------------------\u001b[0m",
      "\u001b[0;31mKeyboardInterrupt\u001b[0m                         Traceback (most recent call last)",
      "\u001b[0;32m<ipython-input-58-b5a590004565>\u001b[0m in \u001b[0;36m<module>\u001b[0;34m\u001b[0m\n\u001b[1;32m      3\u001b[0m \u001b[0;32melse\u001b[0m\u001b[0;34m:\u001b[0m\u001b[0;34m\u001b[0m\u001b[0;34m\u001b[0m\u001b[0m\n\u001b[1;32m      4\u001b[0m     \u001b[0;32mwith\u001b[0m \u001b[0mopen\u001b[0m\u001b[0;34m(\u001b[0m\u001b[0mpreprocessing_file\u001b[0m\u001b[0;34m,\u001b[0m \u001b[0;34m'w'\u001b[0m\u001b[0;34m)\u001b[0m \u001b[0;32mas\u001b[0m \u001b[0mf\u001b[0m\u001b[0;34m:\u001b[0m\u001b[0;34m\u001b[0m\u001b[0;34m\u001b[0m\u001b[0m\n\u001b[0;32m----> 5\u001b[0;31m         \u001b[0m_\u001b[0m\u001b[0;34m,\u001b[0m \u001b[0mtemp_tasks\u001b[0m\u001b[0;34m,\u001b[0m \u001b[0m_\u001b[0m \u001b[0;34m=\u001b[0m \u001b[0mread_tasks\u001b[0m\u001b[0;34m(\u001b[0m\u001b[0mtasksFiles\u001b[0m\u001b[0;34m,\u001b[0m \u001b[0mf\u001b[0m\u001b[0;34m)\u001b[0m\u001b[0;34m\u001b[0m\u001b[0;34m\u001b[0m\u001b[0m\n\u001b[0m",
      "\u001b[0;32m<ipython-input-53-7556b688c273>\u001b[0m in \u001b[0;36mread_tasks\u001b[0;34m(tasksFiles, outfile)\u001b[0m\n\u001b[1;32m     43\u001b[0m         \u001b[0;32mwith\u001b[0m \u001b[0mgzip\u001b[0m\u001b[0;34m.\u001b[0m\u001b[0mopen\u001b[0m\u001b[0;34m(\u001b[0m\u001b[0mf\u001b[0m\u001b[0;34m,\u001b[0m \u001b[0;34m'rb'\u001b[0m\u001b[0;34m)\u001b[0m \u001b[0;32mas\u001b[0m \u001b[0mf\u001b[0m\u001b[0;34m:\u001b[0m\u001b[0;34m\u001b[0m\u001b[0;34m\u001b[0m\u001b[0m\n\u001b[1;32m     44\u001b[0m             \u001b[0;32mfor\u001b[0m \u001b[0mline\u001b[0m \u001b[0;32min\u001b[0m \u001b[0mf\u001b[0m\u001b[0;34m.\u001b[0m\u001b[0mreadlines\u001b[0m\u001b[0;34m(\u001b[0m\u001b[0;34m)\u001b[0m\u001b[0;34m:\u001b[0m\u001b[0;34m\u001b[0m\u001b[0;34m\u001b[0m\u001b[0m\n\u001b[0;32m---> 45\u001b[0;31m                 \u001b[0;34m(\u001b[0m\u001b[0mtimestamp\u001b[0m\u001b[0;34m,\u001b[0m\u001b[0m_\u001b[0m\u001b[0;34m,\u001b[0m\u001b[0mjID\u001b[0m\u001b[0;34m,\u001b[0m\u001b[0mtID\u001b[0m\u001b[0;34m,\u001b[0m\u001b[0m_\u001b[0m\u001b[0;34m,\u001b[0m\u001b[0mevtType\u001b[0m\u001b[0;34m,\u001b[0m\u001b[0m_\u001b[0m\u001b[0;34m,\u001b[0m\u001b[0mschedClass\u001b[0m\u001b[0;34m,\u001b[0m\u001b[0mprio\u001b[0m\u001b[0;34m,\u001b[0m\u001b[0m_\u001b[0m\u001b[0;34m,\u001b[0m\u001b[0m_\u001b[0m\u001b[0;34m,\u001b[0m\u001b[0m_\u001b[0m\u001b[0;34m,\u001b[0m\u001b[0m_\u001b[0m\u001b[0;34m)\u001b[0m\u001b[0;34m=\u001b[0m\u001b[0mline\u001b[0m\u001b[0;34m.\u001b[0m\u001b[0mdecode\u001b[0m\u001b[0;34m(\u001b[0m\u001b[0;34m\"ascii\"\u001b[0m\u001b[0;34m)\u001b[0m\u001b[0;34m.\u001b[0m\u001b[0msplit\u001b[0m\u001b[0;34m(\u001b[0m\u001b[0;34m','\u001b[0m\u001b[0;34m)\u001b[0m\u001b[0;34m\u001b[0m\u001b[0;34m\u001b[0m\u001b[0m\n\u001b[0m\u001b[1;32m     46\u001b[0m                 \u001b[0;32mtry\u001b[0m\u001b[0;34m:\u001b[0m\u001b[0;34m\u001b[0m\u001b[0;34m\u001b[0m\u001b[0m\n\u001b[1;32m     47\u001b[0m                     \u001b[0;32mif\u001b[0m\u001b[0;34m(\u001b[0m\u001b[0mevtType\u001b[0m \u001b[0;34m==\u001b[0m \u001b[0;34m'0'\u001b[0m\u001b[0;34m)\u001b[0m\u001b[0;34m:\u001b[0m\u001b[0;34m\u001b[0m\u001b[0;34m\u001b[0m\u001b[0m\n",
      "\u001b[0;31mKeyboardInterrupt\u001b[0m: "
     ]
    }
   ],
   "source": [
    "if os.path.exists(preprocessing_file):\n",
    "    print ('ERROR: please remove {} manually (no overwrite)'.format(preprocessing_file))\n",
    "else:\n",
    "    with open(preprocessing_file, 'w') as f:\n",
    "        _, temp_tasks, _ = read_tasks(tasksFiles, f)"
   ]
  },
  {
   "cell_type": "code",
   "execution_count": null,
   "metadata": {},
   "outputs": [],
   "source": [
    "mem()\n",
    "del temp_tasks\n",
    "gc.collect()\n",
    "mem()"
   ]
  },
  {
   "cell_type": "code",
   "execution_count": null,
   "metadata": {},
   "outputs": [],
   "source": [
    "classif, arrival = read_from_preprocessed(preprocessing_file, 1000*1000*5)\n",
    "mem()"
   ]
  },
  {
   "cell_type": "code",
   "execution_count": null,
   "metadata": {},
   "outputs": [],
   "source": [
    "print('Memory for classification : {} MB'.format(sys.getsizeof(classif['Good']) / 1024.0 / 1024.0))\n",
    "(len(classif['Good']), len(classif['Bad']))"
   ]
  },
  {
   "cell_type": "markdown",
   "metadata": {},
   "source": [
    "# Real code to backport after...\n",
    "K-means analysis..."
   ]
  },
  {
   "cell_type": "code",
   "execution_count": null,
   "metadata": {
    "jupyter": {
     "outputs_hidden": true
    }
   },
   "outputs": [],
   "source": []
  },
  {
   "cell_type": "code",
   "execution_count": null,
   "metadata": {},
   "outputs": [],
   "source": []
  }
 ],
 "metadata": {
  "kernelspec": {
   "display_name": "Python 3",
   "language": "python",
   "name": "python3"
  },
  "language_info": {
   "codemirror_mode": {
    "name": "ipython",
    "version": 3
   },
   "file_extension": ".py",
   "mimetype": "text/x-python",
   "name": "python",
   "nbconvert_exporter": "python",
   "pygments_lexer": "ipython3",
   "version": "3.6.9"
  }
 },
 "nbformat": 4,
 "nbformat_minor": 4
}
