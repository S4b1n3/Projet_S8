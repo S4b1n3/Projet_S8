{
 "cells": [
  {
   "cell_type": "markdown",
   "metadata": {},
   "source": [
    "# Google Traces Analysis\n"
   ]
  },
  {
   "cell_type": "code",
   "execution_count": 1,
   "metadata": {},
   "outputs": [],
   "source": [
    "#TRACES_BASE_PATH='/mnt/stockage/leo/google-traces/clusterdata-2011-2'\n",
    "TRACES_BASE_PATH='clusterdata-2011-2'\n",
    "TRACES_PREPROCESSED_PATH='preprocessed.csv'"
   ]
  },
  {
   "cell_type": "code",
   "execution_count": 2,
   "metadata": {
    "collapsed": true,
    "jupyter": {
     "outputs_hidden": true
    }
   },
   "outputs": [],
   "source": [
    "%matplotlib inline\n",
    "#import cython\n",
    "#%load_ext Cython"
   ]
  },
  {
   "cell_type": "code",
   "execution_count": 3,
   "metadata": {},
   "outputs": [],
   "source": [
    "import matplotlib.pyplot as plt\n",
    "import numpy as np\n",
    "from collections import defaultdict\n",
    "import os\n",
    "\n",
    "import pandas as pd\n",
    "import seaborn as sn\n",
    "\n",
    "figsize_base = (6.0, 4.0)\n",
    "plt.rcParams['figure.figsize'] = (6.0, 4.0)\n",
    "base_image_path = \"figures\"\n",
    "\n",
    "def save_fig(name, extension=\"pdf\", add_param={}):\n",
    "    plt.savefig(os.path.join(base_image_path, \"{}.{}\".format(name, extension)), bbox_inches=\"tight\", **add_param)\n"
   ]
  },
  {
   "cell_type": "code",
   "execution_count": 4,
   "metadata": {},
   "outputs": [],
   "source": [
    "MAIN_OUTPUT_DIR = 'final_output'\n",
    "\n",
    "# create and return a composed path...\n",
    "def output_file_autocreate(*paths, base=MAIN_OUTPUT_DIR):\n",
    "    dirpath = os.path.join(base, *paths[:-1])\n",
    "    os.makedirs(dirpath, exist_ok=True)\n",
    "    return os.path.join(dirpath, paths[-1])\n",
    "\n",
    "#ROOT_FIG_OUTPUT = 'final_output'\n",
    "def savefig_article(fig, *paths, root_output=MAIN_OUTPUT_DIR, lgd=None):\n",
    "    filename = output_file_autocreate(*paths, base=root_output)\n",
    "    extra = (lgd,) if lgd is not None else ()\n",
    "    fig.savefig(filename, bbox_extra_artists=extra, bbox_inches='tight')"
   ]
  },
  {
   "cell_type": "code",
   "execution_count": 5,
   "metadata": {},
   "outputs": [],
   "source": [
    "# a few default settings for good-looking figures\n",
    "DEFAULT_FIGSIZE_HALF=(4,3/5*4)\n",
    "DEFAULT_FIGSIZE_BORDERLINE=(5,3)"
   ]
  },
  {
   "cell_type": "code",
   "execution_count": 6,
   "metadata": {},
   "outputs": [],
   "source": [
    "import dask\n",
    "from dask import dataframe as daskdf"
   ]
  },
  {
   "cell_type": "code",
   "execution_count": 7,
   "metadata": {
    "collapsed": true,
    "jupyter": {
     "outputs_hidden": true
    }
   },
   "outputs": [],
   "source": [
    "#tracesPath='/var/tmp/clusterdata-2011-2'\n",
    "#tracesPath='/mnt/stockage/leo/google-traces/clusterdata-2011-2'\n",
    "#tasksNums = range(0,500)\n",
    "tasksNums = range(0,10)"
   ]
  },
  {
   "cell_type": "code",
   "execution_count": 8,
   "metadata": {
    "collapsed": true,
    "jupyter": {
     "outputs_hidden": true
    }
   },
   "outputs": [],
   "source": [
    "tasksFiles=list(map(lambda x: os.path.join(TRACES_BASE_PATH, 'task_events/part-'+str(x).zfill(5)+'-of-00500.csv.gz'), tasksNums))"
   ]
  },
  {
   "cell_type": "code",
   "execution_count": 9,
   "metadata": {},
   "outputs": [
    {
     "name": "stdout",
     "output_type": "stream",
     "text": [
      "clusterdata-2011-2/task_events/part-00000-of-00500.csv.gz\n",
      "to\n",
      "clusterdata-2011-2/task_events/part-00499-of-00500.csv.gz\n"
     ]
    }
   ],
   "source": [
    "print(tasksFiles[0])\n",
    "print('to')\n",
    "print(tasksFiles[-1])"
   ]
  },
  {
   "cell_type": "markdown",
   "metadata": {},
   "source": [
    "## Simple attempt to use Pandas\n",
    "Should allow compact reading..."
   ]
  },
  {
   "cell_type": "code",
   "execution_count": 10,
   "metadata": {},
   "outputs": [],
   "source": [
    "LIMITED_LOAD=False\n",
    "\n",
    "nrows=None\n",
    "if LIMITED_LOAD:\n",
    "    nrows = 100000"
   ]
  },
  {
   "cell_type": "code",
   "execution_count": 11,
   "metadata": {},
   "outputs": [],
   "source": [
    "col_names = ['lastevt', 'subtime', 'sclass', 'prio', 'diff', 'diffrel', 'mt']\n",
    "col_types = {\n",
    "    'lastevt': np.int8,\n",
    "    'subtime': np.int64,\n",
    "    'sclass': np.int8,\n",
    "    'prio': np.int8,\n",
    "    'diff': np.float32,\n",
    "    'diffrel': np.float32,\n",
    "    'mt': np.float32,\n",
    "}\n",
    "\n",
    "if False:\n",
    "    preproc_df = pd.read_csv(TRACES_PREPROCESSED_PATH, header=None, names=col_names, dtype=col_types, nrows=nrows)\n",
    "    # XXX do not use if arrival time is unknown (before traces begin)\n",
    "    # rational : make results wrong\n",
    "    preproc_df = preproc_df.loc[preproc_df.subtime > 0]"
   ]
  },
  {
   "cell_type": "code",
   "execution_count": 12,
   "metadata": {},
   "outputs": [
    {
     "name": "stdout",
     "output_type": "stream",
     "text": [
      "CPU times: user 67.8 ms, sys: 410 µs, total: 68.2 ms\n",
      "Wall time: 67.2 ms\n"
     ]
    }
   ],
   "source": [
    "%%time\n",
    "# temp\n",
    "delayed_preproc_df = daskdf.read_csv(TRACES_PREPROCESSED_PATH, header=None, names=col_names, dtype=col_types, nrows=nrows)"
   ]
  },
  {
   "cell_type": "code",
   "execution_count": 116,
   "metadata": {},
   "outputs": [
    {
     "data": {
      "text/plain": [
       "2505834.5"
      ]
     },
     "execution_count": 116,
     "metadata": {},
     "output_type": "execute_result"
    }
   ],
   "source": [
    "delayed_preproc_df['mt'].max().compute()"
   ]
  },
  {
   "cell_type": "code",
   "execution_count": 117,
   "metadata": {},
   "outputs": [
    {
     "data": {
      "text/plain": [
       "2505600"
      ]
     },
     "execution_count": 117,
     "metadata": {},
     "output_type": "execute_result"
    }
   ],
   "source": [
    "3600*24*29"
   ]
  },
  {
   "cell_type": "code",
   "execution_count": 27,
   "metadata": {},
   "outputs": [],
   "source": [
    "endevt = delayed_preproc_df.query('subtime > 0').groupby('lastevt')['diff'].count().compute()"
   ]
  },
  {
   "cell_type": "code",
   "execution_count": 28,
   "metadata": {},
   "outputs": [
    {
     "data": {
      "text/plain": [
       "{4: 18207839, 5: 9283627}"
      ]
     },
     "execution_count": 28,
     "metadata": {},
     "output_type": "execute_result"
    }
   ],
   "source": [
    "dict(endevt)"
   ]
  },
  {
   "cell_type": "code",
   "execution_count": 29,
   "metadata": {},
   "outputs": [
    {
     "data": {
      "text/plain": [
       "{0: 21020501, 1: 3383863, 2: 3002172, 3: 84930}"
      ]
     },
     "execution_count": 29,
     "metadata": {},
     "output_type": "execute_result"
    }
   ],
   "source": [
    "schedclasses = delayed_preproc_df.query('subtime > 0').groupby('sclass')['diff'].count().compute()\n",
    "dict(schedclasses)"
   ]
  },
  {
   "cell_type": "code",
   "execution_count": 30,
   "metadata": {},
   "outputs": [
    {
     "name": "stdout",
     "output_type": "stream",
     "text": [
      "CPU times: user 38.2 s, sys: 1.54 s, total: 39.7 s\n",
      "Wall time: 11.7 s\n"
     ]
    }
   ],
   "source": [
    "%%time\n",
    "combinations = delayed_preproc_df.query('subtime > 0').groupby(['sclass', 'prio'])['diff'].count().compute()\n",
    "dict(combinations)"
   ]
  },
  {
   "cell_type": "code",
   "execution_count": 113,
   "metadata": {},
   "outputs": [],
   "source": [
    "def compute_mass_at_time(delayed_df, resolution=10000):\n",
    "    #NB_INDEX_MAX = 10000\n",
    "    #mass_at_time = [0]*(resolution+1)\n",
    "    mass_at_time = np.array([0]*(resolution+1), dtype=np.int32)\n",
    "    \n",
    "    # itterating over rows is too costly, get them as array and manipulate them (more memory, but acceptable for ~30M tasks)\n",
    "    subtimes = (delayed_df.subtime / 1000000).compute()\n",
    "    endtimes = subtimes + delayed_df.mt.compute()\n",
    "    \n",
    "    submin = min(subtimes)\n",
    "    submax = max(subtimes)\n",
    "\n",
    "    def time_to_idx(time, mintime=submin, maxtime=submax, maxidx=resolution):\n",
    "        return int((time - mintime) / (maxtime - mintime) * maxidx)\n",
    "\n",
    "    for subtime, endtime in zip(subtimes, endtimes): #delayed_preproc_df.query('lastevt == 4').iterrows():\n",
    "        #subtime = row.subtime / 1000000\n",
    "        #endtime = row.mt + subtime\n",
    "        \n",
    "        mass_at_time[time_to_idx(subtime):time_to_idx(endtime)+1] += 1\n",
    "\n",
    "        #for i in range(time_to_idx(subtime), time_to_idx(endtime)+1):\n",
    "        #    mass_at_time[i] += 1\n",
    "            \n",
    "    times = (np.arange(resolution+1)*(submax - submin) + submin)/(resolution)\n",
    "    return times, mass_at_time\n"
   ]
  },
  {
   "cell_type": "code",
   "execution_count": 120,
   "metadata": {},
   "outputs": [
    {
     "name": "stdout",
     "output_type": "stream",
     "text": [
      "CPU times: user 3min 18s, sys: 4.55 s, total: 3min 22s\n",
      "Wall time: 2min 37s\n"
     ]
    }
   ],
   "source": [
    "%%time\n",
    "# Finish event: 4 (including already submitted tasks) -> subtime > 0 and ...\n",
    "mass_finish = compute_mass_at_time(delayed_preproc_df.query('lastevt == 4'), resolution=30*24*60)"
   ]
  },
  {
   "cell_type": "code",
   "execution_count": 144,
   "metadata": {},
   "outputs": [
    {
     "data": {
      "image/png": "[encoded data removed]",
      "text/plain": [
       "<Figure size 288x172.8 with 1 Axes>"
      ]
     },
     "metadata": {},
     "output_type": "display_data"
    }
   ],
   "source": [
    "fig, ax = plt.subplots(figsize=DEFAULT_FIGSIZE_HALF)\n",
    "times, mass = mass_finish\n",
    "ax.plot(times/(3600*24), mass/10000, linewidth=0.6)\n",
    "ax.set_xlim(0,30)\n",
    "ax.set_ylim(0,7)\n",
    "ax.set_xlabel('Time (days)')\n",
    "#ax.yaxis.get_major_formatter().set_powerlimits((-4,3))\n",
    "ax.set_ylabel('Number of tasks ($10^4$)')\n",
    "savefig_article(fig, 'mass_finished.pdf')"
   ]
  },
  {
   "cell_type": "code",
   "execution_count": 121,
   "metadata": {},
   "outputs": [
    {
     "name": "stdout",
     "output_type": "stream",
     "text": [
      "CPU times: user 2min 16s, sys: 3.87 s, total: 2min 20s\n",
      "Wall time: 1min 35s\n"
     ]
    }
   ],
   "source": [
    "%%time\n",
    "# Kill event: 5, including the tasks starting before the window...\n",
    "mass_killed = compute_mass_at_time(delayed_preproc_df.query('lastevt == 5'), resolution=30*24*60)"
   ]
  },
  {
   "cell_type": "code",
   "execution_count": 143,
   "metadata": {},
   "outputs": [
    {
     "data": {
      "image/png": "[encoded data removed]",
      "text/plain": [
       "<Figure size 288x172.8 with 1 Axes>"
      ]
     },
     "metadata": {},
     "output_type": "display_data"
    }
   ],
   "source": [
    "fig, ax = plt.subplots(figsize=DEFAULT_FIGSIZE_HALF)\n",
    "times, mass = mass_killed\n",
    "ax.plot(times/(3600*24), mass/10000, linewidth=0.6)\n",
    "ax.set_xlim(0,30)\n",
    "ax.set_ylim(0,7)\n",
    "ax.set_xlabel('Time (days)')\n",
    "#ax.yaxis.get_major_formatter().set_powerlimits((-4,3))\n",
    "ax.set_ylabel('Number of tasks ($10^4$)')\n",
    "savefig_article(fig, 'mass_killed.pdf')"
   ]
  },
  {
   "cell_type": "code",
   "execution_count": 147,
   "metadata": {},
   "outputs": [
    {
     "data": {
      "text/plain": [
       "count    2.755278e+07\n",
       "mean     2.102070e+02\n",
       "std      2.568105e+03\n",
       "min      0.000000e+00\n",
       "25%      2.110590e+00\n",
       "50%      4.584013e+00\n",
       "75%      4.113106e+01\n",
       "max      1.196001e+06\n",
       "dtype: float64"
      ]
     },
     "execution_count": 147,
     "metadata": {},
     "output_type": "execute_result"
    }
   ],
   "source": [
    "delayed_preproc_df['diff'].describe().compute()"
   ]
  },
  {
   "cell_type": "code",
   "execution_count": 148,
   "metadata": {},
   "outputs": [
    {
     "data": {
      "text/plain": [
       "count    27552781.0\n",
       "mean            0.0\n",
       "std             0.0\n",
       "min             0.0\n",
       "25%             0.0\n",
       "50%             0.0\n",
       "75%             0.0\n",
       "max             0.0\n",
       "dtype: float64"
      ]
     },
     "execution_count": 148,
     "metadata": {},
     "output_type": "execute_result"
    }
   ],
   "source": [
    "delayed_preproc_df['diffrel'].describe().compute()"
   ]
  },
  {
   "cell_type": "code",
   "execution_count": 35,
   "metadata": {},
   "outputs": [
    {
     "name": "stdout",
     "output_type": "stream",
     "text": [
      "CPU times: user 1min 21s, sys: 4.87 s, total: 1min 26s\n",
      "Wall time: 31.6 s\n"
     ]
    }
   ],
   "source": [
    "%%time\n",
    "means = delayed_preproc_df.query('subtime > 0').groupby('prio')['mt'].mean().compute()\n",
    "stds = delayed_preproc_df.query('subtime > 0').groupby('prio')['mt'].std().compute()"
   ]
  },
  {
   "cell_type": "code",
   "execution_count": 39,
   "metadata": {},
   "outputs": [],
   "source": [
    "# no prio 7 and 11 in original paper\n",
    "means = dict(means)\n",
    "means[7] = 0\n",
    "means[11] = 0\n",
    "stds = dict(stds)\n",
    "stds[7] = 0\n",
    "stds[11] = 0"
   ]
  },
  {
   "cell_type": "code",
   "execution_count": 45,
   "metadata": {},
   "outputs": [
    {
     "data": {
      "image/png": "[encoded data removed]",
      "text/plain": [
       "<Figure size 360x216 with 1 Axes>"
      ]
     },
     "metadata": {},
     "output_type": "display_data"
    }
   ],
   "source": [
    "fig, ax = plt.subplots(figsize=DEFAULT_FIGSIZE_BORDERLINE)\n",
    "#fig.set_size_inches(10.0, 5.0)\n",
    "#plt.title('Distribution of priority groups for each scheduling class for finishing tasks')\n",
    "\n",
    "xes = np.arange(12)\n",
    "yes = [means.get(x, 0) for x in xes]\n",
    "#errs = [stds.get(x, 0) for x in xes]\n",
    "errs = None\n",
    "\n",
    "ind = np.arange(4)\n",
    "width = 0.75\n",
    "rects = []\n",
    "#for i in range(4):\n",
    "rects.append(ax.bar(xes, yes, width=width, yerr=errs, color='cornflowerblue', edgecolor='none', zorder=4))#sclasses_colors[i]))\n",
    "\n",
    "\n",
    "ax.set_xticks(xes)\n",
    "ax.set_xlabel('Priority value')\n",
    "ax.set_ylabel('Duration (seconds, log scale)')\n",
    "ax.set_yscale('log')\n",
    "ax.grid(axis='y')\n",
    "#ax.set_xticklabels(['Free', 'Normal', 'Production', 'Monitoring'])\n",
    "#ax.legend(tuple([rect[0] for rect in rects]), ('0 (Lowest)', '1 (Low)', '2 (Middle)', '3 (High)'),fontsize='medium')\n",
    "savefig_article(fig, 'makespan_priorities.pdf')"
   ]
  },
  {
   "cell_type": "code",
   "execution_count": 52,
   "metadata": {},
   "outputs": [
    {
     "data": {
      "text/plain": [
       "prio\n",
       "0      8294770\n",
       "1      2540118\n",
       "2      1111212\n",
       "3         1049\n",
       "4     14401273\n",
       "5          104\n",
       "6       634117\n",
       "7          515\n",
       "8       250680\n",
       "9       247362\n",
       "10        9005\n",
       "11        1261\n",
       "Name: mt, dtype: int64"
      ]
     },
     "execution_count": 52,
     "metadata": {},
     "output_type": "execute_result"
    }
   ],
   "source": [
    "#preproc_df.groupby('prio').count()\n",
    "prio_ordered.count()"
   ]
  },
  {
   "cell_type": "code",
   "execution_count": 65,
   "metadata": {},
   "outputs": [],
   "source": [
    "sclass_ordered = preproc_df.groupby('sclass')"
   ]
  },
  {
   "cell_type": "code",
   "execution_count": 67,
   "metadata": {},
   "outputs": [
    {
     "data": {
      "text/html": [
       "<div>\n",
       "<style scoped>\n",
       "    .dataframe tbody tr th:only-of-type {\n",
       "        vertical-align: middle;\n",
       "    }\n",
       "\n",
       "    .dataframe tbody tr th {\n",
       "        vertical-align: top;\n",
       "    }\n",
       "\n",
       "    .dataframe thead tr th {\n",
       "        text-align: left;\n",
       "    }\n",
       "\n",
       "    .dataframe thead tr:last-of-type th {\n",
       "        text-align: right;\n",
       "    }\n",
       "</style>\n",
       "<table border=\"1\" class=\"dataframe\">\n",
       "  <thead>\n",
       "    <tr>\n",
       "      <th></th>\n",
       "      <th colspan=\"8\" halign=\"left\">diff</th>\n",
       "      <th colspan=\"2\" halign=\"left\">diffrel</th>\n",
       "      <th>...</th>\n",
       "      <th colspan=\"2\" halign=\"left\">prio</th>\n",
       "      <th colspan=\"8\" halign=\"left\">subtime</th>\n",
       "    </tr>\n",
       "    <tr>\n",
       "      <th></th>\n",
       "      <th>count</th>\n",
       "      <th>mean</th>\n",
       "      <th>std</th>\n",
       "      <th>min</th>\n",
       "      <th>25%</th>\n",
       "      <th>50%</th>\n",
       "      <th>75%</th>\n",
       "      <th>max</th>\n",
       "      <th>count</th>\n",
       "      <th>mean</th>\n",
       "      <th>...</th>\n",
       "      <th>75%</th>\n",
       "      <th>max</th>\n",
       "      <th>count</th>\n",
       "      <th>mean</th>\n",
       "      <th>std</th>\n",
       "      <th>min</th>\n",
       "      <th>25%</th>\n",
       "      <th>50%</th>\n",
       "      <th>75%</th>\n",
       "      <th>max</th>\n",
       "    </tr>\n",
       "    <tr>\n",
       "      <th>sclass</th>\n",
       "      <th></th>\n",
       "      <th></th>\n",
       "      <th></th>\n",
       "      <th></th>\n",
       "      <th></th>\n",
       "      <th></th>\n",
       "      <th></th>\n",
       "      <th></th>\n",
       "      <th></th>\n",
       "      <th></th>\n",
       "      <th></th>\n",
       "      <th></th>\n",
       "      <th></th>\n",
       "      <th></th>\n",
       "      <th></th>\n",
       "      <th></th>\n",
       "      <th></th>\n",
       "      <th></th>\n",
       "      <th></th>\n",
       "      <th></th>\n",
       "      <th></th>\n",
       "    </tr>\n",
       "  </thead>\n",
       "  <tbody>\n",
       "    <tr>\n",
       "      <th>0</th>\n",
       "      <td>21020501.0</td>\n",
       "      <td>211.084564</td>\n",
       "      <td>2681.270020</td>\n",
       "      <td>0.0</td>\n",
       "      <td>1.872334</td>\n",
       "      <td>3.435915</td>\n",
       "      <td>8.683184</td>\n",
       "      <td>3.281432e+05</td>\n",
       "      <td>21020501.0</td>\n",
       "      <td>0.0</td>\n",
       "      <td>...</td>\n",
       "      <td>4.0</td>\n",
       "      <td>10.0</td>\n",
       "      <td>21020501.0</td>\n",
       "      <td>1.273265e+12</td>\n",
       "      <td>7.303474e+11</td>\n",
       "      <td>604046181.0</td>\n",
       "      <td>6.901668e+11</td>\n",
       "      <td>1.330341e+12</td>\n",
       "      <td>1.927352e+12</td>\n",
       "      <td>2.506179e+12</td>\n",
       "    </tr>\n",
       "    <tr>\n",
       "      <th>1</th>\n",
       "      <td>3383863.0</td>\n",
       "      <td>228.079407</td>\n",
       "      <td>738.211914</td>\n",
       "      <td>0.0</td>\n",
       "      <td>1.678130</td>\n",
       "      <td>2.783097</td>\n",
       "      <td>25.770804</td>\n",
       "      <td>1.827872e+04</td>\n",
       "      <td>3383863.0</td>\n",
       "      <td>0.0</td>\n",
       "      <td>...</td>\n",
       "      <td>4.0</td>\n",
       "      <td>10.0</td>\n",
       "      <td>3383863.0</td>\n",
       "      <td>1.414938e+12</td>\n",
       "      <td>7.736732e+11</td>\n",
       "      <td>604046280.0</td>\n",
       "      <td>6.779927e+11</td>\n",
       "      <td>1.554048e+12</td>\n",
       "      <td>2.169322e+12</td>\n",
       "      <td>2.506103e+12</td>\n",
       "    </tr>\n",
       "    <tr>\n",
       "      <th>2</th>\n",
       "      <td>3002172.0</td>\n",
       "      <td>187.041641</td>\n",
       "      <td>3087.647217</td>\n",
       "      <td>0.0</td>\n",
       "      <td>1.362919</td>\n",
       "      <td>1.725464</td>\n",
       "      <td>2.767650</td>\n",
       "      <td>1.196001e+06</td>\n",
       "      <td>3002172.0</td>\n",
       "      <td>0.0</td>\n",
       "      <td>...</td>\n",
       "      <td>0.0</td>\n",
       "      <td>11.0</td>\n",
       "      <td>3002172.0</td>\n",
       "      <td>1.277454e+12</td>\n",
       "      <td>7.168287e+11</td>\n",
       "      <td>600819259.0</td>\n",
       "      <td>6.427779e+11</td>\n",
       "      <td>1.329190e+12</td>\n",
       "      <td>1.875953e+12</td>\n",
       "      <td>2.506187e+12</td>\n",
       "    </tr>\n",
       "    <tr>\n",
       "      <th>3</th>\n",
       "      <td>84930.0</td>\n",
       "      <td>230.696167</td>\n",
       "      <td>1065.754761</td>\n",
       "      <td>0.0</td>\n",
       "      <td>2.315758</td>\n",
       "      <td>22.951664</td>\n",
       "      <td>44.425869</td>\n",
       "      <td>4.963859e+04</td>\n",
       "      <td>84930.0</td>\n",
       "      <td>0.0</td>\n",
       "      <td>...</td>\n",
       "      <td>9.0</td>\n",
       "      <td>10.0</td>\n",
       "      <td>84930.0</td>\n",
       "      <td>1.116117e+12</td>\n",
       "      <td>7.572013e+11</td>\n",
       "      <td>613709369.0</td>\n",
       "      <td>3.115003e+11</td>\n",
       "      <td>1.132379e+12</td>\n",
       "      <td>1.859885e+12</td>\n",
       "      <td>2.499885e+12</td>\n",
       "    </tr>\n",
       "  </tbody>\n",
       "</table>\n",
       "<p>4 rows × 48 columns</p>\n",
       "</div>"
      ],
      "text/plain": [
       "              diff                                                     \\\n",
       "             count        mean          std  min       25%        50%   \n",
       "sclass                                                                  \n",
       "0       21020501.0  211.084564  2681.270020  0.0  1.872334   3.435915   \n",
       "1        3383863.0  228.079407   738.211914  0.0  1.678130   2.783097   \n",
       "2        3002172.0  187.041641  3087.647217  0.0  1.362919   1.725464   \n",
       "3          84930.0  230.696167  1065.754761  0.0  2.315758  22.951664   \n",
       "\n",
       "                                    diffrel           ...      prio        \\\n",
       "              75%           max       count mean      ...       75%   max   \n",
       "sclass                                                ...                   \n",
       "0        8.683184  3.281432e+05  21020501.0  0.0      ...       4.0  10.0   \n",
       "1       25.770804  1.827872e+04   3383863.0  0.0      ...       4.0  10.0   \n",
       "2        2.767650  1.196001e+06   3002172.0  0.0      ...       0.0  11.0   \n",
       "3       44.425869  4.963859e+04     84930.0  0.0      ...       9.0  10.0   \n",
       "\n",
       "           subtime                                                         \\\n",
       "             count          mean           std          min           25%   \n",
       "sclass                                                                      \n",
       "0       21020501.0  1.273265e+12  7.303474e+11  604046181.0  6.901668e+11   \n",
       "1        3383863.0  1.414938e+12  7.736732e+11  604046280.0  6.779927e+11   \n",
       "2        3002172.0  1.277454e+12  7.168287e+11  600819259.0  6.427779e+11   \n",
       "3          84930.0  1.116117e+12  7.572013e+11  613709369.0  3.115003e+11   \n",
       "\n",
       "                                                  \n",
       "                 50%           75%           max  \n",
       "sclass                                            \n",
       "0       1.330341e+12  1.927352e+12  2.506179e+12  \n",
       "1       1.554048e+12  2.169322e+12  2.506103e+12  \n",
       "2       1.329190e+12  1.875953e+12  2.506187e+12  \n",
       "3       1.132379e+12  1.859885e+12  2.499885e+12  \n",
       "\n",
       "[4 rows x 48 columns]"
      ]
     },
     "execution_count": 67,
     "metadata": {},
     "output_type": "execute_result"
    }
   ],
   "source": [
    "sclass_ordered.describe()"
   ]
  },
  {
   "cell_type": "markdown",
   "metadata": {},
   "source": [
    "## Some stuff with priority groups\n",
    "The documentation is still WTF...\n",
    "In previous work, we used the following for groups (from Free to Monitoring): [range(0, 2), range(2, 9), [9, 11], [10]]"
   ]
  },
  {
   "cell_type": "code",
   "execution_count": 152,
   "metadata": {
    "collapsed": true,
    "jupyter": {
     "outputs_hidden": true
    }
   },
   "outputs": [
    {
     "name": "stdout",
     "output_type": "stream",
     "text": [
      "Done Good prio Free\n",
      "Done Good prio Normal\n",
      "Done Good prio Production\n",
      "Done Good prio Monitoring\n",
      "Done Bad prio Free\n",
      "Done Bad prio Normal\n",
      "Done Bad prio Production\n",
      "Done Bad prio Monitoring\n"
     ]
    }
   ],
   "source": [
    "# Prepare only the average for next figure (reversed classification)\n",
    "query_type = {\n",
    "    'Good': 'lastevt == 4',\n",
    "    'Bad': 'lastevt == 5',\n",
    "}\n",
    "\n",
    "query_priogroup = {\n",
    "    'Free': 'prio < 2',\n",
    "    'Normal': 'prio >= 3 and prio < 9',\n",
    "    'Production': 'prio == 9 or prio == 11',\n",
    "    'Monitoring': 'prio == 10'\n",
    "}\n",
    "\n",
    "average_all_gprio = {}\n",
    "\n",
    "for etype in ['Good', 'Bad']:\n",
    "    tmp = []\n",
    "    for g in ['Free', 'Normal', 'Production', 'Monitoring']:\n",
    "        tmp.append(delayed_preproc_df.query('({}) and ({})'.format(query_type[etype], query_priogroup[g]))['mt'].mean().compute())\n",
    "        print('Done {} prio {}'.format(etype, g))\n",
    "    average_all_gprio[etype] = tmp"
   ]
  },
  {
   "cell_type": "code",
   "execution_count": 165,
   "metadata": {},
   "outputs": [
    {
     "data": {
      "image/png": "[encoded data removed]",
      "text/plain": [
       "<Figure size 360x216 with 1 Axes>"
      ]
     },
     "metadata": {},
     "output_type": "display_data"
    }
   ],
   "source": [
    "fig, ax = plt.subplots(figsize=DEFAULT_FIGSIZE_BORDERLINE)\n",
    "#plt.title('Average makespan for each priority')\n",
    "ax.set_yscale('log', nonposy='clip')\n",
    "ax.set_ylabel('Makespan (s)')\n",
    "plt.xticks(range(4), ['Free', 'Normal', 'Production', 'Monitoring'])\n",
    "\n",
    "#plt.bar(np.arange(4)-0.3, gprio_makespan_average, yerr=gprio_makespan_std, color='y', width=0.6)\n",
    "ax.bar(np.arange(4)-0.3, average_all_gprio['Good'], color='tab:green', width=0.3, label='Finish', edgecolor='black')\n",
    "ax.bar(np.arange(4), average_all_gprio['Bad'], color='cornflowerblue', width=0.3, label='Kill', edgecolor='black')\n",
    "\n",
    "ax.set_ybound(10)\n",
    "#plt.legend(loc=\"right\", fontsize='medium')\n",
    "plt.legend()\n",
    "#save_fig(\"makespan_average_finish_kill\")\n",
    "savefig_article(fig, 'makespan_prio_groups.pdf')"
   ]
  },
  {
   "cell_type": "code",
   "execution_count": 166,
   "metadata": {},
   "outputs": [
    {
     "data": {
      "text/plain": [
       "493.98602040557023"
      ]
     },
     "execution_count": 166,
     "metadata": {},
     "output_type": "execute_result"
    }
   ],
   "source": [
    "average_all_gprio['Good'][2]"
   ]
  },
  {
   "cell_type": "code",
   "execution_count": 167,
   "metadata": {},
   "outputs": [
    {
     "data": {
      "text/plain": [
       "229288.96217457953"
      ]
     },
     "execution_count": 167,
     "metadata": {},
     "output_type": "execute_result"
    }
   ],
   "source": [
    "average_all_gprio['Bad'][2]"
   ]
  },
  {
   "cell_type": "markdown",
   "metadata": {},
   "source": [
    "### Histograms..."
   ]
  },
  {
   "cell_type": "code",
   "execution_count": 168,
   "metadata": {},
   "outputs": [],
   "source": [
    "makespans_killed = delayed_preproc_df.query(query_type['Bad'])['mt'].compute()"
   ]
  },
  {
   "cell_type": "code",
   "execution_count": 175,
   "metadata": {},
   "outputs": [
    {
     "data": {
      "image/png": "[encoded data removed]",
      "text/plain": [
       "<Figure size 288x172.8 with 1 Axes>"
      ]
     },
     "metadata": {},
     "output_type": "display_data"
    }
   ],
   "source": [
    "fig, ax = plt.subplots(figsize=DEFAULT_FIGSIZE_HALF)\n",
    "\n",
    "#plt.title('Distribution of makespan for killed tasks')\n",
    "plt.yscale('log', nonposy='clip')\n",
    "plt.hist(makespans_killed/3600,100)\n",
    "plt.xlabel('Time (hours)')\n",
    "plt.ylabel('Number of tasks')\n",
    "ax.set_xlim(-1,700)\n",
    "#save_fig(\"makespan_histo_kill\")\n",
    "savefig_article(fig, 'makespan_histo_killed.pdf')"
   ]
  },
  {
   "cell_type": "code",
   "execution_count": 176,
   "metadata": {},
   "outputs": [],
   "source": [
    "makespans_finished = delayed_preproc_df.query(query_type['Good'])['mt'].compute()"
   ]
  },
  {
   "cell_type": "code",
   "execution_count": 182,
   "metadata": {},
   "outputs": [
    {
     "data": {
      "image/png": "[encoded data removed]",
      "text/plain": [
       "<Figure size 288x172.8 with 1 Axes>"
      ]
     },
     "metadata": {},
     "output_type": "display_data"
    }
   ],
   "source": [
    "fig, ax = plt.subplots(figsize=DEFAULT_FIGSIZE_HALF)\n",
    "\n",
    "#plt.title('Distribution of makespan for killed tasks')\n",
    "plt.yscale('log', nonposy='clip')\n",
    "plt.hist(makespans_finished/3600, 100)#, color='tab:orange')\n",
    "plt.xlabel('Time (hours)')\n",
    "plt.ylabel('Number of tasks')\n",
    "ax.set_xlim(-0.5,140)\n",
    "#save_fig(\"makespan_histo_kill\")\n",
    "savefig_article(fig, 'makespan_histo_finished.pdf')"
   ]
  },
  {
   "cell_type": "markdown",
   "metadata": {},
   "source": [
    "# K-means analysis\n",
    "Clustering of tasks on makespan, prio, sclass.\n",
    "Using sklearn for several reasons (better tools, results and efficiency)."
   ]
  },
  {
   "cell_type": "code",
   "execution_count": 13,
   "metadata": {
    "collapsed": true,
    "jupyter": {
     "outputs_hidden": true
    }
   },
   "outputs": [],
   "source": [
    "from numpy import array\n",
    "from scipy.cluster.vq import vq, kmeans, kmeans2, whiten\n",
    "import random\n",
    "\n",
    "\n",
    "from mpl_toolkits.mplot3d import Axes3D"
   ]
  },
  {
   "cell_type": "code",
   "execution_count": 14,
   "metadata": {
    "collapsed": true,
    "jupyter": {
     "outputs_hidden": true
    }
   },
   "outputs": [],
   "source": [
    "from sklearn.datasets import make_blobs\n",
    "from sklearn.cluster import KMeans\n",
    "from sklearn.metrics import silhouette_samples, silhouette_score\n",
    "\n",
    "import matplotlib.pyplot as plt\n",
    "import matplotlib.cm as cm"
   ]
  },
  {
   "cell_type": "code",
   "execution_count": 28,
   "metadata": {
    "collapsed": true,
    "jupyter": {
     "outputs_hidden": true
    }
   },
   "outputs": [],
   "source": [
    "# adapted for our new pandas based processing and co...\n",
    "def prepare_data_kmeans(df):\n",
    "    items = df[['mt', 'prio', 'sclass']].to_numpy()\n",
    "    stds = np.std(items, 0)    \n",
    "    \n",
    "    whiten_items = np.divide(items, stds)\n",
    "    return (whiten_items, 10, std_items)\n",
    "    \n",
    "\n",
    "def do_kmeans_analysis2(k, whiten, good_nb, std_items, postprocess_func=None):\n",
    "    nbcluster = k\n",
    "    \n",
    "    #centroids_whiten, distortion = kmeans(whiten, nbcluster)\n",
    "    #idx,_ = vq(whiten, centroids_whiten)\n",
    "\n",
    "    resolv = KMeans(k)\n",
    "    resolv.fit(whiten)\n",
    "    idx = resolv.predict(whiten)\n",
    "    centroids_whiten = resolv.cluster_centers_\n",
    "    distortion = resolv.score(whiten)\n",
    "    \n",
    "    \n",
    "    # XXX : we suppose the full whiten array is a concatenation of [good, bad] arrays\n",
    "    goodones = idx[:good_nb]\n",
    "    badones = idx[good_nb:]\n",
    "    \n",
    "    centroids = np.multiply(centroids_whiten, std_items)\n",
    "    \n",
    "    print('For {}-means, distortion = {}'.format(k, distortion))\n",
    "    for c in centroids:\n",
    "        print('\\t centroid : {}'.format(c))\n",
    "        \n",
    "    # distribution between the two groups\n",
    "    print('Rate between Finished ane Killed tasks for the different clusters')\n",
    "    for i in range(k):\n",
    "        rate = lambda i, x: (x == i).sum() / float(len(x)) * 100.0\n",
    "        print('Group {0}  : ({1:.3f}%, {2:.3f}%)'.format(i, rate(i, goodones), rate(i, badones)))\n",
    "\n",
    "\n",
    "    format_centroid = lambda c: '[makespan {0:.2f}, prio {1:.3f}, sclass {2:.3f}]'.format(*c)\n",
    "    for i in range(k):\n",
    "        nb = (idx == i).sum()\n",
    "        print('Centroid {0}, nb = {1}'.format(format_centroid(centroids[i]), nb))\n",
    "\n",
    "    if postprocess_func is not None:\n",
    "        postprocess_func(k, whiten, std_items, resolv)\n",
    "    \n",
    "    # TODO here\n",
    "    return (k, whiten, std_items, resolv)"
   ]
  },
  {
   "cell_type": "code",
   "execution_count": 29,
   "metadata": {
    "collapsed": true,
    "jupyter": {
     "outputs_hidden": true
    }
   },
   "outputs": [],
   "source": [
    "# almost a copy-past from http://scikit-learn.org/stable/auto_examples/cluster/plot_kmeans_silhouette_analysis.html\n",
    "def show_silouhette(k, whiten, std_items, resolv, plot_samples=5000, xlim=[-0.05, 1]):\n",
    "    X = whiten\n",
    "    n_clusters = k\n",
    "    # Create a subplot with 1 row and 2 columns\n",
    "    fig, ax1 = plt.subplots(1, 1)\n",
    "    #fig.set_size_inches(18, 7)\n",
    "    \n",
    "    plot_samples = len(X) if plot_samples is None else plot_samples\n",
    "\n",
    "    # The 1st subplot is the silhouette plot\n",
    "    # The silhouette coefficient can range from -1, 1 but in this example all\n",
    "    # lie within [-0.1, 1]\n",
    "    ax1.set_xlim(xlim)\n",
    "    # The (n_clusters+1)*10 is for inserting blank space between silhouette\n",
    "    # plots of individual clusters, to demarcate them clearly.\n",
    "    ax1.set_ylim([0, plot_samples + (n_clusters + 1) * 10])\n",
    "\n",
    "    clusterer = resolv\n",
    "    cluster_labels = clusterer.fit_predict(X)\n",
    "\n",
    "    # The silhouette_score gives the average value for all the samples.\n",
    "    # This gives a perspective into the density and separation of the formed\n",
    "    # clusters\n",
    "    \n",
    "    sample =  np.random.choice(X.shape[0], plot_samples, replace=False)\n",
    "    print(str(X.shape))\n",
    "    print(str(sample.shape))\n",
    "    X_resamp = X[sample]\n",
    "    cluster_labels = cluster_labels[sample]\n",
    "    \n",
    "    silhouette_avg = silhouette_score(X_resamp, cluster_labels)\n",
    "    print(\"For n_clusters =\", n_clusters,\n",
    "          \"The average silhouette_score is :\", silhouette_avg)\n",
    "\n",
    "    # Compute the silhouette scores for each sample\n",
    "    sample_silhouette_values = silhouette_samples(X_resamp, cluster_labels)\n",
    "\n",
    "    y_lower = 10\n",
    "    for i in range(n_clusters):\n",
    "        # Aggregate the silhouette scores for samples belonging to\n",
    "        # cluster i, and sort them\n",
    "        ith_cluster_silhouette_values = \\\n",
    "            sample_silhouette_values[cluster_labels == i]\n",
    "            \n",
    "        #print(str(ith_cluster_silhouette_values.shape))\n",
    "\n",
    "        ith_cluster_silhouette_values.sort()\n",
    "\n",
    "        size_cluster_i = ith_cluster_silhouette_values.shape[0]\n",
    "        y_upper = y_lower + size_cluster_i\n",
    "\n",
    "        #color = cm.spectral(float(i) / n_clusters)\n",
    "        color = cm.cividis(float(i) / n_clusters)\n",
    "        ax1.fill_betweenx(np.arange(y_lower, y_upper),\n",
    "                          0, ith_cluster_silhouette_values,\n",
    "                          facecolor=color, edgecolor=color, alpha=0.7)\n",
    "\n",
    "        # Label the silhouette plots with their cluster numbers at the middle\n",
    "        ax1.text(-0.05, y_lower + 0.5 * size_cluster_i, str(i))\n",
    "\n",
    "        # Compute the new y_lower for next plot\n",
    "        y_lower = y_upper + 10  # 10 for the 0 samples\n",
    "\n",
    "    #ax1.set_title(\"Silhouette plot for the 4-cluster\")\n",
    "    ax1.set_xlabel(\"Silhouette coefficient values\")\n",
    "    ax1.set_ylabel(\"Cluster label\")\n",
    "\n",
    "    # The vertical line for average silhouette score of all the values\n",
    "    ax1.axvline(x=silhouette_avg, color=\"red\", linestyle=\"--\")\n",
    "\n",
    "    ax1.set_yticks([])  # Clear the yaxis labels / ticks\n",
    "    #ax1.set_xticks([-0.1, 0, 0.2, 0.4, 0.6, 0.8, 1])\n",
    "    fig.show()"
   ]
  },
  {
   "cell_type": "code",
   "execution_count": null,
   "metadata": {
    "collapsed": true,
    "jupyter": {
     "outputs_hidden": true
    }
   },
   "outputs": [],
   "source": [
    "def analysis_makespan_clusters(k, whiten, std_items, clusterer):\n",
    "    data = np.multiply(whiten, std_items) \n",
    "\n",
    "    idx = clusterer.fit_predict(whiten)\n",
    "    \n",
    "    for i in range(k):\n",
    "        cluster_data = data[idx == i]\n",
    "        cluster_makespan = cluster_data[:,0]\n",
    "        \n",
    "        avg = np.average(cluster_makespan)\n",
    "        std = np.std(cluster_makespan)\n",
    "        median = np.median(cluster_makespan)\n",
    "        \n",
    "        print('Cluster {0}: avg={1:.3f}, std={2:.3f}, med={3:.3f}'.format(i, avg, std, median))"
   ]
  },
  {
   "cell_type": "code",
   "execution_count": 15,
   "metadata": {},
   "outputs": [],
   "source": [
    "partial_data_df = delayed_preproc_df.query('mt > 1')[['mt', 'prio', 'sclass']].compute()"
   ]
  },
  {
   "cell_type": "code",
   "execution_count": 16,
   "metadata": {},
   "outputs": [
    {
     "name": "stdout",
     "output_type": "stream",
     "text": [
      "<class 'pandas.core.frame.DataFrame'>\n",
      "Int64Index: 27537704 entries, 0 to 86636\n",
      "Data columns (total 3 columns):\n",
      "mt        float32\n",
      "prio      int8\n",
      "sclass    int8\n",
      "dtypes: float32(1), int8(2)\n",
      "memory usage: 367.7 MB\n"
     ]
    }
   ],
   "source": [
    "partial_data_df.info()"
   ]
  },
  {
   "cell_type": "code",
   "execution_count": null,
   "metadata": {},
   "outputs": [],
   "source": [
    "whiten_items, osefnb, std_items = prepare_data_kmeans(partial_data_df)"
   ]
  },
  {
   "cell_type": "code",
   "execution_count": 24,
   "metadata": {},
   "outputs": [
    {
     "name": "stdout",
     "output_type": "stream",
     "text": [
      "For 2-means, distortion = -57021482.35040033\n",
      "\t centroid : [4.2331118e+03 5.7103211e-01 6.2133974e-01]\n",
      "\t centroid : [5.2184551e+03 4.1899371e+00 1.7590263e-01]\n",
      "Rate between Finished ane Killed tasks for the different clusters\n",
      "Group 0  : (16.000%, 42.945%)\n",
      "Group 1  : (84.000%, 57.055%)\n",
      "Centroid [makespan 4233.11, prio 0.571, sclass 0.621], nb = 11826129\n",
      "Centroid [makespan 5218.46, prio 4.190, sclass 0.176], nb = 15711575\n"
     ]
    }
   ],
   "source": [
    "kmeans_2k = do_kmeans_analysis2(2, whiten_items, 100, std_items)"
   ]
  },
  {
   "cell_type": "code",
   "execution_count": 26,
   "metadata": {},
   "outputs": [
    {
     "name": "stdout",
     "output_type": "stream",
     "text": [
      "(27537704, 3)\n",
      "(20000,)\n",
      "For n_clusters = 2 The average silhouette_score is : 0.5803761\n"
     ]
    },
    {
     "name": "stderr",
     "output_type": "stream",
     "text": [
      "/home/jupyter/.local/lib/python3.5/site-packages/matplotlib/figure.py:457: UserWarning: matplotlib is currently using a non-GUI backend, so cannot show the figure\n",
      "  \"matplotlib is currently using a non-GUI backend, \"\n"
     ]
    },
    {
     "data": {
      "image/png": "[encoded data removed]",
      "text/plain": [
       "<Figure size 432x288 with 1 Axes>"
      ]
     },
     "metadata": {},
     "output_type": "display_data"
    }
   ],
   "source": [
    "show_silouhette(*kmeans_2k, plot_samples=20000, xlim=[-0.1, 1])"
   ]
  },
  {
   "cell_type": "code",
   "execution_count": 32,
   "metadata": {},
   "outputs": [
    {
     "name": "stdout",
     "output_type": "stream",
     "text": [
      "For 4-means, distortion = -19973578.71183828\n",
      "\t centroid : [2.6651665e+03 4.1851435e+00 1.6353510e-01]\n",
      "\t centroid : [9.8951869e+05 7.1818800e+00 1.9555864e+00]\n",
      "\t centroid : [2.8714651e+03 4.7759688e-01 8.7671867e-03]\n",
      "\t centroid : [4.9127998e+03 7.2000748e-01 1.7555327e+00]\n",
      "Rate between Finished ane Killed tasks for the different clusters\n",
      "Group 0  : (1.000%, 55.813%)\n",
      "Group 1  : (0.000%, 0.175%)\n",
      "Group 2  : (83.000%, 28.600%)\n",
      "Group 3  : (16.000%, 15.412%)\n",
      "Centroid [makespan 2665.17, prio 4.185, sclass 0.164], nb = 15369444\n",
      "Centroid [makespan 989518.69, prio 7.182, sclass 1.956], nb = 48209\n",
      "Centroid [makespan 2871.47, prio 0.478, sclass 0.009], nb = 7875956\n",
      "Centroid [makespan 4912.80, prio 0.720, sclass 1.756], nb = 4244095\n",
      "CPU times: user 3min 14s, sys: 1min 10s, total: 4min 24s\n",
      "Wall time: 4min 2s\n"
     ]
    }
   ],
   "source": [
    "%%time\n",
    "kmeans_4k = do_kmeans_analysis2(4, whiten_items, 100, std_items)"
   ]
  },
  {
   "cell_type": "code",
   "execution_count": 34,
   "metadata": {},
   "outputs": [
    {
     "name": "stdout",
     "output_type": "stream",
     "text": [
      "(27537704, 3)\n",
      "(20000,)\n",
      "For n_clusters = 4 The average silhouette_score is : 0.729311\n"
     ]
    },
    {
     "name": "stderr",
     "output_type": "stream",
     "text": [
      "/home/jupyter/.local/lib/python3.5/site-packages/matplotlib/figure.py:457: UserWarning: matplotlib is currently using a non-GUI backend, so cannot show the figure\n",
      "  \"matplotlib is currently using a non-GUI backend, \"\n"
     ]
    },
    {
     "name": "stdout",
     "output_type": "stream",
     "text": [
      "CPU times: user 3min 35s, sys: 1min 14s, total: 4min 50s\n",
      "Wall time: 4min 24s\n"
     ]
    },
    {
     "data": {
      "image/png": "[encoded data removed]",
      "text/plain": [
       "<Figure size 432x288 with 1 Axes>"
      ]
     },
     "metadata": {},
     "output_type": "display_data"
    }
   ],
   "source": [
    "%%time\n",
    "show_silouhette(*kmeans_4k, plot_samples=20000, xlim=[-0.1, 1])"
   ]
  },
  {
   "cell_type": "code",
   "execution_count": null,
   "metadata": {},
   "outputs": [],
   "source": []
  },
  {
   "cell_type": "markdown",
   "metadata": {},
   "source": [
    "## Analysis score of different values of k"
   ]
  },
  {
   "cell_type": "code",
   "execution_count": 118,
   "metadata": {},
   "outputs": [],
   "source": [
    "import time"
   ]
  },
  {
   "cell_type": "code",
   "execution_count": 119,
   "metadata": {
    "collapsed": true,
    "jupyter": {
     "outputs_hidden": true
    }
   },
   "outputs": [],
   "source": [
    "def kmeans_distortion2(items, nbcluster, nrun = 1):\n",
    "    all_disp = []\n",
    "    for i in range(nrun):\n",
    "        resolv = KMeans(nbcluster)\n",
    "        resolv.fit(items)\n",
    "        disp = -resolv.score(items) / len(items)\n",
    "        #_, disp = kmeans(items, nbcluster)\n",
    "        all_disp.append(disp)\n",
    "    return np.mean(disp)"
   ]
  },
  {
   "cell_type": "code",
   "execution_count": null,
   "metadata": {},
   "outputs": [],
   "source": [
    "disp_kmeans = []"
   ]
  },
  {
   "cell_type": "code",
   "execution_count": null,
   "metadata": {
    "collapsed": true,
    "jupyter": {
     "outputs_hidden": true
    }
   },
   "outputs": [
    {
     "name": "stdout",
     "output_type": "stream",
     "text": [
      "(9, 0.20539546936845243)\n",
      "For k=9: 483.8541660308838 seconds\n"
     ]
    }
   ],
   "source": [
    "initial_k = 1\n",
    "# XXX redoing only for k in [9, 12]\n",
    "initial_k = 9\n",
    "#(whiten_items, _, _) = prepare_data_kmeans(all_no_diff, all_no_diff_filter)\n",
    "\n",
    "for k in range(initial_k, 12):\n",
    "    begin = time.time()\n",
    "    disp = kmeans_distortion2(whiten_items, k, 1)\n",
    "    disp_kmeans.append( (k, disp) )\n",
    "    print(str( (k, disp) ))\n",
    "    print('For k={}: {} seconds'.format(k, time.time() - begin))"
   ]
  },
  {
   "cell_type": "code",
   "execution_count": 123,
   "metadata": {
    "collapsed": true,
    "jupyter": {
     "outputs_hidden": true
    }
   },
   "outputs": [
    {
     "data": {
      "image/png": "[encoded data removed]",
      "text/plain": [
       "<Figure size 360x216 with 1 Axes>"
      ]
     },
     "metadata": {},
     "output_type": "display_data"
    }
   ],
   "source": [
    "fig, ax = plt.subplots(figsize=DEFAULT_FIGSIZE_BORDERLINE)\n",
    "plt.ylabel('Average distance')\n",
    "plt.xlabel('Number of cluster (k)')\n",
    "\n",
    "# TODO : diff entre k et k+1 (% ou value)\n",
    "# --> justif du choix de k dans le texte\n",
    "\n",
    "plt.plot(*zip(*disp_kmeans), marker='o', color='tab:blue')\n",
    "ax.set_ylim(0, 3.2)\n",
    "#save_fig('distance_cluster')\n",
    "savefig_article(fig, 'kmeans_distance_clusters.pdf')"
   ]
  },
  {
   "cell_type": "code",
   "execution_count": null,
   "metadata": {
    "collapsed": true,
    "jupyter": {
     "outputs_hidden": true
    }
   },
   "outputs": [],
   "source": [
    "delta_dist = [(k, a-b) for (_, a), (k, b) in zip(disp_kmeans, disp_kmeans[1:])]\n",
    "delta_dist"
   ]
  },
  {
   "cell_type": "markdown",
   "metadata": {},
   "source": [
    "## For 2-clustering"
   ]
  },
  {
   "cell_type": "code",
   "execution_count": null,
   "metadata": {
    "collapsed": true,
    "jupyter": {
     "outputs_hidden": true
    }
   },
   "outputs": [],
   "source": [
    "prepared_data = prepare_data_kmeans(all_no_diff, all_no_diff_filter)\n",
    "kmean_partial = do_kmeans_analysis2(2, *prepared_data)"
   ]
  },
  {
   "cell_type": "code",
   "execution_count": null,
   "metadata": {
    "collapsed": true,
    "jupyter": {
     "outputs_hidden": true
    }
   },
   "outputs": [],
   "source": [
    "show_silouhette(*kmean_partial, plot_samples=20000, xlim=[-0.1, 1])\n",
    "save_fig('silhouette_2_clustering')"
   ]
  },
  {
   "cell_type": "code",
   "execution_count": null,
   "metadata": {
    "collapsed": true,
    "jupyter": {
     "outputs_hidden": true
    }
   },
   "outputs": [],
   "source": [
    "analysis_makespan_clusters(*kmean_partial)"
   ]
  },
  {
   "cell_type": "markdown",
   "metadata": {},
   "source": [
    "## For 4-clustering"
   ]
  },
  {
   "cell_type": "code",
   "execution_count": null,
   "metadata": {
    "collapsed": true,
    "jupyter": {
     "outputs_hidden": true
    }
   },
   "outputs": [],
   "source": [
    "prepared_data = prepare_data_kmeans(all_no_diff, all_no_diff_filter)\n",
    "kmean_partial = do_kmeans_analysis2(4, *prepared_data)"
   ]
  },
  {
   "cell_type": "code",
   "execution_count": null,
   "metadata": {
    "collapsed": true,
    "jupyter": {
     "outputs_hidden": true
    }
   },
   "outputs": [],
   "source": [
    "show_silouhette(*kmean_partial, plot_samples=20000, xlim=[-0.3, 1])\n",
    "save_fig('silhouette_4_clustering')"
   ]
  },
  {
   "cell_type": "code",
   "execution_count": null,
   "metadata": {
    "collapsed": true,
    "jupyter": {
     "outputs_hidden": true
    }
   },
   "outputs": [],
   "source": [
    "analysis_makespan_clusters(*kmean_partial)"
   ]
  },
  {
   "cell_type": "markdown",
   "metadata": {},
   "source": [
    "# Read files\n",
    "and put the data in tasks\n",
    "tasks : hashtable with \n",
    "key (JobID, TaskID)\n",
    "value : list of [SchedulingClass, Priority, [(event,timestamp) ..]"
   ]
  },
  {
   "cell_type": "markdown",
   "metadata": {},
   "source": [
    "### Some magic for avoiding re-processing the whole CSV files...\n",
    "Read pre-processed data for arrival and classification."
   ]
  },
  {
   "cell_type": "code",
   "execution_count": 21,
   "metadata": {
    "collapsed": true,
    "jupyter": {
     "outputs_hidden": true
    }
   },
   "outputs": [],
   "source": [
    "def read_from_preprocessed(filename, limit=None):\n",
    "    tasks_finished = []\n",
    "    tasks_killed = []\n",
    "    arrival = []\n",
    "    \n",
    "    count = 0\n",
    "    \n",
    "    fieldformat = [int, int, int, int, float, float, float]\n",
    "    row2data = lambda row : (f(v) for f, v in zip(fieldformat, row))\n",
    "    \n",
    "    with open(filename, 'r') as f:\n",
    "        csvfile = csv.reader(f, delimiter=',')\n",
    "        for row in csvfile:\n",
    "            lastevt, subtime, sclass, prio, diff, diffrel, mt = row2data(row)\n",
    "            \n",
    "            # XXX do not use if arrival time is unknown (before traces begin)\n",
    "            # rational : make results wrong\n",
    "            if subtime != 0:\n",
    "                arrival.append(subtime)\n",
    "                toadd = (sclass, prio, diff, diffrel, mt)\n",
    "                if lastevt == 4:\n",
    "                    tasks_finished.append(toadd)\n",
    "                elif lastevt == 5:\n",
    "                    tasks_killed.append(toadd)\n",
    "\n",
    "                count += 1\n",
    "                if limit is not None and count > limit:\n",
    "                    break\n",
    "\n",
    "    return {'Good' : tasks_finished, 'Bad' : tasks_killed}, arrival"
   ]
  },
  {
   "cell_type": "markdown",
   "metadata": {},
   "source": [
    "### Playing with Pandas for original GZIP'ed files\n",
    "The task events table contains the following fields:\n",
    "1. timestamp\n",
    "2. missing info\n",
    "3. job ID\n",
    "4. task index - within the job\n",
    "5. machine ID\n",
    "6. event type\n",
    "7. user name\n",
    "8. scheduling class\n",
    "9. priority\n",
    "10. resource request for CPU cores\n",
    "11. resource request for RAM\n",
    "12. resource request for local disk space\n",
    "13. different-machine constraint"
   ]
  },
  {
   "cell_type": "code",
   "execution_count": 11,
   "metadata": {},
   "outputs": [],
   "source": [
    "# we need to take care of the RAM... really...\n",
    "import gc"
   ]
  },
  {
   "cell_type": "code",
   "execution_count": 29,
   "metadata": {},
   "outputs": [],
   "source": [
    "original_fields_types = {\n",
    "    'timestamp': np.uint64,\n",
    "    'jid': np.int64,\n",
    "    'tid': np.int32,\n",
    "    'sclass': np.int8,\n",
    "    'prio': np.int8,\n",
    "    'event_type': np.int8,\n",
    "    'machine_id': np.float64,\n",
    "}\n",
    "original_fields = list(original_fields_types.keys())\n",
    "\n",
    "all_fields = ['timestamp', 'missing_info', 'jid', 'tid', 'machine_id', 'event_type', 'user_name', 'sclass', 'prio', 'req_cpu', 'req_ram', 'req_disk', 'machine_constraints']"
   ]
  },
  {
   "cell_type": "code",
   "execution_count": 26,
   "metadata": {},
   "outputs": [
    {
     "data": {
      "text/plain": [
       "[True, True, True, True, True, True, True]"
      ]
     },
     "execution_count": 26,
     "metadata": {},
     "output_type": "execute_result"
    }
   ],
   "source": [
    "list(map(lambda x: x in all_fields, original_fields))"
   ]
  },
  {
   "cell_type": "code",
   "execution_count": 30,
   "metadata": {},
   "outputs": [
    {
     "name": "stdout",
     "output_type": "stream",
     "text": [
      "CPU times: user 747 ms, sys: 10.4 ms, total: 757 ms\n",
      "Wall time: 757 ms\n"
     ]
    }
   ],
   "source": [
    "%%time\n",
    "tdf = pd.read_csv(tasksFiles[0], header=None, names=all_fields, usecols=original_fields, dtype=original_fields_types, nrows=None, low_memory=True)"
   ]
  },
  {
   "cell_type": "code",
   "execution_count": 24,
   "metadata": {},
   "outputs": [
    {
     "name": "stdout",
     "output_type": "stream",
     "text": [
      "<class 'pandas.core.frame.DataFrame'>\n",
      "RangeIndex: 450146 entries, 0 to 450145\n",
      "Data columns (total 7 columns):\n",
      "timestamp     450146 non-null uint64\n",
      "jid           450146 non-null int64\n",
      "tid           450146 non-null int32\n",
      "machine_id    330581 non-null object\n",
      "event_type    450146 non-null int8\n",
      "sclass        450146 non-null int8\n",
      "prio          450146 non-null int8\n",
      "dtypes: int32(1), int64(1), int8(3), object(1), uint64(1)\n",
      "memory usage: 34.2 MB\n"
     ]
    }
   ],
   "source": [
    "tdf.info(memory_usage='deep')"
   ]
  },
  {
   "cell_type": "code",
   "execution_count": 115,
   "metadata": {},
   "outputs": [
    {
     "data": {
      "text/plain": [
       "0"
      ]
     },
     "execution_count": 115,
     "metadata": {},
     "output_type": "execute_result"
    }
   ],
   "source": [
    "#del preproc_df\n",
    "gc.collect()"
   ]
  },
  {
   "cell_type": "code",
   "execution_count": 105,
   "metadata": {},
   "outputs": [
    {
     "data": {
      "text/plain": [
       "190926"
      ]
     },
     "execution_count": 105,
     "metadata": {},
     "output_type": "execute_result"
    }
   ],
   "source": [
    "len(tdf.groupby(['jid', 'tid']))"
   ]
  },
  {
   "cell_type": "code",
   "execution_count": 20,
   "metadata": {},
   "outputs": [
    {
     "name": "stdout",
     "output_type": "stream",
     "text": [
      "(0, timestamp     0.000000e+00\n",
      "jid           3.418309e+06\n",
      "tid           0.000000e+00\n",
      "machine_id    4.155527e+09\n",
      "event_type    0.000000e+00\n",
      "sclass        3.000000e+00\n",
      "prio          9.000000e+00\n",
      "Name: 0, dtype: float64)\n"
     ]
    }
   ],
   "source": [
    "for row in tdf.iterrows():\n",
    "    print(row)\n",
    "    break"
   ]
  },
  {
   "cell_type": "markdown",
   "metadata": {},
   "source": [
    "### And now with Dask (?)"
   ]
  },
  {
   "cell_type": "code",
   "execution_count": 31,
   "metadata": {},
   "outputs": [
    {
     "name": "stderr",
     "output_type": "stream",
     "text": [
      "/home/jupyter/.local/lib/python3.5/site-packages/dask/dataframe/io/csv.py:318: UserWarning: Warning gzip compression does not support breaking apart files\n",
      "Please ensure that each individual file can fit in memory and\n",
      "use the keyword ``blocksize=None to remove this message``\n",
      "Setting ``blocksize=None``\n",
      "  \"Setting ``blocksize=None``\" % compression)\n"
     ]
    }
   ],
   "source": [
    "test = daskdf.read_csv('clusterdata-2011-2/task_events/part-00*-of-00500.csv.gz', compression='gzip', header=None, names=all_fields, usecols=original_fields, dtype=original_fields_types, nrows=None, low_memory=True)"
   ]
  },
  {
   "cell_type": "code",
   "execution_count": 33,
   "metadata": {},
   "outputs": [
    {
     "name": "stdout",
     "output_type": "stream",
     "text": [
      "CPU times: user 6min 40s, sys: 33.3 s, total: 7min 14s\n",
      "Wall time: 2min 18s\n"
     ]
    }
   ],
   "source": [
    "%%time\n",
    "all_mids = test['machine_id'].unique().compute()"
   ]
  },
  {
   "cell_type": "code",
   "execution_count": 35,
   "metadata": {},
   "outputs": [
    {
     "data": {
      "text/plain": [
       "12586"
      ]
     },
     "execution_count": 35,
     "metadata": {},
     "output_type": "execute_result"
    }
   ],
   "source": [
    "len(all_mids)"
   ]
  },
  {
   "cell_type": "code",
   "execution_count": 88,
   "metadata": {},
   "outputs": [
    {
     "name": "stdout",
     "output_type": "stream",
     "text": [
      "CPU times: user 1min 2s, sys: 4.7 s, total: 1min 6s\n",
      "Wall time: 21.3 s\n"
     ]
    },
    {
     "data": {
      "text/plain": [
       "18446744073709551615"
      ]
     },
     "execution_count": 88,
     "metadata": {},
     "output_type": "execute_result"
    }
   ],
   "source": [
    "%%time\n",
    "test['timestamp'].max().compute()"
   ]
  },
  {
   "cell_type": "code",
   "execution_count": 92,
   "metadata": {},
   "outputs": [
    {
     "data": {
      "text/plain": [
       "18446744073709551615"
      ]
     },
     "execution_count": 92,
     "metadata": {},
     "output_type": "execute_result"
    }
   ],
   "source": [
    "np.uint64(2**64-1)"
   ]
  },
  {
   "cell_type": "code",
   "execution_count": 70,
   "metadata": {},
   "outputs": [
    {
     "name": "stdout",
     "output_type": "stream",
     "text": [
      "CPU times: user 1min 42s, sys: 10.8 s, total: 1min 53s\n",
      "Wall time: 38.5 s\n"
     ]
    }
   ],
   "source": [
    "%%time\n",
    "a = test.groupby(['jid', 'tid'])['event_type'].count().describe().compute()"
   ]
  },
  {
   "cell_type": "code",
   "execution_count": 71,
   "metadata": {},
   "outputs": [
    {
     "data": {
      "text/plain": [
       "count    5.075073e+06\n",
       "mean     6.494353e+00\n",
       "std      1.141031e+02\n",
       "min      1.000000e+00\n",
       "25%      3.000000e+00\n",
       "50%      3.000000e+00\n",
       "75%      3.000000e+00\n",
       "max      4.556900e+04\n",
       "dtype: float64"
      ]
     },
     "execution_count": 71,
     "metadata": {},
     "output_type": "execute_result"
    }
   ],
   "source": [
    "a"
   ]
  },
  {
   "cell_type": "code",
   "execution_count": 107,
   "metadata": {},
   "outputs": [],
   "source": [
    "daskdf.to_parquet(test.query('event_type == 0')[['jid', 'tid', 'sclass', 'prio', 'timestamp']], 'initial_event_preproc.prq')"
   ]
  },
  {
   "cell_type": "code",
   "execution_count": 112,
   "metadata": {},
   "outputs": [],
   "source": [
    "testparquet = daskdf.read_parquet('initial_event_preproc.prq')#, dtype=original_fields_types)"
   ]
  },
  {
   "cell_type": "code",
   "execution_count": 115,
   "metadata": {},
   "outputs": [
    {
     "data": {
      "text/html": [
       "<div>\n",
       "<style scoped>\n",
       "    .dataframe tbody tr th:only-of-type {\n",
       "        vertical-align: middle;\n",
       "    }\n",
       "\n",
       "    .dataframe tbody tr th {\n",
       "        vertical-align: top;\n",
       "    }\n",
       "\n",
       "    .dataframe thead th {\n",
       "        text-align: right;\n",
       "    }\n",
       "</style>\n",
       "<table border=\"1\" class=\"dataframe\">\n",
       "  <thead>\n",
       "    <tr style=\"text-align: right;\">\n",
       "      <th></th>\n",
       "      <th>jid</th>\n",
       "      <th>tid</th>\n",
       "      <th>sclass</th>\n",
       "      <th>prio</th>\n",
       "      <th>timestamp</th>\n",
       "    </tr>\n",
       "  </thead>\n",
       "  <tbody>\n",
       "    <tr>\n",
       "      <th>0</th>\n",
       "      <td>3418309</td>\n",
       "      <td>0</td>\n",
       "      <td>3</td>\n",
       "      <td>9</td>\n",
       "      <td>0</td>\n",
       "    </tr>\n",
       "    <tr>\n",
       "      <th>1</th>\n",
       "      <td>3418309</td>\n",
       "      <td>1</td>\n",
       "      <td>3</td>\n",
       "      <td>9</td>\n",
       "      <td>0</td>\n",
       "    </tr>\n",
       "    <tr>\n",
       "      <th>2</th>\n",
       "      <td>3418314</td>\n",
       "      <td>0</td>\n",
       "      <td>3</td>\n",
       "      <td>9</td>\n",
       "      <td>0</td>\n",
       "    </tr>\n",
       "    <tr>\n",
       "      <th>3</th>\n",
       "      <td>3418314</td>\n",
       "      <td>1</td>\n",
       "      <td>3</td>\n",
       "      <td>9</td>\n",
       "      <td>0</td>\n",
       "    </tr>\n",
       "    <tr>\n",
       "      <th>4</th>\n",
       "      <td>3418319</td>\n",
       "      <td>0</td>\n",
       "      <td>3</td>\n",
       "      <td>9</td>\n",
       "      <td>0</td>\n",
       "    </tr>\n",
       "  </tbody>\n",
       "</table>\n",
       "</div>"
      ],
      "text/plain": [
       "       jid  tid  sclass  prio  timestamp\n",
       "0  3418309    0       3     9          0\n",
       "1  3418309    1       3     9          0\n",
       "2  3418314    0       3     9          0\n",
       "3  3418314    1       3     9          0\n",
       "4  3418319    0       3     9          0"
      ]
     },
     "execution_count": 115,
     "metadata": {},
     "output_type": "execute_result"
    }
   ],
   "source": [
    "testparquet.head()"
   ]
  },
  {
   "cell_type": "code",
   "execution_count": 94,
   "metadata": {},
   "outputs": [
    {
     "name": "stdout",
     "output_type": "stream",
     "text": [
      "CPU times: user 7min 39s, sys: 37.1 s, total: 8min 16s\n",
      "Wall time: 2min 45s\n"
     ]
    }
   ],
   "source": [
    "%%time\n",
    "occurences_event_number = test.groupby(['jid', 'tid'])['event_type'].count().value_counts().compute()"
   ]
  },
  {
   "cell_type": "code",
   "execution_count": null,
   "metadata": {},
   "outputs": [],
   "source": []
  },
  {
   "cell_type": "code",
   "execution_count": 102,
   "metadata": {},
   "outputs": [
    {
     "data": {
      "text/plain": [
       "9.223369531254776e+18"
      ]
     },
     "execution_count": 102,
     "metadata": {},
     "output_type": "execute_result"
    }
   ],
   "source": [
    "np.uint64(2**63-1) - (1000*1000*29*3600*24)"
   ]
  },
  {
   "cell_type": "code",
   "execution_count": 84,
   "metadata": {},
   "outputs": [
    {
     "data": {
      "text/plain": [
       "2505600000000"
      ]
     },
     "execution_count": 84,
     "metadata": {},
     "output_type": "execute_result"
    }
   ],
   "source": [
    "(1000*1000*29*3600*24)"
   ]
  },
  {
   "cell_type": "code",
   "execution_count": 101,
   "metadata": {},
   "outputs": [
    {
     "data": {
      "text/html": [
       "<div>\n",
       "<style scoped>\n",
       "    .dataframe tbody tr th:only-of-type {\n",
       "        vertical-align: middle;\n",
       "    }\n",
       "\n",
       "    .dataframe tbody tr th {\n",
       "        vertical-align: top;\n",
       "    }\n",
       "\n",
       "    .dataframe thead th {\n",
       "        text-align: right;\n",
       "    }\n",
       "</style>\n",
       "<table border=\"1\" class=\"dataframe\">\n",
       "  <thead>\n",
       "    <tr style=\"text-align: right;\">\n",
       "      <th></th>\n",
       "      <th>1</th>\n",
       "      <th>2</th>\n",
       "      <th>3</th>\n",
       "      <th>4</th>\n",
       "      <th>5</th>\n",
       "      <th>6+</th>\n",
       "      <th>total</th>\n",
       "    </tr>\n",
       "  </thead>\n",
       "  <tbody>\n",
       "    <tr>\n",
       "      <th>0</th>\n",
       "      <td>198</td>\n",
       "      <td>872310</td>\n",
       "      <td>22069712</td>\n",
       "      <td>13356</td>\n",
       "      <td>106228</td>\n",
       "      <td>2362927</td>\n",
       "      <td>25424731</td>\n",
       "    </tr>\n",
       "  </tbody>\n",
       "</table>\n",
       "</div>"
      ],
      "text/plain": [
       "     1       2         3      4       5       6+     total\n",
       "0  198  872310  22069712  13356  106228  2362927  25424731"
      ]
     },
     "execution_count": 101,
     "metadata": {},
     "output_type": "execute_result"
    }
   ],
   "source": [
    "devents = dict(occurences_event_number)\n",
    "pd.DataFrame([{**{k: devents.get(k, 0) for k in range(1, 6)}, '6+': sum(devents.get(k, 0) for k in devents.keys() if k >= 6), 'total': sum(devents.values())}])"
   ]
  },
  {
   "cell_type": "code",
   "execution_count": 97,
   "metadata": {},
   "outputs": [
    {
     "name": "stdout",
     "output_type": "stream",
     "text": [
      "25424731\n"
     ]
    }
   ],
   "source": [
    "print(sum(devents.values()))"
   ]
  },
  {
   "cell_type": "code",
   "execution_count": 226,
   "metadata": {},
   "outputs": [],
   "source": [
    "test2 = test.tail(1000)#.iloc[10000:15000]"
   ]
  },
  {
   "cell_type": "code",
   "execution_count": 284,
   "metadata": {},
   "outputs": [],
   "source": [
    "tgb = test2.groupby('jid')"
   ]
  },
  {
   "cell_type": "code",
   "execution_count": 320,
   "metadata": {},
   "outputs": [
    {
     "name": "stdout",
     "output_type": "stream",
     "text": [
      "515042954\n",
      "449151    5553800414\n",
      "449152    5553800417\n",
      "Name: timestamp, dtype: int64\n",
      "515042954\n",
      "449156    5553800648\n",
      "449157    5553800651\n",
      "Name: timestamp, dtype: int64\n",
      "515042954\n",
      "449160    5553800854\n",
      "449161    5553800857\n",
      "Name: timestamp, dtype: int64\n",
      "515042954\n",
      "449166    5553800999\n",
      "449167    5553801002\n",
      "Name: timestamp, dtype: int64\n",
      "515042954\n",
      "449170    5553801041\n",
      "449171    5553801044\n",
      "Name: timestamp, dtype: int64\n",
      "515042954\n",
      "449172    5553801054\n",
      "449173    5553801057\n",
      "Name: timestamp, dtype: int64\n"
     ]
    }
   ],
   "source": [
    "for name, group in tgb:\n",
    "    for tid, subgroup in group.groupby('tid'):\n",
    "        print(name)\n",
    "        print(subgroup.timestamp)\n",
    "    break"
   ]
  },
  {
   "cell_type": "code",
   "execution_count": 130,
   "metadata": {},
   "outputs": [
    {
     "name": "stdout",
     "output_type": "stream",
     "text": [
      "(0, timestamp           0\n",
      "jid           3418309\n",
      "tid                 0\n",
      "event_type          0\n",
      "sclass              3\n",
      "prio                9\n",
      "Name: 0, dtype: int64)\n"
     ]
    }
   ],
   "source": [
    "for a in test.iterrows():\n",
    "    print(a)\n",
    "    break"
   ]
  },
  {
   "cell_type": "code",
   "execution_count": 300,
   "metadata": {},
   "outputs": [],
   "source": [
    "prototype = {\n",
    "    #'tid': np.int32,\n",
    "    'submission': np.int64,\n",
    "    'nb_events': np.int8,\n",
    "    'last_event': np.int8,\n",
    "    'duration': np.float32,\n",
    "    'sclass': np.int8,\n",
    "    'prio': np.int8,\n",
    "}"
   ]
  },
  {
   "cell_type": "code",
   "execution_count": 301,
   "metadata": {},
   "outputs": [],
   "source": [
    "#fuuu = pd.Series({'submission': 0, 'nb_events': 100, 'last_event': 0, 'duration': 0, 'sclass': 0, 'prio': 0})\n",
    "#fuuu\n",
    "#.astype(prototype)"
   ]
  },
  {
   "cell_type": "code",
   "execution_count": 321,
   "metadata": {},
   "outputs": [],
   "source": [
    "def aggregtasks(full_partition):\n",
    "    global prototype\n",
    "    \n",
    "    submissions = []\n",
    "    nb_eventses = []\n",
    "    last_events = []\n",
    "    durations = []\n",
    "    sclasses = []\n",
    "    prios = []\n",
    "    tids = []\n",
    "    \n",
    "    full_partition = full_partition.copy()\n",
    "    \n",
    "    for tid, partition in full_partition.groupby('tid'):\n",
    "    \n",
    "        initial = partition.loc[partition.event_type == 0]\n",
    "        nb_events = len(partition)\n",
    "        sclasses.append(partition.iloc[0].sclass)\n",
    "        prios.append(partition.iloc[0].prio)\n",
    "        tids.append(tid)\n",
    "        \n",
    "        if len(initial) == 1 and initial.iloc[0].timestamp > 0:\n",
    "            initial = initial.iloc[0]\n",
    "\n",
    "            #for row in partition:\n",
    "            #    timestamp = row.timestamp\n",
    "            #    evtType = row.event_type\n",
    "\n",
    "            last = partition.loc[partition.timestamp.idxmax()]\n",
    "            last_event = last.event_type\n",
    "            # XXX maybe improve with only finishing events?\n",
    "            duration = last.timestamp - initial.timestamp\n",
    "            \n",
    "            submissions.append(initial.timestamp)\n",
    "            nb_eventses.append(nb_events)\n",
    "            last_events.append(last_event)\n",
    "            durations.append(duration)\n",
    "            \n",
    "        else:\n",
    "            submissions.append(0)\n",
    "            nb_eventses.append(nb_events)\n",
    "            last_events.append(0)\n",
    "            durations.append(0)\n",
    "            \n",
    "    return pd.DataFrame({'submission': submissions, 'nb_events': nb_eventses,\n",
    "                              'last_event': last_events, 'duration': durations, 'sclass': sclasses, 'prio': prios}, index=tids).astype(prototype)"
   ]
  },
  {
   "cell_type": "code",
   "execution_count": 322,
   "metadata": {},
   "outputs": [],
   "source": [
    "protobis = pd.Series(prototype)\n",
    "#protobis.astype()"
   ]
  },
  {
   "cell_type": "code",
   "execution_count": 323,
   "metadata": {},
   "outputs": [],
   "source": [
    "myagg = test.groupby('jid').apply(aggregtasks, meta=prototype)#, meta=(names, dtypes))"
   ]
  },
  {
   "cell_type": "code",
   "execution_count": 324,
   "metadata": {},
   "outputs": [
    {
     "name": "stdout",
     "output_type": "stream",
     "text": [
      "CPU times: user 7min 55s, sys: 20.8 s, total: 8min 16s\n",
      "Wall time: 7min 52s\n"
     ]
    }
   ],
   "source": [
    "%%time\n",
    "tmpret = myagg.compute()"
   ]
  },
  {
   "cell_type": "code",
   "execution_count": 325,
   "metadata": {},
   "outputs": [
    {
     "name": "stdout",
     "output_type": "stream",
     "text": [
      "<class 'pandas.core.frame.DataFrame'>\n",
      "MultiIndex: 190926 entries, (3418309, 0) to (6252020683, 0)\n",
      "Data columns (total 6 columns):\n",
      "duration      190926 non-null float32\n",
      "last_event    190926 non-null int8\n",
      "nb_events     190926 non-null int8\n",
      "prio          190926 non-null int8\n",
      "sclass        190926 non-null int8\n",
      "submission    190926 non-null int64\n",
      "dtypes: float32(1), int64(1), int8(4)\n",
      "memory usage: 3.8 MB\n"
     ]
    }
   ],
   "source": [
    "tmpret.info()"
   ]
  },
  {
   "cell_type": "code",
   "execution_count": 327,
   "metadata": {},
   "outputs": [
    {
     "data": {
      "text/plain": [
       "count    190926.000000\n",
       "mean          2.282612\n",
       "std           0.900540\n",
       "min        -112.000000\n",
       "25%           2.000000\n",
       "50%           2.000000\n",
       "75%           3.000000\n",
       "max          71.000000\n",
       "Name: nb_events, dtype: float64"
      ]
     },
     "execution_count": 327,
     "metadata": {},
     "output_type": "execute_result"
    }
   ],
   "source": [
    "tmpret.tail()\n",
    "tmpret.nb_events.describe()"
   ]
  },
  {
   "cell_type": "markdown",
   "metadata": {},
   "source": [
    "## Legacy code, memory-hungry (~32Go at least)"
   ]
  },
  {
   "cell_type": "code",
   "execution_count": 29,
   "metadata": {},
   "outputs": [],
   "source": [
    "import gzip\n",
    "import sys\n",
    "\n",
    "def read_tasks(tasksFiles):\n",
    "    tasks={}\n",
    "    bad_tasks=[]\n",
    "    arrival=[]\n",
    "    current_time=0\n",
    "\n",
    "    for f in tasksFiles:\n",
    "        print('File: {}'.format(f))\n",
    "        with gzip.open(f, 'rt') as f:\n",
    "            for line in f.readlines():\n",
    "                (timestamp,_,jID,tID,_,evtType,_,schedClass,prio,_,_,_,_)=line.split(',')\n",
    "                try:\n",
    "                    if(evtType == '0'):\n",
    "                        timestamp=int(timestamp)\n",
    "                        tasks[(int(jID), int(tID))] = (int(schedClass), int(prio), [(0,int(timestamp))])\n",
    "                        if timestamp>0:\n",
    "                            arrival.append(timestamp-current_time)\n",
    "                            current_time=timestamp\n",
    "                    else:\n",
    "                        (_,_, events)=tasks[(int(jID),int(tID))]\n",
    "                        events.append((int(evtType),int(timestamp)))\n",
    "                except:\n",
    "                    bad_tasks.append((int(jID), int(tID)))\n",
    "            print(\"Bad {}\".format(len(bad_tasks)))\n",
    "            print(\"Good {}\".format(len(tasks)))\n",
    "    return arrival,tasks"
   ]
  },
  {
   "cell_type": "code",
   "execution_count": null,
   "metadata": {},
   "outputs": [
    {
     "name": "stdout",
     "output_type": "stream",
     "text": [
      "File: clusterdata-2011-2/task_events/part-00000-of-00500.csv.gz\n",
      "Bad 0\n",
      "Good 190926\n",
      "File: clusterdata-2011-2/task_events/part-00001-of-00500.csv.gz\n",
      "Bad 0\n",
      "Good 208329\n",
      "File: clusterdata-2011-2/task_events/part-00002-of-00500.csv.gz\n",
      "Bad 0\n",
      "Good 243512\n",
      "File: clusterdata-2011-2/task_events/part-00003-of-00500.csv.gz\n",
      "Bad 0\n",
      "Good 274536\n",
      "File: clusterdata-2011-2/task_events/part-00004-of-00500.csv.gz\n",
      "Bad 0\n",
      "Good 304279\n",
      "File: clusterdata-2011-2/task_events/part-00005-of-00500.csv.gz\n",
      "Bad 0\n",
      "Good 345562\n",
      "File: clusterdata-2011-2/task_events/part-00006-of-00500.csv.gz\n",
      "Bad 0\n",
      "Good 371702\n",
      "File: clusterdata-2011-2/task_events/part-00007-of-00500.csv.gz\n",
      "Bad 0\n",
      "Good 399959\n",
      "File: clusterdata-2011-2/task_events/part-00008-of-00500.csv.gz\n",
      "Bad 0\n",
      "Good 414594\n",
      "File: clusterdata-2011-2/task_events/part-00009-of-00500.csv.gz\n",
      "Bad 0\n",
      "Good 464004\n",
      "File: clusterdata-2011-2/task_events/part-00010-of-00500.csv.gz\n",
      "Bad 0\n",
      "Good 500585\n",
      "File: clusterdata-2011-2/task_events/part-00011-of-00500.csv.gz\n",
      "Bad 0\n",
      "Good 541186\n",
      "File: clusterdata-2011-2/task_events/part-00012-of-00500.csv.gz\n",
      "Bad 0\n",
      "Good 583845\n",
      "File: clusterdata-2011-2/task_events/part-00013-of-00500.csv.gz\n",
      "Bad 0\n",
      "Good 614019\n",
      "File: clusterdata-2011-2/task_events/part-00014-of-00500.csv.gz\n",
      "Bad 0\n",
      "Good 679691\n",
      "File: clusterdata-2011-2/task_events/part-00015-of-00500.csv.gz\n",
      "Bad 0\n",
      "Good 719926\n",
      "File: clusterdata-2011-2/task_events/part-00016-of-00500.csv.gz\n",
      "Bad 0\n",
      "Good 776736\n",
      "File: clusterdata-2011-2/task_events/part-00017-of-00500.csv.gz\n",
      "Bad 0\n",
      "Good 824772\n",
      "File: clusterdata-2011-2/task_events/part-00018-of-00500.csv.gz\n",
      "Bad 0\n",
      "Good 889685\n",
      "File: clusterdata-2011-2/task_events/part-00019-of-00500.csv.gz\n",
      "Bad 0\n",
      "Good 976049\n",
      "File: clusterdata-2011-2/task_events/part-00020-of-00500.csv.gz\n",
      "Bad 0\n",
      "Good 1051774\n",
      "File: clusterdata-2011-2/task_events/part-00021-of-00500.csv.gz\n",
      "Bad 0\n",
      "Good 1125432\n",
      "File: clusterdata-2011-2/task_events/part-00022-of-00500.csv.gz\n",
      "Bad 0\n",
      "Good 1231940\n",
      "File: clusterdata-2011-2/task_events/part-00023-of-00500.csv.gz\n",
      "Bad 0\n",
      "Good 1326168\n",
      "File: clusterdata-2011-2/task_events/part-00024-of-00500.csv.gz\n",
      "Bad 0\n",
      "Good 1432639\n",
      "File: clusterdata-2011-2/task_events/part-00025-of-00500.csv.gz\n",
      "Bad 0\n",
      "Good 1525367\n",
      "File: clusterdata-2011-2/task_events/part-00026-of-00500.csv.gz\n",
      "Bad 0\n",
      "Good 1610474\n",
      "File: clusterdata-2011-2/task_events/part-00027-of-00500.csv.gz\n",
      "Bad 0\n",
      "Good 1682923\n",
      "File: clusterdata-2011-2/task_events/part-00028-of-00500.csv.gz\n",
      "Bad 0\n",
      "Good 1739765\n",
      "File: clusterdata-2011-2/task_events/part-00029-of-00500.csv.gz\n",
      "Bad 0\n",
      "Good 1821780\n",
      "File: clusterdata-2011-2/task_events/part-00030-of-00500.csv.gz\n",
      "Bad 0\n",
      "Good 1896980\n",
      "File: clusterdata-2011-2/task_events/part-00031-of-00500.csv.gz\n",
      "Bad 0\n",
      "Good 1970700\n",
      "File: clusterdata-2011-2/task_events/part-00032-of-00500.csv.gz\n",
      "Bad 0\n",
      "Good 2026525\n",
      "File: clusterdata-2011-2/task_events/part-00033-of-00500.csv.gz\n",
      "Bad 0\n",
      "Good 2089536\n",
      "File: clusterdata-2011-2/task_events/part-00034-of-00500.csv.gz\n",
      "Bad 0\n",
      "Good 2159587\n",
      "File: clusterdata-2011-2/task_events/part-00035-of-00500.csv.gz\n",
      "Bad 0\n",
      "Good 2211949\n",
      "File: clusterdata-2011-2/task_events/part-00036-of-00500.csv.gz\n",
      "Bad 0\n",
      "Good 2253078\n",
      "File: clusterdata-2011-2/task_events/part-00037-of-00500.csv.gz\n",
      "Bad 0\n",
      "Good 2316858\n",
      "File: clusterdata-2011-2/task_events/part-00038-of-00500.csv.gz\n",
      "Bad 0\n",
      "Good 2367440\n",
      "File: clusterdata-2011-2/task_events/part-00039-of-00500.csv.gz\n",
      "Bad 0\n",
      "Good 2440879\n",
      "File: clusterdata-2011-2/task_events/part-00040-of-00500.csv.gz\n",
      "Bad 0\n",
      "Good 2486819\n",
      "File: clusterdata-2011-2/task_events/part-00041-of-00500.csv.gz\n",
      "Bad 0\n",
      "Good 2563625\n",
      "File: clusterdata-2011-2/task_events/part-00042-of-00500.csv.gz\n",
      "Bad 0\n",
      "Good 2604464\n",
      "File: clusterdata-2011-2/task_events/part-00043-of-00500.csv.gz\n",
      "Bad 0\n",
      "Good 2674024\n",
      "File: clusterdata-2011-2/task_events/part-00044-of-00500.csv.gz\n",
      "Bad 0\n",
      "Good 2717310\n",
      "File: clusterdata-2011-2/task_events/part-00045-of-00500.csv.gz\n",
      "Bad 0\n",
      "Good 2746260\n",
      "File: clusterdata-2011-2/task_events/part-00046-of-00500.csv.gz\n",
      "Bad 0\n",
      "Good 2777978\n",
      "File: clusterdata-2011-2/task_events/part-00047-of-00500.csv.gz\n",
      "Bad 0\n",
      "Good 2815867\n",
      "File: clusterdata-2011-2/task_events/part-00048-of-00500.csv.gz\n",
      "Bad 0\n",
      "Good 2850818\n",
      "File: clusterdata-2011-2/task_events/part-00049-of-00500.csv.gz\n",
      "Bad 0\n",
      "Good 2893866\n",
      "File: clusterdata-2011-2/task_events/part-00050-of-00500.csv.gz\n"
     ]
    }
   ],
   "source": [
    "arrival_time, tasks = read_tasks(tasksFiles)\n",
    "print('Finished')"
   ]
  },
  {
   "cell_type": "markdown",
   "metadata": {},
   "source": [
    "# Content\n",
    "Look at the number of event per task, and of events that are incomplete and of the ending type of events finishsing"
   ]
  },
  {
   "cell_type": "code",
   "execution_count": 8,
   "metadata": {},
   "outputs": [
    {
     "name": "stdout",
     "output_type": "stream",
     "text": [
      "Number of events {1: 248, 2: 1093992, 3: 24258907, 4: 19378, 5: 17215, 6: 8510, 7: 5093, 8: 3028, 9: 4024, 10: 1364, 11: 1099, 12: 898, 13: 1375, 14: 550, 15: 1093, 16: 1417, 17: 755, 18: 1570, 19: 492, 20: 635, 21: 274, 22: 141, 23: 358, 24: 118, 25: 127, 26: 76, 27: 30, 28: 8, 29: 7, 30: 13, 32: 2, 33: 1182, 34: 11, 35: 2, 36: 34, 37: 34, 38: 67, 39: 77, 40: 169, 41: 116, 42: 108, 43: 96, 44: 23, 45: 13, 46: 1, 53: 1} Total : 25424731\n",
      "Number of bad events 179\n",
      "Final events for three events {1: 2, 2: 8626, 3: 86348, 4: 17775284, 5: 6381906, 6: 5102, 8: 1639}\n"
     ]
    }
   ],
   "source": [
    "def tasks_stats(tasks):\n",
    "    l=defaultdict(int)\n",
    "    bad=0\n",
    "    last_event=defaultdict(int)\n",
    "    for i in tasks:\n",
    "        evts=tasks[i][2]\n",
    "        li=len(evts)\n",
    "        l[li]=l[li]+1\n",
    "        if li==3:\n",
    "            if evts[0][0] != 0 or evts[1][0]!= 1:\n",
    "                bad=bad+1\n",
    "            last_event[evts[2][0]]=last_event[evts[2][0]]+1\n",
    "    return (dict(l),dict(last_event), bad)\n",
    "\n",
    "l, last, bad = tasks_stats(tasks)\n",
    "print('Number of events', l, 'Total :', len(tasks))\n",
    "print('Number of bad events', bad)\n",
    "print('Final events for three events', last)\n"
   ]
  },
  {
   "cell_type": "markdown",
   "metadata": {},
   "source": [
    "## Table 1 : Distribution of number of events per task"
   ]
  },
  {
   "cell_type": "code",
   "execution_count": 9,
   "metadata": {},
   "outputs": [
    {
     "name": "stdout",
     "output_type": "stream",
     "text": [
      "1 : 248\n",
      "2 : 1093992\n",
      "3 : 24258907\n",
      "4 : 19378\n",
      "5 : 17215\n",
      "6 : 8510\n",
      "7 : 5093\n",
      "8 : 3028\n",
      "+ 9 : 18360\n"
     ]
    }
   ],
   "source": [
    "neuf=0\n",
    "for key, value in l.items():\n",
    "    if key>8:\n",
    "        neuf+=value\n",
    "for key,value in l.items():\n",
    "    if (key<9):\n",
    "        print key,\":\",value\n",
    "print '+ 9 :',neuf"
   ]
  },
  {
   "cell_type": "markdown",
   "metadata": {},
   "source": [
    "## Table II : Distribution of finishing event for all tasks with three events"
   ]
  },
  {
   "cell_type": "code",
   "execution_count": 10,
   "metadata": {},
   "outputs": [
    {
     "name": "stdout",
     "output_type": "stream",
     "text": [
      "NUMBER\n",
      "{'fail': 86348, 'total': 24258907, 'finish': 17775284, 'kill': 6381906, 'other': 15369}\n",
      "PERCENTAGE\n",
      "fail 0.355943489128\n",
      "total 100.0\n",
      "finish 73.2732270254\n",
      "kill 26.3074754357\n",
      "other 0.0633540497105\n"
     ]
    }
   ],
   "source": [
    "d_events_type={}\n",
    "d_events_type[\"finish\"]=0\n",
    "d_events_type[\"kill\"]=0\n",
    "d_events_type[\"fail\"]=0\n",
    "d_events_type[\"other\"]=0\n",
    "d_events_type[\"total\"]=0\n",
    "\n",
    "for key,value in last.items():\n",
    "    if (key==1):\n",
    "        d_events_type[\"other\"]+=value\n",
    "    if (key==2):\n",
    "        d_events_type[\"other\"]+=value\n",
    "    if (key==3):\n",
    "        d_events_type[\"fail\"]+=value\n",
    "    if (key==4):\n",
    "        d_events_type[\"finish\"]+=value\n",
    "    if (key==5):\n",
    "        d_events_type[\"kill\"]+=value\n",
    "    if (key==6):\n",
    "        d_events_type[\"other\"]+=value\n",
    "    if (key==8):\n",
    "        d_events_type[\"other\"]+=value\n",
    "    d_events_type[\"total\"]+=value\n",
    "print 'NUMBER'\n",
    "print d_events_type\n",
    "total = d_events_type[\"total\"]\n",
    "print 'PERCENTAGE'\n",
    "for key,value in d_events_type.items():\n",
    "    res = float(value*100)\n",
    "    res= float(res/total)\n",
    "    print key,res"
   ]
  },
  {
   "cell_type": "code",
   "execution_count": 11,
   "metadata": {},
   "outputs": [
    {
     "name": "stdout",
     "output_type": "stream",
     "text": [
      "Dans le cas des 500 fichiers :\n",
      "Number of events {1: 248, 2: 1093992, 3: 24258907, 4: 19378, 5: 17215, 6: 8510, 7: 5093, 8: 3028, 9: 4024, 10: 1364, 11: 1099, 12: 898, 13: 1375, 14: 550, 15: 1093, 16: 1417, 17: 755, 18: 1570, 19: 492, 20: 635, 21: 274, 22: 141, 23: 358, 24: 118, 25: 127, 26: 76, 27: 30, 28: 8, 29: 7, 30: 13, 32: 2, 33: 1182, 34: 11, 35: 2, 36: 34, 37: 34, 38: 67, 39: 77, 40: 169, 41: 116, 42: 108, 43: 96, 44: 23, 45: 13, 46: 1, 53: 1} Total : 25424731\n",
      "Number of bad events 179\n",
      "Final events for three events {1: 2, 2: 8626, 3: 86348, 4: 17775284, 5: 6381906, 6: 5102, 8: 1639}\n"
     ]
    }
   ],
   "source": [
    "print 'Dans le cas des 500 fichiers :'\n",
    "print 'Number of events {1: 248, 2: 1093992, 3: 24258907, 4: 19378, 5: 17215, 6: 8510, 7: 5093, 8: 3028, 9: 4024, 10: 1364, 11: 1099, 12: 898, 13: 1375, 14: 550, 15: 1093, 16: 1417, 17: 755, 18: 1570, 19: 492, 20: 635, 21: 274, 22: 141, 23: 358, 24: 118, 25: 127, 26: 76, 27: 30, 28: 8, 29: 7, 30: 13, 32: 2, 33: 1182, 34: 11, 35: 2, 36: 34, 37: 34, 38: 67, 39: 77, 40: 169, 41: 116, 42: 108, 43: 96, 44: 23, 45: 13, 46: 1, 53: 1} Total : 25424731'\n",
    "print 'Number of bad events 179'\n",
    "print 'Final events for three events {1: 2, 2: 8626, 3: 86348, 4: 17775284, 5: 6381906, 6: 5102, 8: 1639}'"
   ]
  },
  {
   "cell_type": "markdown",
   "metadata": {},
   "source": [
    "# Wating time\n",
    "Waiting time\n",
    "- First graph is absolute waiting time in seconds\n",
    "- Second graph is relative waiting time to the lenght of the task"
   ]
  },
  {
   "cell_type": "code",
   "execution_count": 12,
   "metadata": {},
   "outputs": [
    {
     "name": "stdout",
     "output_type": "stream",
     "text": [
      "Les taches qui finissent bien 17807965 Total : 30159205857.8 Mean 1693.57957845\n",
      "Les taches qui finissent mal  6419660 Total : 51320980647.2 Mean 7994.34559575\n"
     ]
    }
   ],
   "source": [
    "def analyse_tasks(tasks):\n",
    "    waiting_time={'Good':[], 'Bad':[]}\n",
    "    relative_waiting_time={'Good':[], 'Bad':[]}\n",
    "    makespan={'Good':[], 'Bad':[]}\n",
    "    classification = {'Good':[], 'Bad':[]}\n",
    "    submass_={'Good':defaultdict(int), 'Bad':defaultdict(int)}\n",
    "    realmass_={'Good':defaultdict(int), 'Bad':defaultdict(int)}\n",
    "\n",
    "    for t in tasks:\n",
    "        sclass, prio, evts=tasks[t]\n",
    "        if len(evts)>=3 and (evts[-1][0] == 4 or evts[-1][0] == 5):\n",
    "            subtime=evts[0][1]\n",
    "            runtime=evts[1][1]\n",
    "            endtime=evts[2][1]\n",
    "            diff=runtime-subtime\n",
    "            diffrel=diff/float(endtime-runtime)\n",
    "            mt=float(endtime-runtime)/1000000.0\n",
    "            tmp = (sclass, prio, float(diff)/1000000, diffrel, mt)\n",
    "            status='Good'\n",
    "            if evts[-1][0]== 5 :\n",
    "                status='Bad'\n",
    "            waiting_time[status].append(float(diff)/1000000.0)\n",
    "            relative_waiting_time[status].append(diffrel)\n",
    "            makespan[status].append(mt)\n",
    "            classification[status].append(tmp)\n",
    "            submass_[status][subtime] += 1\n",
    "            submass_[status][subtime+endtime-runtime] -=1\n",
    "\n",
    "            realmass_[status][runtime] += 1\n",
    "            realmass_[status][endtime] -= 1\n",
    "    return waiting_time, relative_waiting_time, makespan, classification, submass_, realmass_\n",
    "\n",
    "waiting_time, relative_waiting_time, makespan, classification, submass_, realmass_=analyse_tasks(tasks)\n",
    "tasks=[]\n",
    "print 'Les taches qui finissent bien', len(makespan['Good']), 'Total :', sum(makespan['Good']), 'Mean', sum(makespan['Good'])/float(len(makespan['Good']))\n",
    "print 'Les taches qui finissent mal ', len(makespan['Bad']), 'Total :', sum(makespan['Bad']), 'Mean', sum(makespan['Bad'])/float(len(makespan['Bad']))\n"
   ]
  },
  {
   "cell_type": "markdown",
   "metadata": {},
   "source": [
    "# Test : log normal distribution - pareto "
   ]
  },
  {
   "cell_type": "code",
   "execution_count": 13,
   "metadata": {},
   "outputs": [
    {
     "name": "stdout",
     "output_type": "stream",
     "text": [
      "## Makespan stats for Good tasks\n",
      "Fit params for lognorm : (1.4212266630988188, 0, 517.69627936618781)\n",
      "KS test for lognorm : (0.056843361118668223, 0.0)\n"
     ]
    },
    {
     "name": "stderr",
     "output_type": "stream",
     "text": [
      "/usr/lib/python2.7/dist-packages/scipy/stats/distributions.py:1928: RuntimeWarning: invalid value encountered in double_scalars\n",
      "  Lhat = muhat - Shat*mu\n"
     ]
    },
    {
     "name": "stdout",
     "output_type": "stream",
     "text": [
      "Fit params for pareto : (0.11286526232991492, 0, 0.073068999993754338)\n",
      "KS test for pareto : (0.50199217569709587, 0.0)\n",
      "## Makespan stats for Bad tasks\n",
      "Fit params for lognorm : (2.0564740975503595, 0, 463.99375773325403)\n",
      "KS test for lognorm : (0.064233134133444392, 0.0)\n",
      "Fit params for pareto : (0.091550438630806197, 0, 0.0077039999987571512)\n",
      "KS test for pareto : (0.48754334039537983, 0.0)\n"
     ]
    }
   ],
   "source": [
    "import scipy.stats\n",
    "\n",
    "for t in ['Good', 'Bad']:\n",
    "    print(\"## Makespan stats for {} tasks\".format(t))\n",
    "\n",
    "    for dist_name in ['lognorm', 'pareto']:\n",
    "        d = getattr(scipy.stats, dist_name)\n",
    "\n",
    "        param = d.fit(makespan[t], floc=0)\n",
    "        print(\"Fit params for {} : {}\".format(dist_name, param))\n",
    "        cdf =  lambda x: d.cdf(x, *param[:-2], loc=param[-2], scale=param[-1])\n",
    "\n",
    "        ks = scipy.stats.kstest(makespan[t], cdf)\n",
    "        print(\"KS test for {} : {}\".format(dist_name, ks))"
   ]
  },
  {
   "cell_type": "markdown",
   "metadata": {},
   "source": [
    "# Stats"
   ]
  },
  {
   "cell_type": "code",
   "execution_count": 14,
   "metadata": {},
   "outputs": [
    {
     "name": "stdout",
     "output_type": "stream",
     "text": [
      "sc, prio, diff, diffrel, makespan\n",
      "[(1, 2, 2.469383, 0.0001874781410543501, 13171.578223), (0, 4, 1.290144, 0.0027936464810472826, 461.813622), (0, 0, 2.396646, 0.022818108131992577, 105.032634), (0, 4, 4.663145, 0.006099350035643138, 764.531462), (0, 0, 1.336107, 0.005289367294432614, 252.602424), (0, 4, 1.503338, 0.0023671063103712876, 635.095261), (0, 4, 31.370127, 0.006090222596532824, 5150.899906), (0, 4, 2.001668, 0.010291355836007984, 194.499931), (0, 6, 4.926309, 0.030516940718056485, 161.428665), (1, 4, 1.13914, 0.0018454203207303387, 617.279428)]\n"
     ]
    }
   ],
   "source": [
    "print 'sc, prio, diff, diffrel, makespan'\n",
    "print classification['Good'][:10]"
   ]
  },
  {
   "cell_type": "markdown",
   "metadata": {},
   "source": [
    "# classes & prio"
   ]
  },
  {
   "cell_type": "code",
   "execution_count": 15,
   "metadata": {},
   "outputs": [
    {
     "name": "stdout",
     "output_type": "stream",
     "text": [
      "Good\n",
      "Schedulin Classes [14901940, 2738022, 167943, 60]\n",
      "Priorities [3439929, 1641846, 986540, 982, 11076548, 104, 498723, 0, 114103, 49190, 0, 0, 0]\n",
      "Bad\n",
      "Schedulin Classes [5415458, 589261, 365387, 49554]\n",
      "Priorities [2261617, 715428, 91936, 45, 2898530, 0, 134722, 0, 135829, 180974, 579, 0, 0]\n"
     ]
    }
   ],
   "source": [
    "def qual(data):\n",
    "    scl=[0]*4\n",
    "    priol=[0]*13\n",
    "    for (sc, prio, diff, diffrel, makespan) in data:\n",
    "        scl[int(sc)] += 1\n",
    "        priol[int(prio)] += 1\n",
    "    return scl, priol\n",
    "\n",
    "(sclGood, prioGood) = qual(classification['Good'])\n",
    "print 'Good'\n",
    "print 'Schedulin Classes' , sclGood\n",
    "print 'Priorities', prioGood\n",
    "\n",
    "(sclBad, prioBad) = qual(classification['Bad'])\n",
    "print 'Bad'\n",
    "print 'Schedulin Classes' , sclBad\n",
    "print 'Priorities', prioBad\n",
    "\n",
    "scl={'Good':sclGood,'Bad':sclBad}\n",
    "prio={'Good':prioGood,'Bad':prioBad}"
   ]
  },
  {
   "cell_type": "markdown",
   "metadata": {},
   "source": [
    "## Relation between priority and scheduling class"
   ]
  },
  {
   "cell_type": "code",
   "execution_count": 16,
   "metadata": {
    "collapsed": true,
    "jupyter": {
     "outputs_hidden": true
    }
   },
   "outputs": [],
   "source": [
    "prio_sclasses = {}\n",
    "priogroup_sclasses = {}\n",
    "\n",
    "def classify_prio_sclasses(name, classif):\n",
    "    sclasses_grouped = []\n",
    "    prio_groups = [range(0, 2), range(2, 9), [9, 11], [10]]\n",
    "    sclasses_prio = [ 12*[0] for x in range(4) ]\n",
    "    \n",
    "    for t in classif:\n",
    "        sclasses_prio[t[0]][t[1]] += 1\n",
    "        \n",
    "    # normalization\n",
    "    sclasses_count = 4*[0]\n",
    "    for i in range(4):\n",
    "        count = sum(sclasses_prio[i])\n",
    "        sclasses_count[i] = count\n",
    "        #print(\"sclass {} : {} tasks\".format(i, count))\n",
    "        if count != 0:\n",
    "            sclasses_prio[i] = [ sclasses_prio[i][j] / float(count) for j in range(12)]\n",
    "    \n",
    "    # priority groups\n",
    "    for i in range(4):\n",
    "        sclass = []\n",
    "        for group in prio_groups:\n",
    "            groupsum = 0.0\n",
    "            for j in group:\n",
    "                groupsum += sclasses_prio[i][j]\n",
    "            sclass.append(groupsum)\n",
    "        sclasses_grouped.append(sclass)\n",
    "\n",
    "    global prio_sclasses\n",
    "    global priogroup_sclasses\n",
    "    prio_sclasses[name] = sclasses_prio\n",
    "    priogroup_sclasses[name] = sclasses_grouped\n",
    "    "
   ]
  },
  {
   "cell_type": "code",
   "execution_count": 17,
   "metadata": {
    "collapsed": true,
    "jupyter": {
     "outputs_hidden": true
    }
   },
   "outputs": [],
   "source": [
    "classify_prio_sclasses('Good', classification['Good'])\n",
    "classify_prio_sclasses('Bad', classification['Bad'])\n",
    "classify_prio_sclasses('All', classification['Bad'] + classification['Good'])\n",
    "\n",
    "sclasses_colors = ['green', 'greenyellow', 'orange', 'red']"
   ]
  },
  {
   "cell_type": "markdown",
   "metadata": {},
   "source": [
    "### For 'good' tasks"
   ]
  },
  {
   "cell_type": "code",
   "execution_count": 18,
   "metadata": {},
   "outputs": [
    {
     "data": {
      "image/png": "[encoded data removed]",
      "text/plain": [
       "<matplotlib.figure.Figure at 0x7fcd1fba2d10>"
      ]
     },
     "metadata": {},
     "output_type": "display_data"
    }
   ],
   "source": [
    "fig, ax = plt.subplots()\n",
    "#fig.set_size_inches(10.0, 5.0)\n",
    "#plt.title('Distribution of priority groups for each scheduling class for finishing tasks')\n",
    "\n",
    "ind = np.arange(4)\n",
    "width = 0.21\n",
    "rects = []\n",
    "for i in range(4):\n",
    "    rects.append(ax.bar(ind + (i-2)*width, priogroup_sclasses['Good'][i], width=width, color=sclasses_colors[i]))\n",
    "\n",
    "ax.set_xticks(ind)\n",
    "ax.set_xticklabels(['Free', 'Normal', 'Production', 'Monitoring'])\n",
    "ax.legend(tuple([rect[0] for rect in rects]), ('0 (Lowest)', '1 (Low)', '2 (Middle)', '3 (High)'),fontsize='medium')\n",
    "save_fig(\"distrib_sclass_prio_finish\")"
   ]
  },
  {
   "cell_type": "markdown",
   "metadata": {},
   "source": [
    "### For 'bad' tasks (services)"
   ]
  },
  {
   "cell_type": "code",
   "execution_count": 19,
   "metadata": {},
   "outputs": [
    {
     "data": {
      "image/png": "[encoded data removed]",
      "text/plain": [
       "<matplotlib.figure.Figure at 0x7fcb7013f450>"
      ]
     },
     "metadata": {},
     "output_type": "display_data"
    }
   ],
   "source": [
    "fig, ax = plt.subplots()\n",
    "\n",
    "\n",
    "ind = np.arange(4)\n",
    "width = 0.21\n",
    "rects = []\n",
    "for i in range(4):\n",
    "    rects.append(ax.bar(ind + (i-2)*width, priogroup_sclasses['Bad'][i], width=width, color=sclasses_colors[i]))\n",
    "\n",
    "ax.set_xticks(ind)\n",
    "ax.set_xticklabels(['Free', 'Normal', 'Production', 'Monitoring'])\n",
    "#ax.legend(tuple([rect[0] for rect in rects]), ('0 (Lowest)', '1 (Low)', '2 (Middle)', '3 (High)'), loc=\"right\")\n",
    "ax.legend(tuple([rect[0] for rect in rects]), ('0 (Lowest)', '1 (Low)', '2 (Middle)', '3 (High)'), fontsize='medium')\n",
    "\n",
    "save_fig(\"distrib_sclass_prio_killed\")"
   ]
  },
  {
   "cell_type": "markdown",
   "metadata": {},
   "source": [
    "### For all tasks"
   ]
  },
  {
   "cell_type": "code",
   "execution_count": 20,
   "metadata": {},
   "outputs": [
    {
     "data": {
      "image/png": "[encoded data removed]",
      "text/plain": [
       "<matplotlib.figure.Figure at 0x7fcd0c760050>"
      ]
     },
     "metadata": {},
     "output_type": "display_data"
    }
   ],
   "source": [
    "fig, ax = plt.subplots()\n",
    "#fig.set_size_inches(10.0, 5.0)\n",
    "#plt.title('Distribution of task priority among each scheduling class')\n",
    "\n",
    "ind = np.arange(4)\n",
    "width = 0.21\n",
    "rects = []\n",
    "for i in range(4):\n",
    "    rects.append(ax.bar(ind + (i-2)*width, priogroup_sclasses['All'][i], width=width, color=sclasses_colors[i]))\n",
    "\n",
    "ax.set_ybound(0, 1)\n",
    "ax.set_xticks(ind)\n",
    "ax.set_xticklabels(['Free', 'Normal', 'Production', 'Monitoring'])\n",
    "ax.legend(tuple([rect[0] for rect in rects]), ('0 (Lowest)', '1 (Low)', '2 (Middle)', '3 (High)'),fontsize='medium')\n",
    "save_fig(\"distrib_sclass_prio\")"
   ]
  },
  {
   "cell_type": "markdown",
   "metadata": {},
   "source": [
    "## Makespan stats for tasks and services"
   ]
  },
  {
   "cell_type": "code",
   "execution_count": 21,
   "metadata": {},
   "outputs": [],
   "source": [
    "def priogroup_makespan_stats(classif):\n",
    "    # 12 priority levels\n",
    "    prio_makespan = [[] for _ in range(12)]\n",
    "\n",
    "    for t in classif:\n",
    "        prio_makespan[t[1]].append(t[4])\n",
    "\n",
    "    # stats\n",
    "    prio_makespan_average = [np.average(m) for m in prio_makespan]\n",
    "    prio_makespan_std = [np.std(m) for m in prio_makespan]\n",
    "    prio_makespan_median = [np.median(m) for m in prio_makespan]\n",
    "\n",
    "    # stats for priority groups\n",
    "    pm = prio_makespan\n",
    "    gprio_makespan = [pm[0] + pm[1], pm[2] + pm[3] + pm[4] + pm[5] + pm[6] + pm[7] + pm[8], pm[9] + pm[11], pm[10]]\n",
    "\n",
    "    gprio_makespan_average = [np.average(m) for m in gprio_makespan]\n",
    "    gprio_makespan_std = [np.std(m) for m in gprio_makespan]\n",
    "    gprio_makespan_median = [np.median(m) for m in gprio_makespan]\n",
    "\n",
    "    # stats for ALL tasks\n",
    "    am = []\n",
    "    for m in pm:\n",
    "        am += m\n",
    "    all_stats = [len(am), np.average(am), np.std(am), np.median(am)]\n",
    "    #print(\"All : {}\".format(all_stats))\n",
    "\n",
    "    #print(\"Task number for each priority group : {}\".format([len(m) for m in gprio_makespan]))\n",
    "    #print(\"Task makespan mean for each priority group : {}\".format(gprio_makespan_average))\n",
    "    #print(\"Task makespan median for each priority group : {}\".format(gprio_makespan_median))\n",
    "    #print(\"Task makespan std dev for each priority group : {}\".format(gprio_makespan_std))\n",
    "    \n",
    "    ret = {}\n",
    "    for pgroup in [('Free', 0), ('Normal', 1), ('Production', 2), ('Monitoring', 3), ('All', -1)]:\n",
    "        tmp = {}\n",
    "        if pgroup[1] >= 0:\n",
    "            tmp['count'] = len(gprio_makespan[pgroup[1]])\n",
    "            tmp['avg'] = gprio_makespan_average[pgroup[1]]\n",
    "            tmp['std'] = gprio_makespan_std[pgroup[1]]\n",
    "            tmp['med'] = gprio_makespan_median[pgroup[1]]\n",
    "        else:\n",
    "            # all\n",
    "            tmp['count'] = all_stats[0]\n",
    "            tmp['avg'] = all_stats[1]\n",
    "            tmp['std'] = all_stats[2]\n",
    "            tmp['med'] = all_stats[3]\n",
    "        ret[pgroup[0]] = tmp\n",
    "        \n",
    "    return ret\n",
    "\n",
    "\n",
    "\n"
   ]
  },
  {
   "cell_type": "code",
   "execution_count": 22,
   "metadata": {},
   "outputs": [
    {
     "name": "stderr",
     "output_type": "stream",
     "text": [
      "/usr/lib/python2.7/dist-packages/numpy/core/_methods.py:55: RuntimeWarning: Mean of empty slice.\n",
      "  warnings.warn(\"Mean of empty slice.\", RuntimeWarning)\n",
      "/usr/lib/python2.7/dist-packages/numpy/core/_methods.py:67: RuntimeWarning: invalid value encountered in double_scalars\n",
      "  ret = ret.dtype.type(ret / rcount)\n",
      "/usr/lib/python2.7/dist-packages/numpy/core/_methods.py:79: RuntimeWarning: Degrees of freedom <= 0 for slice\n",
      "  warnings.warn(\"Degrees of freedom <= 0 for slice\", RuntimeWarning)\n",
      "/usr/lib/python2.7/dist-packages/numpy/core/_methods.py:91: RuntimeWarning: invalid value encountered in true_divide\n",
      "  arrmean, rcount, out=arrmean, casting='unsafe', subok=False)\n",
      "/usr/lib/python2.7/dist-packages/numpy/core/_methods.py:113: RuntimeWarning: invalid value encountered in double_scalars\n",
      "  ret = ret.dtype.type(ret / rcount)\n"
     ]
    },
    {
     "name": "stdout",
     "output_type": "stream",
     "text": [
      "All statistics for both Tasks and Services (table VI and VII) :\n",
      "{'Bad': {'All': {'count': 6419660, 'std': 59363.797782965485, 'avg': 7994.3455957533452, 'med': 333.82506899999998}, 'Production': {'count': 180974, 'std': 294182.35499764903, 'avg': 148424.38833104685, 'med': 31429.425025500001}, 'Monitoring': {'count': 579, 'std': 579101.91805430409, 'avg': 388232.54421172565, 'med': 71831.589154999994}, 'Free': {'count': 2977045, 'std': 24336.442485204927, 'avg': 5195.6308373594229, 'med': 595.42672900000002}, 'Normal': {'count': 3261062, 'std': 19468.978667944168, 'avg': 2688.5756677143754, 'med': 213.9071375}}, 'Good': {'All': {'count': 17807965, 'std': 5034.5250872828892, 'avg': 1693.5795784507297, 'med': 448.90721300000001}, 'Production': {'count': 49190, 'std': 1955.1163226978615, 'avg': 493.89708989109852, 'med': 39.124604500000004}, 'Monitoring': {'count': 0, 'std': nan, 'avg': nan, 'med': nan}, 'Free': {'count': 5081775, 'std': 4518.6755414386571, 'avg': 1937.9013453466578, 'med': 345.790075}, 'Normal': {'count': 12677000, 'std': 5231.3686295941561, 'avg': 1600.2944269675959, 'med': 492.56216949999998}}}\n"
     ]
    }
   ],
   "source": [
    "priogroup_makespan = {}\n",
    "priogroup_makespan['Good'] = priogroup_makespan_stats(classification['Good'])\n",
    "priogroup_makespan['Bad'] = priogroup_makespan_stats(classification['Bad'])\n",
    "\n",
    "print(\"All statistics for both Tasks and Services (table VI and VII) :\")\n",
    "print(str(priogroup_makespan))"
   ]
  },
  {
   "cell_type": "code",
   "execution_count": 23,
   "metadata": {
    "collapsed": true,
    "jupyter": {
     "outputs_hidden": true
    }
   },
   "outputs": [],
   "source": [
    "# Prepare only the average for next figure (reversed classification)\n",
    "average_all_gprio = {}\n",
    "\n",
    "for etype in ['Good', 'Bad']:\n",
    "    tmp = []\n",
    "    for g in ['Free', 'Normal', 'Production', 'Monitoring']:\n",
    "        tmp.append(priogroup_makespan[etype][g]['avg'])\n",
    "    average_all_gprio[etype] = tmp"
   ]
  },
  {
   "cell_type": "code",
   "execution_count": 24,
   "metadata": {},
   "outputs": [
    {
     "name": "stderr",
     "output_type": "stream",
     "text": [
      "/usr/lib/pymodules/python2.7/matplotlib/scale.py:97: RuntimeWarning: invalid value encountered in less_equal\n",
      "  a[a <= 0.0] = 1e-300\n"
     ]
    },
    {
     "data": {
      "image/png": "[encoded data removed]",
      "text/plain": [
       "<matplotlib.figure.Figure at 0x7fccfdb8a810>"
      ]
     },
     "metadata": {},
     "output_type": "display_data"
    }
   ],
   "source": [
    "fig, ax = plt.subplots()\n",
    "#plt.title('Average makespan for each priority')\n",
    "ax.set_yscale('log', nonposy='clip')\n",
    "ax.set_ylabel('Makespan (s)')\n",
    "plt.xticks(range(4), ['Free', 'Normal', 'Production', 'Monitoring'])\n",
    "\n",
    "#plt.bar(np.arange(4)-0.3, gprio_makespan_average, yerr=gprio_makespan_std, color='y', width=0.6)\n",
    "ax.bar(np.arange(4)-0.3, average_all_gprio['Good'], color='g', width=0.3, label='Finish')\n",
    "ax.bar(np.arange(4), average_all_gprio['Bad'], color='b', width=0.3, label='Kill')\n",
    "\n",
    "ax.set_ybound(10)\n",
    "plt.legend(loc=\"right\", fontsize='medium')\n",
    "save_fig(\"makespan_average_finish_kill\")"
   ]
  },
  {
   "cell_type": "markdown",
   "metadata": {},
   "source": [
    "# Histograms of makespan for both Good/Bad\n"
   ]
  },
  {
   "cell_type": "code",
   "execution_count": 25,
   "metadata": {},
   "outputs": [
    {
     "name": "stdout",
     "output_type": "stream",
     "text": [
      "17807965\n",
      "6419660\n"
     ]
    }
   ],
   "source": [
    "makespans = {}\n",
    "\n",
    "for etype in ['Good', 'Bad']:\n",
    "    temp = []\n",
    "    for t in classification[etype]:\n",
    "        temp.append(t[4])\n",
    "    makespans[etype] = temp\n",
    "    print(len(temp))"
   ]
  },
  {
   "cell_type": "code",
   "execution_count": 26,
   "metadata": {},
   "outputs": [
    {
     "data": {
      "image/png": "[encoded data removed]",
      "text/plain": [
       "<matplotlib.figure.Figure at 0x7fcc9c11bdd0>"
      ]
     },
     "metadata": {},
     "output_type": "display_data"
    }
   ],
   "source": [
    "plt.figure()\n",
    "\n",
    "#plt.title('Distribution of makespan for killed tasks')\n",
    "plt.yscale('log', nonposy='clip')\n",
    "plt.hist(makespans['Bad'],100)\n",
    "plt.xlabel('Time (s)')\n",
    "plt.ylabel('Number of tasks')\n",
    "save_fig(\"makespan_histo_kill\")"
   ]
  },
  {
   "cell_type": "code",
   "execution_count": 27,
   "metadata": {},
   "outputs": [
    {
     "data": {
      "image/png": "[encoded data removed]",
      "text/plain": [
       "<matplotlib.figure.Figure at 0x7fcc9c118890>"
      ]
     },
     "metadata": {},
     "output_type": "display_data"
    }
   ],
   "source": [
    "plt.figure()\n",
    "\n",
    "#plt.title('Distribution of makespan for finished tasks')\n",
    "plt.yscale('log', nonposy='clip')\n",
    "plt.hist(makespans['Good'],100)\n",
    "plt.xlabel('Time (s)')\n",
    "plt.ylabel('Number of tasks')\n",
    "save_fig(\"makespan_histo_finish\")"
   ]
  },
  {
   "cell_type": "markdown",
   "metadata": {},
   "source": [
    "# Arrival time"
   ]
  },
  {
   "cell_type": "code",
   "execution_count": 37,
   "metadata": {},
   "outputs": [
    {
     "name": "stdout",
     "output_type": "stream",
     "text": [
      "Interarrival time : mean=0.05196260895,median=2e-06\n",
      "[600.047726, 0.771533, 2.489368, 0.737554, 9.9e-05, 0.0002, 1.2e-05, 8.7e-05, 1.540691, 0.000363]\n",
      "finished\n"
     ]
    },
    {
     "data": {
      "image/png": "[encoded data removed]",
      "text/plain": [
       "<matplotlib.figure.Figure at 0x7fcb8f70a650>"
      ]
     },
     "metadata": {},
     "output_type": "display_data"
    }
   ],
   "source": [
    "arrival_delta = map(lambda x: float(x)/1000000, arrival_time)\n",
    "print arrival_delta[:10] \n",
    "print(\"Interarrival time : mean={},median={}\".format(np.mean(arrival_delta), np.median(arrival_delta)))\n",
    "\n",
    "\n",
    "import numpy as np\n",
    "from scipy.stats import kstest\n",
    "import scipy as sc\n",
    "\n",
    "#print kstest(arrival_delta, 'expon')\n",
    "\n",
    "#(b,loc, scale) = sc.stats.pareto.fit(arrival_delta, .7)\n",
    "print 'finished'\n",
    "images_path =\"figures_res/\"\n",
    "\n",
    "#fig, ax = plt.subplots(1, 1)\n",
    "#print (b,loc, scale)\n",
    "\n",
    "fig, ax = plt.subplots()\n",
    "plt.xlabel('Time (s)')\n",
    "plt.ylabel('Number of tasks')\n",
    "plt.yscale('log', nonposy='clip')\n",
    "vals = sc.stats.pareto.rvs(5,  size=len(arrival_time))\n",
    "\n",
    "v1=[x for x in arrival_delta if x < 8]\n",
    "v2=[x-1 for x in vals if x < 9]\n",
    "\n",
    "#_=plt.hist([v1,v2],100)\n",
    "\n",
    "ax.hist(v1, 50)\n",
    "ax.hist(v2, 50, rwidth=.5)\n",
    "#title='Distribution of inter-arrival time'\n",
    "ax.legend(['Google Traces Interarrival Time','Pareto law with exponent=5'],fontsize='medium')\n",
    "save_fig('interarrival')\n",
    "#plt.title('Distribution of inter-arrival time')\n"
   ]
  },
  {
   "cell_type": "code",
   "execution_count": 29,
   "metadata": {},
   "outputs": [
    {
     "data": {
      "image/png": "[encoded data removed]",
      "text/plain": [
       "<matplotlib.figure.Figure at 0x7fcaa8669d50>"
      ]
     },
     "metadata": {},
     "output_type": "display_data"
    }
   ],
   "source": [
    "\n",
    "fig, ax = plt.subplots()\n",
    "plt.xlabel('Time (s)')\n",
    "plt.ylabel('Number of tasks')\n",
    "plt.yscale('log', nonposy='clip')\n",
    "vals = sc.stats.pareto.rvs(5,  size=len(arrival_time))\n",
    "\n",
    "v1=[x for x in arrival_delta if x < 8]\n",
    "v2=[x-1 for x in vals if x < 9]\n",
    "\n",
    "nbbins = 50.0\n",
    "xlim = 8.0\n",
    "\n",
    "x = np.linspace(0.01, 8, 200)\n",
    "factor = len(v1) * (xlim/nbbins)\n",
    "pareto_model = sc.stats.pareto.pdf(x, 5, loc=-1) * factor\n",
    "\n",
    "#_=plt.hist([v1,v2],100)\n",
    "\n",
    "ax.hist(v1, 50, color='y', edgecolor='brown', label='Google Traces Interarrival Time')\n",
    "ax.plot(x, pareto_model, color='b', label='Pareto law with exponent=5', linewidth=2)\n",
    "\n",
    "ax.set_ybound(lower=1)\n",
    "\n",
    "#ax.hist(v2, 50, rwidth=.5)\n",
    "#title='Distribution of inter-arrival time'\n",
    "ax.legend(fontsize='medium')\n",
    "save_fig('interarrival_plot')\n",
    "#plt.title('Distribution of inter-arrival time')\n"
   ]
  },
  {
   "cell_type": "markdown",
   "metadata": {},
   "source": [
    "# Tables\n",
    "\n"
   ]
  },
  {
   "cell_type": "markdown",
   "metadata": {},
   "source": []
  },
  {
   "cell_type": "code",
   "execution_count": 30,
   "metadata": {},
   "outputs": [
    {
     "name": "stdout",
     "output_type": "stream",
     "text": [
      "Number of events {} Total : 0\n",
      "Number of bad events 0\n",
      "Final events for three events {}\n"
     ]
    }
   ],
   "source": [
    "def tasks_stats(tasks):\n",
    "    l=defaultdict(int)\n",
    "    bad=0\n",
    "    last_event=defaultdict(int)\n",
    "    for i in tasks:\n",
    "        evts=tasks[i][2]\n",
    "        li=len(evts)\n",
    "        l[li]=l[li]+1\n",
    "        if li==3:\n",
    "            if evts[0][0] != 0 or evts[1][0]!= 1:\n",
    "                bad=bad+1\n",
    "            last_event[evts[2][0]]=last_event[evts[2][0]]+1\n",
    "    return (dict(l),dict(last_event), bad)\n",
    "\n",
    "l, last, bad = tasks_stats(tasks)\n",
    "print 'Number of events', l, 'Total :', len(tasks)\n",
    "print 'Number of bad events', bad\n",
    "print 'Final events for three events', last"
   ]
  },
  {
   "cell_type": "code",
   "execution_count": null,
   "metadata": {
    "collapsed": true,
    "jupyter": {
     "outputs_hidden": true
    }
   },
   "outputs": [],
   "source": []
  },
  {
   "cell_type": "code",
   "execution_count": null,
   "metadata": {
    "collapsed": true,
    "jupyter": {
     "outputs_hidden": true
    }
   },
   "outputs": [],
   "source": []
  },
  {
   "cell_type": "markdown",
   "metadata": {},
   "source": [
    "## Table III : Number of tasks and frequency for each scheduling class"
   ]
  },
  {
   "cell_type": "code",
   "execution_count": 31,
   "metadata": {},
   "outputs": [
    {
     "name": "stdout",
     "output_type": "stream",
     "text": [
      "[20317398, 3327283, 533330, 49614]\n",
      "[83.86046094076494, 13.733426202527074, 2.201330093230352, 0.20478276347764174]\n"
     ]
    }
   ],
   "source": [
    "sclTotal = []\n",
    "for i in range(len(sclGood)):\n",
    "    sclTotal.append(sclGood[i] + sclBad[i]) \n",
    "    \n",
    "sclTotalPercentage = [float(x) * 100.0 / sum(sclTotal) for x in sclTotal]\n",
    "\n",
    "print(sclTotal)\n",
    "print(sclTotalPercentage)"
   ]
  },
  {
   "cell_type": "markdown",
   "metadata": {},
   "source": [
    "## Table IV : Number of tasks for each priority level"
   ]
  },
  {
   "cell_type": "code",
   "execution_count": 32,
   "metadata": {},
   "outputs": [
    {
     "name": "stdout",
     "output_type": "stream",
     "text": [
      "[5701546, 2357274, 1078476, 1027, 13975078, 104, 633445, 0, 249932, 230164, 579, 0, 0]\n"
     ]
    }
   ],
   "source": [
    "prioTotal = []\n",
    "for i in range(len(prioGood)):\n",
    "    prioTotal.append(prioGood[i] + prioBad[i]) \n",
    "\n",
    "print(prioTotal)"
   ]
  },
  {
   "cell_type": "markdown",
   "metadata": {},
   "source": [
    "## Table V : Number of tasks and frequency for the four priority groups"
   ]
  },
  {
   "cell_type": "code",
   "execution_count": 33,
   "metadata": {},
   "outputs": [
    {
     "name": "stdout",
     "output_type": "stream",
     "text": [
      "[8058820, 15938062, 230164, 579]\n",
      "[33.26293848447795, 65.78466523235356, 0.9500064492495653, 0.002389833918925194]\n"
     ]
    }
   ],
   "source": [
    "prio_groups = [range(0, 2), range(2, 9), [9, 11], [10]]\n",
    "    \n",
    "# priority groups\n",
    "prioGroupsTotal = []\n",
    "for group in prio_groups:\n",
    "    groupsum = 0\n",
    "    for j in group:\n",
    "        groupsum += prioGood[j] + prioBad[j]\n",
    "    prioGroupsTotal.append(groupsum)\n",
    "\n",
    "prioGroupsPercentage = [float(x) * 100.0 / sum(prioGroupsTotal) for x in prioGroupsTotal]\n",
    "    \n",
    "print(prioGroupsTotal)\n",
    "print(prioGroupsPercentage)"
   ]
  },
  {
   "cell_type": "markdown",
   "metadata": {},
   "source": [
    "## Table VI : Statistics for execution time of task finsihed by a Finish event "
   ]
  },
  {
   "cell_type": "code",
   "execution_count": 34,
   "metadata": {},
   "outputs": [
    {
     "name": "stdout",
     "output_type": "stream",
     "text": [
      "All : [17807965, 1693.5795784507297, 5034.5250872828892, 448.90721300000001]\n",
      "Task number for each priority group : [5081775, 12677000, 49190, 0]\n",
      "Task makespan mean for each priority group : [1937.9013453466578, 1600.2944269675959, 493.89708989109852, nan]\n",
      "Task makespan median for each priority group : [345.790075, 492.56216949999998, 39.124604500000004, nan]\n",
      "Task makespan std dev for each priority group : [4518.6755414386571, 5231.3686295941561, 1955.1163226978615, nan]\n"
     ]
    }
   ],
   "source": [
    "# 12 priority levels\n",
    "prio_makespan = [[] for _ in range(12)]\n",
    "\n",
    "for t in classification['Good']:\n",
    "    prio_makespan[t[1]].append(t[4])\n",
    "\n",
    "# stats\n",
    "prio_makespan_average = [np.average(m) for m in prio_makespan]\n",
    "prio_makespan_std = [np.std(m) for m in prio_makespan]\n",
    "prio_makespan_median = [np.median(m) for m in prio_makespan]\n",
    "\n",
    "pm = prio_makespan\n",
    "gprio_makespan = [pm[0] + pm[1], pm[2] + pm[3] + pm[4] + pm[5] + pm[6] + pm[7] + pm[8], pm[9] + pm[11], pm[10]]\n",
    "\n",
    "gprio_makespan_average = [np.average(m) for m in gprio_makespan]\n",
    "gprio_makespan_std = [np.std(m) for m in gprio_makespan]\n",
    "gprio_makespan_median = [np.median(m) for m in gprio_makespan]\n",
    "\n",
    "\n",
    "am = []\n",
    "for m in pm:\n",
    "    am += m\n",
    "all_stats = [len(am), np.average(am), np.std(am), np.median(am)]\n",
    "print(\"All : {}\".format(all_stats))\n",
    "\n",
    "print(\"Task number for each priority group : {}\".format([len(m) for m in gprio_makespan]))\n",
    "print(\"Task makespan mean for each priority group : {}\".format(gprio_makespan_average))\n",
    "print(\"Task makespan median for each priority group : {}\".format(gprio_makespan_median))\n",
    "print(\"Task makespan std dev for each priority group : {}\".format(gprio_makespan_std))\n"
   ]
  },
  {
   "cell_type": "markdown",
   "metadata": {},
   "source": [
    "## Table VII : Statistics for execution time of tasks finished by a Kill event"
   ]
  },
  {
   "cell_type": "code",
   "execution_count": 35,
   "metadata": {},
   "outputs": [
    {
     "name": "stdout",
     "output_type": "stream",
     "text": [
      "All : [6419660, 7994.3455957533452, 59363.797782965485, 333.82506899999998]\n",
      "Task number for each priority group : [2977045, 3261062, 180974, 579]\n",
      "Task makespan mean for each priority group : [5195.6308373594229, 2688.5756677143754, 148424.38833104685, 388232.54421172565]\n",
      "Task makespan median for each priority group : [595.42672900000002, 213.9071375, 31429.425025500001, 71831.589154999994]\n",
      "Task makespan std dev for each priority group : [24336.442485204927, 19468.978667944168, 294182.35499764903, 579101.91805430409]\n",
      "test max : [1895984.935249, 2075736.979765, 2491521.08298, 2222525.79188]\n"
     ]
    }
   ],
   "source": [
    "# 12 priority levels\n",
    "prio_makespan = [[] for _ in range(12)]\n",
    "\n",
    "for t in classification['Bad']:\n",
    "    prio_makespan[t[1]].append(t[4])\n",
    "\n",
    "# stats\n",
    "prio_makespan_average = [np.average(m) for m in prio_makespan]\n",
    "prio_makespan_std = [np.std(m) for m in prio_makespan]\n",
    "prio_makespan_median = [np.median(m) for m in prio_makespan]\n",
    "\n",
    "pm = prio_makespan\n",
    "gprio_makespan = [pm[0] + pm[1], pm[2] + pm[3] + pm[4] + pm[5] + pm[6] + pm[7] + pm[8], pm[9] + pm[11], pm[10]]\n",
    "\n",
    "gprio_makespan_average = [np.average(m) for m in gprio_makespan]\n",
    "gprio_makespan_std = [np.std(m) for m in gprio_makespan]\n",
    "gprio_makespan_median = [np.median(m) for m in gprio_makespan]\n",
    "\n",
    "\n",
    "am = []\n",
    "for m in pm:\n",
    "    am += m\n",
    "all_stats = [len(am), np.average(am), np.std(am), np.median(am)]\n",
    "print(\"All : {}\".format(all_stats))\n",
    "\n",
    "\n",
    "print(\"Task number for each priority group : {}\".format([len(m) for m in gprio_makespan]))\n",
    "print(\"Task makespan mean for each priority group : {}\".format(gprio_makespan_average))\n",
    "print(\"Task makespan median for each priority group : {}\".format(gprio_makespan_median))\n",
    "print(\"Task makespan std dev for each priority group : {}\".format(gprio_makespan_std))\n",
    "print(\"test max : {}\".format([max(m if len(m) != 0 else [0]) for m in gprio_makespan]))\n"
   ]
  },
  {
   "cell_type": "markdown",
   "metadata": {},
   "source": [
    "# K-means analysis\n",
    "Clustering of tasks on makespan, prio, sclass.\n",
    "Using sklearn for several reasons (better tools, results and efficiency)."
   ]
  },
  {
   "cell_type": "code",
   "execution_count": 183,
   "metadata": {
    "collapsed": true,
    "jupyter": {
     "outputs_hidden": true
    }
   },
   "outputs": [],
   "source": [
    "from numpy import array\n",
    "from scipy.cluster.vq import vq, kmeans, kmeans2, whiten\n",
    "import random\n",
    "\n",
    "\n",
    "from mpl_toolkits.mplot3d import Axes3D"
   ]
  },
  {
   "cell_type": "code",
   "execution_count": 184,
   "metadata": {
    "collapsed": true,
    "jupyter": {
     "outputs_hidden": true
    }
   },
   "outputs": [],
   "source": [
    "from sklearn.datasets import make_blobs\n",
    "from sklearn.cluster import KMeans\n",
    "from sklearn.metrics import silhouette_samples, silhouette_score\n",
    "\n",
    "import matplotlib.pyplot as plt\n",
    "import matplotlib.cm as cm"
   ]
  },
  {
   "cell_type": "code",
   "execution_count": null,
   "metadata": {
    "collapsed": true,
    "jupyter": {
     "outputs_hidden": true
    }
   },
   "outputs": [],
   "source": [
    "\n",
    "# prepare data\n",
    "all_no_diff = lambda sclass, prio, diff, diffrel, makespan : (float(makespan), prio, sclass)\n",
    "#all_no_diff_filter = lambda sclass, prio, diff, diffrel, makespan : diff<100000 and diff > 0.01 and makespan < 10000000 and makespan > 1\n",
    "all_no_diff_filter = lambda sclass, prio, diff, diffrel, makespan : makespan > 1\n",
    "\n",
    "\n",
    "def prepare_data_kmeans(fields_func, filter_func):\n",
    "    transform = lambda items : array([fields_func(*item) for item in items if filter_func(*item)])\n",
    "    \n",
    "    items_good = transform(classification['Good'])\n",
    "    items_bad = transform(classification['Bad'])\n",
    "    \n",
    "    items_all = np.concatenate((items_good, items_bad))\n",
    "    \n",
    "    std_items = np.std(items_all, 0)\n",
    "    \n",
    "    return (np.divide(items_all, std_items), len(items_good), std_items)\n",
    "    \n",
    "\n",
    "def do_kmeans_analysis2(k, whiten, good_nb, std_items, postprocess_func=None):\n",
    "    nbcluster = k\n",
    "    \n",
    "    #centroids_whiten, distortion = kmeans(whiten, nbcluster)\n",
    "    #idx,_ = vq(whiten, centroids_whiten)\n",
    "\n",
    "    resolv = KMeans(k)\n",
    "    resolv.fit(whiten)\n",
    "    idx = resolv.predict(whiten)\n",
    "    centroids_whiten = resolv.cluster_centers_\n",
    "    distortion = resolv.score(whiten)\n",
    "    \n",
    "    \n",
    "    # XXX : we suppose the full whiten array is a concatenation of [good, bad] arrays\n",
    "    goodones = idx[:good_nb]\n",
    "    badones = idx[good_nb:]\n",
    "    \n",
    "    centroids = np.multiply(centroids_whiten, std_items)\n",
    "    \n",
    "    print('For {}-means, distortion = {}'.format(k, distortion))\n",
    "    for c in centroids:\n",
    "        print('\\t centroid : {}'.format(c))\n",
    "        \n",
    "    # distribution between the two groups\n",
    "    print('Rate between Finished ane Killed tasks for the different clusters')\n",
    "    for i in range(k):\n",
    "        rate = lambda i, x: (x == i).sum() / float(len(x)) * 100.0\n",
    "        print('Group {0}  : ({1:.3f}%, {2:.3f}%)'.format(i, rate(i, goodones), rate(i, badones)))\n",
    "\n",
    "\n",
    "    format_centroid = lambda c: '[makespan {0:.2f}, prio {1:.3f}, sclass {2:.3f}]'.format(*c)\n",
    "    for i in range(k):\n",
    "        nb = (idx == i).sum()\n",
    "        print('Centroid {0}, nb = {1}'.format(format_centroid(centroids[i]), nb))\n",
    "\n",
    "    if postprocess_func is not None:\n",
    "        postprocess_func(k, whiten, std_items, resolv)\n",
    "    \n",
    "    # TODO here\n",
    "    return (k, whiten, std_items, resolv)"
   ]
  },
  {
   "cell_type": "code",
   "execution_count": null,
   "metadata": {
    "collapsed": true,
    "jupyter": {
     "outputs_hidden": true
    }
   },
   "outputs": [],
   "source": [
    "# almost a copy-past from http://scikit-learn.org/stable/auto_examples/cluster/plot_kmeans_silhouette_analysis.html\n",
    "def show_silouhette(k, whiten, std_items, resolv, plot_samples=5000, xlim=[-0.05, 1]):\n",
    "    X = whiten\n",
    "    n_clusters = k\n",
    "    # Create a subplot with 1 row and 2 columns\n",
    "    fig, ax1 = plt.subplots(1, 1)\n",
    "    #fig.set_size_inches(18, 7)\n",
    "    \n",
    "    plot_samples = len(X) if plot_samples is None else plot_samples\n",
    "\n",
    "    # The 1st subplot is the silhouette plot\n",
    "    # The silhouette coefficient can range from -1, 1 but in this example all\n",
    "    # lie within [-0.1, 1]\n",
    "    ax1.set_xlim(xlim)\n",
    "    # The (n_clusters+1)*10 is for inserting blank space between silhouette\n",
    "    # plots of individual clusters, to demarcate them clearly.\n",
    "    ax1.set_ylim([0, plot_samples + (n_clusters + 1) * 10])\n",
    "\n",
    "    clusterer = resolv\n",
    "    cluster_labels = clusterer.fit_predict(X)\n",
    "\n",
    "    # The silhouette_score gives the average value for all the samples.\n",
    "    # This gives a perspective into the density and separation of the formed\n",
    "    # clusters\n",
    "    \n",
    "    sample =  np.random.choice(X.shape[0], plot_samples, replace=False)\n",
    "    print(str(X.shape))\n",
    "    print(str(sample.shape))\n",
    "    X_resamp = X[sample]\n",
    "    cluster_labels = cluster_labels[sample]\n",
    "    \n",
    "    silhouette_avg = silhouette_score(X_resamp, cluster_labels)\n",
    "    print(\"For n_clusters =\", n_clusters,\n",
    "          \"The average silhouette_score is :\", silhouette_avg)\n",
    "\n",
    "    # Compute the silhouette scores for each sample\n",
    "    sample_silhouette_values = silhouette_samples(X_resamp, cluster_labels)\n",
    "\n",
    "    y_lower = 10\n",
    "    for i in range(n_clusters):\n",
    "        # Aggregate the silhouette scores for samples belonging to\n",
    "        # cluster i, and sort them\n",
    "        ith_cluster_silhouette_values = \\\n",
    "            sample_silhouette_values[cluster_labels == i]\n",
    "            \n",
    "        #print(str(ith_cluster_silhouette_values.shape))\n",
    "\n",
    "        ith_cluster_silhouette_values.sort()\n",
    "\n",
    "        size_cluster_i = ith_cluster_silhouette_values.shape[0]\n",
    "        y_upper = y_lower + size_cluster_i\n",
    "\n",
    "        color = cm.spectral(float(i) / n_clusters)\n",
    "        ax1.fill_betweenx(np.arange(y_lower, y_upper),\n",
    "                          0, ith_cluster_silhouette_values,\n",
    "                          facecolor=color, edgecolor=color, alpha=0.7)\n",
    "\n",
    "        # Label the silhouette plots with their cluster numbers at the middle\n",
    "        ax1.text(-0.05, y_lower + 0.5 * size_cluster_i, str(i))\n",
    "\n",
    "        # Compute the new y_lower for next plot\n",
    "        y_lower = y_upper + 10  # 10 for the 0 samples\n",
    "\n",
    "    #ax1.set_title(\"Silhouette plot for the 4-cluster\")\n",
    "    ax1.set_xlabel(\"Silhouette coefficient values\")\n",
    "    ax1.set_ylabel(\"Cluster label\")\n",
    "\n",
    "    # The vertical line for average silhouette score of all the values\n",
    "    ax1.axvline(x=silhouette_avg, color=\"red\", linestyle=\"--\")\n",
    "\n",
    "    ax1.set_yticks([])  # Clear the yaxis labels / ticks\n",
    "    #ax1.set_xticks([-0.1, 0, 0.2, 0.4, 0.6, 0.8, 1])\n",
    "    fig.show()"
   ]
  },
  {
   "cell_type": "code",
   "execution_count": null,
   "metadata": {
    "collapsed": true,
    "jupyter": {
     "outputs_hidden": true
    }
   },
   "outputs": [],
   "source": [
    "def analysis_makespan_clusters(k, whiten, std_items, clusterer):\n",
    "    data = np.multiply(whiten, std_items) \n",
    "\n",
    "    idx = clusterer.fit_predict(whiten)\n",
    "    \n",
    "    for i in range(k):\n",
    "        cluster_data = data[idx == i]\n",
    "        cluster_makespan = cluster_data[:,0]\n",
    "        \n",
    "        avg = np.average(cluster_makespan)\n",
    "        std = np.std(cluster_makespan)\n",
    "        median = np.median(cluster_makespan)\n",
    "        \n",
    "        print('Cluster {0}: avg={1:.3f}, std={2:.3f}, med={3:.3f}'.format(i, avg, std, median))"
   ]
  },
  {
   "cell_type": "markdown",
   "metadata": {},
   "source": [
    "## Analysis score of different values of k"
   ]
  },
  {
   "cell_type": "code",
   "execution_count": null,
   "metadata": {
    "collapsed": true,
    "jupyter": {
     "outputs_hidden": true
    }
   },
   "outputs": [],
   "source": [
    "def kmeans_distortion2(items, nbcluster, nrun = 1):\n",
    "    all_disp = []\n",
    "    for i in range(nrun):\n",
    "        resolv = KMeans(nbcluster)\n",
    "        resolv.fit(items)\n",
    "        disp = -resolv.score(items) / len(items)\n",
    "        #_, disp = kmeans(items, nbcluster)\n",
    "        all_disp.append(disp)\n",
    "    return np.mean(disp)"
   ]
  },
  {
   "cell_type": "code",
   "execution_count": null,
   "metadata": {
    "collapsed": true,
    "jupyter": {
     "outputs_hidden": true
    }
   },
   "outputs": [],
   "source": [
    "disp_kmeans = []\n",
    "(whiten_items, _, _) = prepare_data_kmeans(all_no_diff, all_no_diff_filter)\n",
    "\n",
    "for k in range(1, 12):\n",
    "    disp = kmeans_distortion2(whiten_items, k, 1)\n",
    "    disp_kmeans.append( (k, disp) )\n",
    "    print(str( (k, disp) ))"
   ]
  },
  {
   "cell_type": "code",
   "execution_count": null,
   "metadata": {
    "collapsed": true,
    "jupyter": {
     "outputs_hidden": true
    }
   },
   "outputs": [],
   "source": [
    "fig, ax = plt.subplots()\n",
    "plt.ylabel('Average distance')\n",
    "plt.xlabel('Number of cluster (k)')\n",
    "\n",
    "# TODO : diff entre k et k+1 (% ou value)\n",
    "# --> justif du choix de k dans le texte\n",
    "\n",
    "plt.plot(*zip(*disp_kmeans), marker='x')\n",
    "save_fig('distance_cluster')"
   ]
  },
  {
   "cell_type": "code",
   "execution_count": null,
   "metadata": {
    "collapsed": true,
    "jupyter": {
     "outputs_hidden": true
    }
   },
   "outputs": [],
   "source": [
    "delta_dist = [(k, a-b) for (_, a), (k, b) in zip(disp_kmeans, disp_kmeans[1:])]\n",
    "delta_dist"
   ]
  },
  {
   "cell_type": "markdown",
   "metadata": {},
   "source": [
    "## For 2-clustering"
   ]
  },
  {
   "cell_type": "code",
   "execution_count": null,
   "metadata": {
    "collapsed": true,
    "jupyter": {
     "outputs_hidden": true
    }
   },
   "outputs": [],
   "source": [
    "prepared_data = prepare_data_kmeans(all_no_diff, all_no_diff_filter)\n",
    "kmean_partial = do_kmeans_analysis2(2, *prepared_data)"
   ]
  },
  {
   "cell_type": "code",
   "execution_count": null,
   "metadata": {
    "collapsed": true,
    "jupyter": {
     "outputs_hidden": true
    }
   },
   "outputs": [],
   "source": [
    "show_silouhette(*kmean_partial, plot_samples=20000, xlim=[-0.1, 1])\n",
    "save_fig('silhouette_2_clustering')"
   ]
  },
  {
   "cell_type": "code",
   "execution_count": null,
   "metadata": {
    "collapsed": true,
    "jupyter": {
     "outputs_hidden": true
    }
   },
   "outputs": [],
   "source": [
    "analysis_makespan_clusters(*kmean_partial)"
   ]
  },
  {
   "cell_type": "markdown",
   "metadata": {},
   "source": [
    "## For 4-clustering"
   ]
  },
  {
   "cell_type": "code",
   "execution_count": null,
   "metadata": {
    "collapsed": true,
    "jupyter": {
     "outputs_hidden": true
    }
   },
   "outputs": [],
   "source": [
    "prepared_data = prepare_data_kmeans(all_no_diff, all_no_diff_filter)\n",
    "kmean_partial = do_kmeans_analysis2(4, *prepared_data)"
   ]
  },
  {
   "cell_type": "code",
   "execution_count": null,
   "metadata": {
    "collapsed": true,
    "jupyter": {
     "outputs_hidden": true
    }
   },
   "outputs": [],
   "source": [
    "show_silouhette(*kmean_partial, plot_samples=20000, xlim=[-0.3, 1])\n",
    "save_fig('silhouette_4_clustering')"
   ]
  },
  {
   "cell_type": "code",
   "execution_count": null,
   "metadata": {
    "collapsed": true,
    "jupyter": {
     "outputs_hidden": true
    }
   },
   "outputs": [],
   "source": [
    "analysis_makespan_clusters(*kmean_partial)"
   ]
  }
 ],
 "metadata": {
  "kernelspec": {
   "display_name": "Python 3",
   "language": "python",
   "name": "python3"
  },
  "language_info": {
   "codemirror_mode": {
    "name": "ipython",
    "version": 3
   },
   "file_extension": ".py",
   "mimetype": "text/x-python",
   "name": "python",
   "nbconvert_exporter": "python",
   "pygments_lexer": "ipython3",
   "version": "3.7.6"
  }
 },
 "nbformat": 4,
 "nbformat_minor": 4
}
