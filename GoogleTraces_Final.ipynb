{
 "cells": [
  {
   "cell_type": "markdown",
   "metadata": {},
   "source": [
    "# Google Traces Analysis"
   ]
  },
  {
   "cell_type": "code",
   "execution_count": 1,
   "metadata": {},
   "outputs": [],
   "source": [
    "%matplotlib inline\n",
    "#import cython\n",
    "#%load_ext Cython"
   ]
  },
  {
   "cell_type": "code",
   "execution_count": 2,
   "metadata": {},
   "outputs": [],
   "source": [
    "import matplotlib.pyplot as plt\n",
    "import numpy as np\n",
    "from collections import defaultdict\n",
    "import os\n",
    "\n",
    "figsize_base = (6.0, 4.0)\n",
    "plt.rcParams['figure.figsize'] = (6.0, 4.0)\n",
    "base_image_path = \"figures\"\n",
    "\n",
    "def save_fig(name, extension=\"pdf\", add_param={}):\n",
    "    plt.savefig(os.path.join(base_image_path, \"{}.{}\".format(name, extension)), bbox_inches=\"tight\", **add_param)\n"
   ]
  },
  {
   "cell_type": "code",
   "execution_count": 3,
   "metadata": {},
   "outputs": [],
   "source": [
    "#tracesPath='/var/tmp/clusterdata-2011-2'\n",
    "#tracesPath='/mnt/stockage/leo/google-traces/clusterdata-2011-2'\n",
    "#tasksNums = range(0,10)\n",
    "tasksNums = range(0,500)"
   ]
  },
  {
   "cell_type": "code",
   "execution_count": 7,
   "metadata": {},
   "outputs": [],
   "source": [
    "tasksFiles=list(map(lambda x:'task_event/part-'+str(x).zfill(5)+'-of-00500.csv.gz', tasksNums))"
   ]
  },
  {
   "cell_type": "code",
   "execution_count": 8,
   "metadata": {},
   "outputs": [
    {
     "name": "stdout",
     "output_type": "stream",
     "text": [
      "task_event/part-00000-of-00500.csv.gz\n",
      "to\n",
      "task_event/part-00499-of-00500.csv.gz\n"
     ]
    }
   ],
   "source": [
    "print (tasksFiles[0])\n",
    "print ('to')\n",
    "print (tasksFiles[-1])"
   ]
  },
  {
   "cell_type": "markdown",
   "metadata": {},
   "source": [
    "# Read files\n",
    "and put the data in tasks\n",
    "tasks : hashtable with \n",
    "key (JobID, TaskID)\n",
    "value : list of [SchedulingClass, Priority, [(event,timestamp) ..]"
   ]
  },
  {
   "cell_type": "code",
   "execution_count": 9,
   "metadata": {},
   "outputs": [],
   "source": [
    "import gzip\n",
    "import sys\n",
    "\n",
    "def read_tasks(tasksFiles):\n",
    "    tasks={}\n",
    "    bad_tasks=[]\n",
    "    arrival=[]\n",
    "    current_time=0\n",
    "\n",
    "    for f in tasksFiles:\n",
    "        print ('File: ', f)\n",
    "        with gzip.open(f, 'rb') as f:\n",
    "            for line in f.readlines():\n",
    "                (timestamp,_,jID,tID,_,evtType,_,schedClass,prio,_,_,_,_)=line.split(',')\n",
    "                try:\n",
    "                    if(evtType == '0'):\n",
    "                        timestamp=int(timestamp)\n",
    "                        tasks[(int(jID), int(tID))] = (int(schedClass), int(prio), [(0,int(timestamp))])\n",
    "                        if timestamp>0:\n",
    "                            arrival.append(timestamp-current_time)\n",
    "                            current_time=timestamp\n",
    "                    else:\n",
    "                        (_,_, events)=tasks[(int(jID),int(tID))]\n",
    "                        events.append((int(evtType),int(timestamp)))\n",
    "                except:\n",
    "                    bad_tasks.append((int(jID), int(tID)))\n",
    "            print (\"Bad\", len(bad_tasks))\n",
    "            print (\"Good\", len(tasks))\n",
    "    return arrival,tasks"
   ]
  },
  {
   "cell_type": "code",
   "execution_count": 11,
   "metadata": {},
   "outputs": [
    {
     "name": "stdout",
     "output_type": "stream",
     "text": [
      "File:  task_event/part-00000-of-00500.csv.gz\n"
     ]
    },
    {
     "ename": "FileNotFoundError",
     "evalue": "[Errno 2] No such file or directory: 'task_event/part-00000-of-00500.csv.gz'",
     "output_type": "error",
     "traceback": [
      "\u001b[0;31m---------------------------------------------------------------------------\u001b[0m",
      "\u001b[0;31mFileNotFoundError\u001b[0m                         Traceback (most recent call last)",
      "\u001b[0;32m<ipython-input-11-5bfd504404d7>\u001b[0m in \u001b[0;36m<module>\u001b[0;34m\u001b[0m\n\u001b[0;32m----> 1\u001b[0;31m \u001b[0marrival_time\u001b[0m\u001b[0;34m,\u001b[0m \u001b[0mtasks\u001b[0m \u001b[0;34m=\u001b[0m \u001b[0mread_tasks\u001b[0m\u001b[0;34m(\u001b[0m\u001b[0mtasksFiles\u001b[0m\u001b[0;34m)\u001b[0m\u001b[0;34m\u001b[0m\u001b[0;34m\u001b[0m\u001b[0m\n\u001b[0m\u001b[1;32m      2\u001b[0m \u001b[0mprint\u001b[0m \u001b[0;34m(\u001b[0m\u001b[0;34m'Finished'\u001b[0m\u001b[0;34m)\u001b[0m\u001b[0;34m\u001b[0m\u001b[0;34m\u001b[0m\u001b[0m\n",
      "\u001b[0;32m<ipython-input-9-086e8248e943>\u001b[0m in \u001b[0;36mread_tasks\u001b[0;34m(tasksFiles)\u001b[0m\n\u001b[1;32m     10\u001b[0m     \u001b[0;32mfor\u001b[0m \u001b[0mf\u001b[0m \u001b[0;32min\u001b[0m \u001b[0mtasksFiles\u001b[0m\u001b[0;34m:\u001b[0m\u001b[0;34m\u001b[0m\u001b[0;34m\u001b[0m\u001b[0m\n\u001b[1;32m     11\u001b[0m         \u001b[0mprint\u001b[0m \u001b[0;34m(\u001b[0m\u001b[0;34m'File: '\u001b[0m\u001b[0;34m,\u001b[0m \u001b[0mf\u001b[0m\u001b[0;34m)\u001b[0m\u001b[0;34m\u001b[0m\u001b[0;34m\u001b[0m\u001b[0m\n\u001b[0;32m---> 12\u001b[0;31m         \u001b[0;32mwith\u001b[0m \u001b[0mgzip\u001b[0m\u001b[0;34m.\u001b[0m\u001b[0mopen\u001b[0m\u001b[0;34m(\u001b[0m\u001b[0mf\u001b[0m\u001b[0;34m,\u001b[0m \u001b[0;34m'rb'\u001b[0m\u001b[0;34m)\u001b[0m \u001b[0;32mas\u001b[0m \u001b[0mf\u001b[0m\u001b[0;34m:\u001b[0m\u001b[0;34m\u001b[0m\u001b[0;34m\u001b[0m\u001b[0m\n\u001b[0m\u001b[1;32m     13\u001b[0m             \u001b[0;32mfor\u001b[0m \u001b[0mline\u001b[0m \u001b[0;32min\u001b[0m \u001b[0mf\u001b[0m\u001b[0;34m.\u001b[0m\u001b[0mreadlines\u001b[0m\u001b[0;34m(\u001b[0m\u001b[0;34m)\u001b[0m\u001b[0;34m:\u001b[0m\u001b[0;34m\u001b[0m\u001b[0;34m\u001b[0m\u001b[0m\n\u001b[1;32m     14\u001b[0m                 \u001b[0;34m(\u001b[0m\u001b[0mtimestamp\u001b[0m\u001b[0;34m,\u001b[0m\u001b[0m_\u001b[0m\u001b[0;34m,\u001b[0m\u001b[0mjID\u001b[0m\u001b[0;34m,\u001b[0m\u001b[0mtID\u001b[0m\u001b[0;34m,\u001b[0m\u001b[0m_\u001b[0m\u001b[0;34m,\u001b[0m\u001b[0mevtType\u001b[0m\u001b[0;34m,\u001b[0m\u001b[0m_\u001b[0m\u001b[0;34m,\u001b[0m\u001b[0mschedClass\u001b[0m\u001b[0;34m,\u001b[0m\u001b[0mprio\u001b[0m\u001b[0;34m,\u001b[0m\u001b[0m_\u001b[0m\u001b[0;34m,\u001b[0m\u001b[0m_\u001b[0m\u001b[0;34m,\u001b[0m\u001b[0m_\u001b[0m\u001b[0;34m,\u001b[0m\u001b[0m_\u001b[0m\u001b[0;34m)\u001b[0m\u001b[0;34m=\u001b[0m\u001b[0mline\u001b[0m\u001b[0;34m.\u001b[0m\u001b[0msplit\u001b[0m\u001b[0;34m(\u001b[0m\u001b[0;34m','\u001b[0m\u001b[0;34m)\u001b[0m\u001b[0;34m\u001b[0m\u001b[0;34m\u001b[0m\u001b[0m\n",
      "\u001b[0;32m/usr/lib/python3.6/gzip.py\u001b[0m in \u001b[0;36mopen\u001b[0;34m(filename, mode, compresslevel, encoding, errors, newline)\u001b[0m\n\u001b[1;32m     51\u001b[0m     \u001b[0mgz_mode\u001b[0m \u001b[0;34m=\u001b[0m \u001b[0mmode\u001b[0m\u001b[0;34m.\u001b[0m\u001b[0mreplace\u001b[0m\u001b[0;34m(\u001b[0m\u001b[0;34m\"t\"\u001b[0m\u001b[0;34m,\u001b[0m \u001b[0;34m\"\"\u001b[0m\u001b[0;34m)\u001b[0m\u001b[0;34m\u001b[0m\u001b[0;34m\u001b[0m\u001b[0m\n\u001b[1;32m     52\u001b[0m     \u001b[0;32mif\u001b[0m \u001b[0misinstance\u001b[0m\u001b[0;34m(\u001b[0m\u001b[0mfilename\u001b[0m\u001b[0;34m,\u001b[0m \u001b[0;34m(\u001b[0m\u001b[0mstr\u001b[0m\u001b[0;34m,\u001b[0m \u001b[0mbytes\u001b[0m\u001b[0;34m,\u001b[0m \u001b[0mos\u001b[0m\u001b[0;34m.\u001b[0m\u001b[0mPathLike\u001b[0m\u001b[0;34m)\u001b[0m\u001b[0;34m)\u001b[0m\u001b[0;34m:\u001b[0m\u001b[0;34m\u001b[0m\u001b[0;34m\u001b[0m\u001b[0m\n\u001b[0;32m---> 53\u001b[0;31m         \u001b[0mbinary_file\u001b[0m \u001b[0;34m=\u001b[0m \u001b[0mGzipFile\u001b[0m\u001b[0;34m(\u001b[0m\u001b[0mfilename\u001b[0m\u001b[0;34m,\u001b[0m \u001b[0mgz_mode\u001b[0m\u001b[0;34m,\u001b[0m \u001b[0mcompresslevel\u001b[0m\u001b[0;34m)\u001b[0m\u001b[0;34m\u001b[0m\u001b[0;34m\u001b[0m\u001b[0m\n\u001b[0m\u001b[1;32m     54\u001b[0m     \u001b[0;32melif\u001b[0m \u001b[0mhasattr\u001b[0m\u001b[0;34m(\u001b[0m\u001b[0mfilename\u001b[0m\u001b[0;34m,\u001b[0m \u001b[0;34m\"read\"\u001b[0m\u001b[0;34m)\u001b[0m \u001b[0;32mor\u001b[0m \u001b[0mhasattr\u001b[0m\u001b[0;34m(\u001b[0m\u001b[0mfilename\u001b[0m\u001b[0;34m,\u001b[0m \u001b[0;34m\"write\"\u001b[0m\u001b[0;34m)\u001b[0m\u001b[0;34m:\u001b[0m\u001b[0;34m\u001b[0m\u001b[0;34m\u001b[0m\u001b[0m\n\u001b[1;32m     55\u001b[0m         \u001b[0mbinary_file\u001b[0m \u001b[0;34m=\u001b[0m \u001b[0mGzipFile\u001b[0m\u001b[0;34m(\u001b[0m\u001b[0;32mNone\u001b[0m\u001b[0;34m,\u001b[0m \u001b[0mgz_mode\u001b[0m\u001b[0;34m,\u001b[0m \u001b[0mcompresslevel\u001b[0m\u001b[0;34m,\u001b[0m \u001b[0mfilename\u001b[0m\u001b[0;34m)\u001b[0m\u001b[0;34m\u001b[0m\u001b[0;34m\u001b[0m\u001b[0m\n",
      "\u001b[0;32m/usr/lib/python3.6/gzip.py\u001b[0m in \u001b[0;36m__init__\u001b[0;34m(self, filename, mode, compresslevel, fileobj, mtime)\u001b[0m\n\u001b[1;32m    161\u001b[0m             \u001b[0mmode\u001b[0m \u001b[0;34m+=\u001b[0m \u001b[0;34m'b'\u001b[0m\u001b[0;34m\u001b[0m\u001b[0;34m\u001b[0m\u001b[0m\n\u001b[1;32m    162\u001b[0m         \u001b[0;32mif\u001b[0m \u001b[0mfileobj\u001b[0m \u001b[0;32mis\u001b[0m \u001b[0;32mNone\u001b[0m\u001b[0;34m:\u001b[0m\u001b[0;34m\u001b[0m\u001b[0;34m\u001b[0m\u001b[0m\n\u001b[0;32m--> 163\u001b[0;31m             \u001b[0mfileobj\u001b[0m \u001b[0;34m=\u001b[0m \u001b[0mself\u001b[0m\u001b[0;34m.\u001b[0m\u001b[0mmyfileobj\u001b[0m \u001b[0;34m=\u001b[0m \u001b[0mbuiltins\u001b[0m\u001b[0;34m.\u001b[0m\u001b[0mopen\u001b[0m\u001b[0;34m(\u001b[0m\u001b[0mfilename\u001b[0m\u001b[0;34m,\u001b[0m \u001b[0mmode\u001b[0m \u001b[0;32mor\u001b[0m \u001b[0;34m'rb'\u001b[0m\u001b[0;34m)\u001b[0m\u001b[0;34m\u001b[0m\u001b[0;34m\u001b[0m\u001b[0m\n\u001b[0m\u001b[1;32m    164\u001b[0m         \u001b[0;32mif\u001b[0m \u001b[0mfilename\u001b[0m \u001b[0;32mis\u001b[0m \u001b[0;32mNone\u001b[0m\u001b[0;34m:\u001b[0m\u001b[0;34m\u001b[0m\u001b[0;34m\u001b[0m\u001b[0m\n\u001b[1;32m    165\u001b[0m             \u001b[0mfilename\u001b[0m \u001b[0;34m=\u001b[0m \u001b[0mgetattr\u001b[0m\u001b[0;34m(\u001b[0m\u001b[0mfileobj\u001b[0m\u001b[0;34m,\u001b[0m \u001b[0;34m'name'\u001b[0m\u001b[0;34m,\u001b[0m \u001b[0;34m''\u001b[0m\u001b[0;34m)\u001b[0m\u001b[0;34m\u001b[0m\u001b[0;34m\u001b[0m\u001b[0m\n",
      "\u001b[0;31mFileNotFoundError\u001b[0m: [Errno 2] No such file or directory: 'task_event/part-00000-of-00500.csv.gz'"
     ]
    }
   ],
   "source": [
    "arrival_time, tasks = read_tasks(tasksFiles)\n",
    "print ('Finished')"
   ]
  },
  {
   "cell_type": "markdown",
   "metadata": {},
   "source": [
    "# Content\n",
    "Look at the number of event per task, and of events that are incomplete and of the ending type of events finishsing"
   ]
  },
  {
   "cell_type": "code",
   "execution_count": 8,
   "metadata": {},
   "outputs": [
    {
     "name": "stdout",
     "output_type": "stream",
     "text": [
      "Number of events {1: 248, 2: 1093992, 3: 24258907, 4: 19378, 5: 17215, 6: 8510, 7: 5093, 8: 3028, 9: 4024, 10: 1364, 11: 1099, 12: 898, 13: 1375, 14: 550, 15: 1093, 16: 1417, 17: 755, 18: 1570, 19: 492, 20: 635, 21: 274, 22: 141, 23: 358, 24: 118, 25: 127, 26: 76, 27: 30, 28: 8, 29: 7, 30: 13, 32: 2, 33: 1182, 34: 11, 35: 2, 36: 34, 37: 34, 38: 67, 39: 77, 40: 169, 41: 116, 42: 108, 43: 96, 44: 23, 45: 13, 46: 1, 53: 1} Total : 25424731\n",
      "Number of bad events 179\n",
      "Final events for three events {1: 2, 2: 8626, 3: 86348, 4: 17775284, 5: 6381906, 6: 5102, 8: 1639}\n"
     ]
    }
   ],
   "source": [
    "def tasks_stats(tasks):\n",
    "    l=defaultdict(int)\n",
    "    bad=0\n",
    "    last_event=defaultdict(int)\n",
    "    for i in tasks:\n",
    "        evts=tasks[i][2]\n",
    "        li=len(evts)\n",
    "        l[li]=l[li]+1\n",
    "        if li==3:\n",
    "            if evts[0][0] != 0 or evts[1][0]!= 1:\n",
    "                bad=bad+1\n",
    "            last_event[evts[2][0]]=last_event[evts[2][0]]+1\n",
    "    return (dict(l),dict(last_event), bad)\n",
    "\n",
    "l, last, bad = tasks_stats(tasks)\n",
    "print 'Number of events', l, 'Total :', len(tasks)\n",
    "print 'Number of bad events', bad\n",
    "print 'Final events for three events', last\n"
   ]
  },
  {
   "cell_type": "markdown",
   "metadata": {},
   "source": [
    "## Table 1 : Distribution of number of events per task"
   ]
  },
  {
   "cell_type": "code",
   "execution_count": 9,
   "metadata": {},
   "outputs": [
    {
     "name": "stdout",
     "output_type": "stream",
     "text": [
      "1 : 248\n",
      "2 : 1093992\n",
      "3 : 24258907\n",
      "4 : 19378\n",
      "5 : 17215\n",
      "6 : 8510\n",
      "7 : 5093\n",
      "8 : 3028\n",
      "+ 9 : 18360\n"
     ]
    }
   ],
   "source": [
    "neuf=0\n",
    "for key, value in l.items():\n",
    "    if key>8:\n",
    "        neuf+=value\n",
    "for key,value in l.items():\n",
    "    if (key<9):\n",
    "        print key,\":\",value\n",
    "print '+ 9 :',neuf"
   ]
  },
  {
   "cell_type": "markdown",
   "metadata": {},
   "source": [
    "## Table II : Distribution of finishing event for all tasks with three events"
   ]
  },
  {
   "cell_type": "code",
   "execution_count": 10,
   "metadata": {},
   "outputs": [
    {
     "name": "stdout",
     "output_type": "stream",
     "text": [
      "NUMBER\n",
      "{'fail': 86348, 'total': 24258907, 'finish': 17775284, 'kill': 6381906, 'other': 15369}\n",
      "PERCENTAGE\n",
      "fail 0.355943489128\n",
      "total 100.0\n",
      "finish 73.2732270254\n",
      "kill 26.3074754357\n",
      "other 0.0633540497105\n"
     ]
    }
   ],
   "source": [
    "d_events_type={}\n",
    "d_events_type[\"finish\"]=0\n",
    "d_events_type[\"kill\"]=0\n",
    "d_events_type[\"fail\"]=0\n",
    "d_events_type[\"other\"]=0\n",
    "d_events_type[\"total\"]=0\n",
    "\n",
    "for key,value in last.items():\n",
    "    if (key==1):\n",
    "        d_events_type[\"other\"]+=value\n",
    "    if (key==2):\n",
    "        d_events_type[\"other\"]+=value\n",
    "    if (key==3):\n",
    "        d_events_type[\"fail\"]+=value\n",
    "    if (key==4):\n",
    "        d_events_type[\"finish\"]+=value\n",
    "    if (key==5):\n",
    "        d_events_type[\"kill\"]+=value\n",
    "    if (key==6):\n",
    "        d_events_type[\"other\"]+=value\n",
    "    if (key==8):\n",
    "        d_events_type[\"other\"]+=value\n",
    "    d_events_type[\"total\"]+=value\n",
    "print 'NUMBER'\n",
    "print d_events_type\n",
    "total = d_events_type[\"total\"]\n",
    "print 'PERCENTAGE'\n",
    "for key,value in d_events_type.items():\n",
    "    res = float(value*100)\n",
    "    res= float(res/total)\n",
    "    print key,res"
   ]
  },
  {
   "cell_type": "code",
   "execution_count": 11,
   "metadata": {},
   "outputs": [
    {
     "name": "stdout",
     "output_type": "stream",
     "text": [
      "Dans le cas des 500 fichiers :\n",
      "Number of events {1: 248, 2: 1093992, 3: 24258907, 4: 19378, 5: 17215, 6: 8510, 7: 5093, 8: 3028, 9: 4024, 10: 1364, 11: 1099, 12: 898, 13: 1375, 14: 550, 15: 1093, 16: 1417, 17: 755, 18: 1570, 19: 492, 20: 635, 21: 274, 22: 141, 23: 358, 24: 118, 25: 127, 26: 76, 27: 30, 28: 8, 29: 7, 30: 13, 32: 2, 33: 1182, 34: 11, 35: 2, 36: 34, 37: 34, 38: 67, 39: 77, 40: 169, 41: 116, 42: 108, 43: 96, 44: 23, 45: 13, 46: 1, 53: 1} Total : 25424731\n",
      "Number of bad events 179\n",
      "Final events for three events {1: 2, 2: 8626, 3: 86348, 4: 17775284, 5: 6381906, 6: 5102, 8: 1639}\n"
     ]
    }
   ],
   "source": [
    "print 'Dans le cas des 500 fichiers :'\n",
    "print 'Number of events {1: 248, 2: 1093992, 3: 24258907, 4: 19378, 5: 17215, 6: 8510, 7: 5093, 8: 3028, 9: 4024, 10: 1364, 11: 1099, 12: 898, 13: 1375, 14: 550, 15: 1093, 16: 1417, 17: 755, 18: 1570, 19: 492, 20: 635, 21: 274, 22: 141, 23: 358, 24: 118, 25: 127, 26: 76, 27: 30, 28: 8, 29: 7, 30: 13, 32: 2, 33: 1182, 34: 11, 35: 2, 36: 34, 37: 34, 38: 67, 39: 77, 40: 169, 41: 116, 42: 108, 43: 96, 44: 23, 45: 13, 46: 1, 53: 1} Total : 25424731'\n",
    "print 'Number of bad events 179'\n",
    "print 'Final events for three events {1: 2, 2: 8626, 3: 86348, 4: 17775284, 5: 6381906, 6: 5102, 8: 1639}'"
   ]
  },
  {
   "cell_type": "markdown",
   "metadata": {},
   "source": [
    "# Wating time\n",
    "Waiting time\n",
    "- First graph is absolute waiting time in seconds\n",
    "- Second graph is relative waiting time to the lenght of the task"
   ]
  },
  {
   "cell_type": "code",
   "execution_count": 12,
   "metadata": {},
   "outputs": [
    {
     "name": "stdout",
     "output_type": "stream",
     "text": [
      "Les taches qui finissent bien 17807965 Total : 30159205857.8 Mean 1693.57957845\n",
      "Les taches qui finissent mal  6419660 Total : 51320980647.2 Mean 7994.34559575\n"
     ]
    }
   ],
   "source": [
    "def analyse_tasks(tasks):\n",
    "    waiting_time={'Good':[], 'Bad':[]}\n",
    "    relative_waiting_time={'Good':[], 'Bad':[]}\n",
    "    makespan={'Good':[], 'Bad':[]}\n",
    "    classification = {'Good':[], 'Bad':[]}\n",
    "    submass_={'Good':defaultdict(int), 'Bad':defaultdict(int)}\n",
    "    realmass_={'Good':defaultdict(int), 'Bad':defaultdict(int)}\n",
    "\n",
    "    for t in tasks:\n",
    "        sclass, prio, evts=tasks[t]\n",
    "        if len(evts)>=3 and (evts[-1][0] == 4 or evts[-1][0] == 5):\n",
    "            subtime=evts[0][1]\n",
    "            runtime=evts[1][1]\n",
    "            endtime=evts[2][1]\n",
    "            diff=runtime-subtime\n",
    "            diffrel=diff/float(endtime-runtime)\n",
    "            mt=float(endtime-runtime)/1000000.0\n",
    "            tmp = (sclass, prio, float(diff)/1000000, diffrel, mt)\n",
    "            status='Good'\n",
    "            if evts[-1][0]== 5 :\n",
    "                status='Bad'\n",
    "            waiting_time[status].append(float(diff)/1000000.0)\n",
    "            relative_waiting_time[status].append(diffrel)\n",
    "            makespan[status].append(mt)\n",
    "            classification[status].append(tmp)\n",
    "            submass_[status][subtime] += 1\n",
    "            submass_[status][subtime+endtime-runtime] -=1\n",
    "\n",
    "            realmass_[status][runtime] += 1\n",
    "            realmass_[status][endtime] -= 1\n",
    "    return waiting_time, relative_waiting_time, makespan, classification, submass_, realmass_\n",
    "\n",
    "waiting_time, relative_waiting_time, makespan, classification, submass_, realmass_=analyse_tasks(tasks)\n",
    "tasks=[]\n",
    "print 'Les taches qui finissent bien', len(makespan['Good']), 'Total :', sum(makespan['Good']), 'Mean', sum(makespan['Good'])/float(len(makespan['Good']))\n",
    "print 'Les taches qui finissent mal ', len(makespan['Bad']), 'Total :', sum(makespan['Bad']), 'Mean', sum(makespan['Bad'])/float(len(makespan['Bad']))\n"
   ]
  },
  {
   "cell_type": "markdown",
   "metadata": {},
   "source": [
    "# Test : log normal distribution - pareto "
   ]
  },
  {
   "cell_type": "code",
   "execution_count": 13,
   "metadata": {},
   "outputs": [
    {
     "name": "stdout",
     "output_type": "stream",
     "text": [
      "## Makespan stats for Good tasks\n",
      "Fit params for lognorm : (1.4212266630988188, 0, 517.69627936618781)\n",
      "KS test for lognorm : (0.056843361118668223, 0.0)\n"
     ]
    },
    {
     "name": "stderr",
     "output_type": "stream",
     "text": [
      "/usr/lib/python2.7/dist-packages/scipy/stats/distributions.py:1928: RuntimeWarning: invalid value encountered in double_scalars\n",
      "  Lhat = muhat - Shat*mu\n"
     ]
    },
    {
     "name": "stdout",
     "output_type": "stream",
     "text": [
      "Fit params for pareto : (0.11286526232991492, 0, 0.073068999993754338)\n",
      "KS test for pareto : (0.50199217569709587, 0.0)\n",
      "## Makespan stats for Bad tasks\n",
      "Fit params for lognorm : (2.0564740975503595, 0, 463.99375773325403)\n",
      "KS test for lognorm : (0.064233134133444392, 0.0)\n",
      "Fit params for pareto : (0.091550438630806197, 0, 0.0077039999987571512)\n",
      "KS test for pareto : (0.48754334039537983, 0.0)\n"
     ]
    }
   ],
   "source": [
    "import scipy.stats\n",
    "\n",
    "for t in ['Good', 'Bad']:\n",
    "    print(\"## Makespan stats for {} tasks\".format(t))\n",
    "\n",
    "    for dist_name in ['lognorm', 'pareto']:\n",
    "        d = getattr(scipy.stats, dist_name)\n",
    "\n",
    "        param = d.fit(makespan[t], floc=0)\n",
    "        print(\"Fit params for {} : {}\".format(dist_name, param))\n",
    "        cdf =  lambda x: d.cdf(x, *param[:-2], loc=param[-2], scale=param[-1])\n",
    "\n",
    "        ks = scipy.stats.kstest(makespan[t], cdf)\n",
    "        print(\"KS test for {} : {}\".format(dist_name, ks))"
   ]
  },
  {
   "cell_type": "markdown",
   "metadata": {},
   "source": [
    "# Stats"
   ]
  },
  {
   "cell_type": "code",
   "execution_count": 14,
   "metadata": {},
   "outputs": [
    {
     "name": "stdout",
     "output_type": "stream",
     "text": [
      "sc, prio, diff, diffrel, makespan\n",
      "[(1, 2, 2.469383, 0.0001874781410543501, 13171.578223), (0, 4, 1.290144, 0.0027936464810472826, 461.813622), (0, 0, 2.396646, 0.022818108131992577, 105.032634), (0, 4, 4.663145, 0.006099350035643138, 764.531462), (0, 0, 1.336107, 0.005289367294432614, 252.602424), (0, 4, 1.503338, 0.0023671063103712876, 635.095261), (0, 4, 31.370127, 0.006090222596532824, 5150.899906), (0, 4, 2.001668, 0.010291355836007984, 194.499931), (0, 6, 4.926309, 0.030516940718056485, 161.428665), (1, 4, 1.13914, 0.0018454203207303387, 617.279428)]\n"
     ]
    }
   ],
   "source": [
    "print 'sc, prio, diff, diffrel, makespan'\n",
    "print classification['Good'][:10]"
   ]
  },
  {
   "cell_type": "markdown",
   "metadata": {},
   "source": [
    "# classes & prio"
   ]
  },
  {
   "cell_type": "code",
   "execution_count": 15,
   "metadata": {},
   "outputs": [
    {
     "name": "stdout",
     "output_type": "stream",
     "text": [
      "Good\n",
      "Schedulin Classes [14901940, 2738022, 167943, 60]\n",
      "Priorities [3439929, 1641846, 986540, 982, 11076548, 104, 498723, 0, 114103, 49190, 0, 0, 0]\n",
      "Bad\n",
      "Schedulin Classes [5415458, 589261, 365387, 49554]\n",
      "Priorities [2261617, 715428, 91936, 45, 2898530, 0, 134722, 0, 135829, 180974, 579, 0, 0]\n"
     ]
    }
   ],
   "source": [
    "def qual(data):\n",
    "    scl=[0]*4\n",
    "    priol=[0]*13\n",
    "    for (sc, prio, diff, diffrel, makespan) in data:\n",
    "        scl[int(sc)] += 1\n",
    "        priol[int(prio)] += 1\n",
    "    return scl, priol\n",
    "\n",
    "(sclGood, prioGood) = qual(classification['Good'])\n",
    "print 'Good'\n",
    "print 'Schedulin Classes' , sclGood\n",
    "print 'Priorities', prioGood\n",
    "\n",
    "(sclBad, prioBad) = qual(classification['Bad'])\n",
    "print 'Bad'\n",
    "print 'Schedulin Classes' , sclBad\n",
    "print 'Priorities', prioBad\n",
    "\n",
    "scl={'Good':sclGood,'Bad':sclBad}\n",
    "prio={'Good':prioGood,'Bad':prioBad}"
   ]
  },
  {
   "cell_type": "markdown",
   "metadata": {},
   "source": [
    "## Relation between priority and scheduling class"
   ]
  },
  {
   "cell_type": "code",
   "execution_count": 16,
   "metadata": {
    "collapsed": true
   },
   "outputs": [],
   "source": [
    "prio_sclasses = {}\n",
    "priogroup_sclasses = {}\n",
    "\n",
    "def classify_prio_sclasses(name, classif):\n",
    "    sclasses_grouped = []\n",
    "    prio_groups = [range(0, 2), range(2, 9), [9, 11], [10]]\n",
    "    sclasses_prio = [ 12*[0] for x in range(4) ]\n",
    "    \n",
    "    for t in classif:\n",
    "        sclasses_prio[t[0]][t[1]] += 1\n",
    "        \n",
    "    # normalization\n",
    "    sclasses_count = 4*[0]\n",
    "    for i in range(4):\n",
    "        count = sum(sclasses_prio[i])\n",
    "        sclasses_count[i] = count\n",
    "        #print(\"sclass {} : {} tasks\".format(i, count))\n",
    "        if count != 0:\n",
    "            sclasses_prio[i] = [ sclasses_prio[i][j] / float(count) for j in range(12)]\n",
    "    \n",
    "    # priority groups\n",
    "    for i in range(4):\n",
    "        sclass = []\n",
    "        for group in prio_groups:\n",
    "            groupsum = 0.0\n",
    "            for j in group:\n",
    "                groupsum += sclasses_prio[i][j]\n",
    "            sclass.append(groupsum)\n",
    "        sclasses_grouped.append(sclass)\n",
    "\n",
    "    global prio_sclasses\n",
    "    global priogroup_sclasses\n",
    "    prio_sclasses[name] = sclasses_prio\n",
    "    priogroup_sclasses[name] = sclasses_grouped\n",
    "    "
   ]
  },
  {
   "cell_type": "code",
   "execution_count": 17,
   "metadata": {
    "collapsed": true
   },
   "outputs": [],
   "source": [
    "classify_prio_sclasses('Good', classification['Good'])\n",
    "classify_prio_sclasses('Bad', classification['Bad'])\n",
    "classify_prio_sclasses('All', classification['Bad'] + classification['Good'])\n",
    "\n",
    "sclasses_colors = ['green', 'greenyellow', 'orange', 'red']"
   ]
  },
  {
   "cell_type": "markdown",
   "metadata": {},
   "source": [
    "### For 'good' tasks"
   ]
  },
  {
   "cell_type": "code",
   "execution_count": 18,
   "metadata": {},
   "outputs": [
    {
     "data": {
      "image/png": "[encoded data removed]",
      "text/plain": [
       "<matplotlib.figure.Figure at 0x7fcd1fba2d10>"
      ]
     },
     "metadata": {},
     "output_type": "display_data"
    }
   ],
   "source": [
    "fig, ax = plt.subplots()\n",
    "#fig.set_size_inches(10.0, 5.0)\n",
    "#plt.title('Distribution of priority groups for each scheduling class for finishing tasks')\n",
    "\n",
    "ind = np.arange(4)\n",
    "width = 0.21\n",
    "rects = []\n",
    "for i in range(4):\n",
    "    rects.append(ax.bar(ind + (i-2)*width, priogroup_sclasses['Good'][i], width=width, color=sclasses_colors[i]))\n",
    "\n",
    "ax.set_xticks(ind)\n",
    "ax.set_xticklabels(['Free', 'Normal', 'Production', 'Monitoring'])\n",
    "ax.legend(tuple([rect[0] for rect in rects]), ('0 (Lowest)', '1 (Low)', '2 (Middle)', '3 (High)'),fontsize='medium')\n",
    "save_fig(\"distrib_sclass_prio_finish\")"
   ]
  },
  {
   "cell_type": "markdown",
   "metadata": {},
   "source": [
    "### For 'bad' tasks (services)"
   ]
  },
  {
   "cell_type": "code",
   "execution_count": 19,
   "metadata": {},
   "outputs": [
    {
     "data": {
      "image/png": "[encoded data removed]",
      "text/plain": [
       "<matplotlib.figure.Figure at 0x7fcb7013f450>"
      ]
     },
     "metadata": {},
     "output_type": "display_data"
    }
   ],
   "source": [
    "fig, ax = plt.subplots()\n",
    "\n",
    "\n",
    "ind = np.arange(4)\n",
    "width = 0.21\n",
    "rects = []\n",
    "for i in range(4):\n",
    "    rects.append(ax.bar(ind + (i-2)*width, priogroup_sclasses['Bad'][i], width=width, color=sclasses_colors[i]))\n",
    "\n",
    "ax.set_xticks(ind)\n",
    "ax.set_xticklabels(['Free', 'Normal', 'Production', 'Monitoring'])\n",
    "#ax.legend(tuple([rect[0] for rect in rects]), ('0 (Lowest)', '1 (Low)', '2 (Middle)', '3 (High)'), loc=\"right\")\n",
    "ax.legend(tuple([rect[0] for rect in rects]), ('0 (Lowest)', '1 (Low)', '2 (Middle)', '3 (High)'), fontsize='medium')\n",
    "\n",
    "save_fig(\"distrib_sclass_prio_killed\")"
   ]
  },
  {
   "cell_type": "markdown",
   "metadata": {},
   "source": [
    "### For all tasks"
   ]
  },
  {
   "cell_type": "code",
   "execution_count": 20,
   "metadata": {},
   "outputs": [
    {
     "data": {
      "image/png": "[encoded data removed]",
      "text/plain": [
       "<matplotlib.figure.Figure at 0x7fcd0c760050>"
      ]
     },
     "metadata": {},
     "output_type": "display_data"
    }
   ],
   "source": [
    "fig, ax = plt.subplots()\n",
    "#fig.set_size_inches(10.0, 5.0)\n",
    "#plt.title('Distribution of task priority among each scheduling class')\n",
    "\n",
    "ind = np.arange(4)\n",
    "width = 0.21\n",
    "rects = []\n",
    "for i in range(4):\n",
    "    rects.append(ax.bar(ind + (i-2)*width, priogroup_sclasses['All'][i], width=width, color=sclasses_colors[i]))\n",
    "\n",
    "ax.set_ybound(0, 1)\n",
    "ax.set_xticks(ind)\n",
    "ax.set_xticklabels(['Free', 'Normal', 'Production', 'Monitoring'])\n",
    "ax.legend(tuple([rect[0] for rect in rects]), ('0 (Lowest)', '1 (Low)', '2 (Middle)', '3 (High)'),fontsize='medium')\n",
    "save_fig(\"distrib_sclass_prio\")"
   ]
  },
  {
   "cell_type": "markdown",
   "metadata": {},
   "source": [
    "## Makespan stats for tasks and services"
   ]
  },
  {
   "cell_type": "code",
   "execution_count": 21,
   "metadata": {},
   "outputs": [],
   "source": [
    "def priogroup_makespan_stats(classif):\n",
    "    # 12 priority levels\n",
    "    prio_makespan = [[] for _ in range(12)]\n",
    "\n",
    "    for t in classif:\n",
    "        prio_makespan[t[1]].append(t[4])\n",
    "\n",
    "    # stats\n",
    "    prio_makespan_average = [np.average(m) for m in prio_makespan]\n",
    "    prio_makespan_std = [np.std(m) for m in prio_makespan]\n",
    "    prio_makespan_median = [np.median(m) for m in prio_makespan]\n",
    "\n",
    "    # stats for priority groups\n",
    "    pm = prio_makespan\n",
    "    gprio_makespan = [pm[0] + pm[1], pm[2] + pm[3] + pm[4] + pm[5] + pm[6] + pm[7] + pm[8], pm[9] + pm[11], pm[10]]\n",
    "\n",
    "    gprio_makespan_average = [np.average(m) for m in gprio_makespan]\n",
    "    gprio_makespan_std = [np.std(m) for m in gprio_makespan]\n",
    "    gprio_makespan_median = [np.median(m) for m in gprio_makespan]\n",
    "\n",
    "    # stats for ALL tasks\n",
    "    am = []\n",
    "    for m in pm:\n",
    "        am += m\n",
    "    all_stats = [len(am), np.average(am), np.std(am), np.median(am)]\n",
    "    #print(\"All : {}\".format(all_stats))\n",
    "\n",
    "    #print(\"Task number for each priority group : {}\".format([len(m) for m in gprio_makespan]))\n",
    "    #print(\"Task makespan mean for each priority group : {}\".format(gprio_makespan_average))\n",
    "    #print(\"Task makespan median for each priority group : {}\".format(gprio_makespan_median))\n",
    "    #print(\"Task makespan std dev for each priority group : {}\".format(gprio_makespan_std))\n",
    "    \n",
    "    ret = {}\n",
    "    for pgroup in [('Free', 0), ('Normal', 1), ('Production', 2), ('Monitoring', 3), ('All', -1)]:\n",
    "        tmp = {}\n",
    "        if pgroup[1] >= 0:\n",
    "            tmp['count'] = len(gprio_makespan[pgroup[1]])\n",
    "            tmp['avg'] = gprio_makespan_average[pgroup[1]]\n",
    "            tmp['std'] = gprio_makespan_std[pgroup[1]]\n",
    "            tmp['med'] = gprio_makespan_median[pgroup[1]]\n",
    "        else:\n",
    "            # all\n",
    "            tmp['count'] = all_stats[0]\n",
    "            tmp['avg'] = all_stats[1]\n",
    "            tmp['std'] = all_stats[2]\n",
    "            tmp['med'] = all_stats[3]\n",
    "        ret[pgroup[0]] = tmp\n",
    "        \n",
    "    return ret\n",
    "\n",
    "\n",
    "\n"
   ]
  },
  {
   "cell_type": "code",
   "execution_count": 22,
   "metadata": {},
   "outputs": [
    {
     "name": "stderr",
     "output_type": "stream",
     "text": [
      "/usr/lib/python2.7/dist-packages/numpy/core/_methods.py:55: RuntimeWarning: Mean of empty slice.\n",
      "  warnings.warn(\"Mean of empty slice.\", RuntimeWarning)\n",
      "/usr/lib/python2.7/dist-packages/numpy/core/_methods.py:67: RuntimeWarning: invalid value encountered in double_scalars\n",
      "  ret = ret.dtype.type(ret / rcount)\n",
      "/usr/lib/python2.7/dist-packages/numpy/core/_methods.py:79: RuntimeWarning: Degrees of freedom <= 0 for slice\n",
      "  warnings.warn(\"Degrees of freedom <= 0 for slice\", RuntimeWarning)\n",
      "/usr/lib/python2.7/dist-packages/numpy/core/_methods.py:91: RuntimeWarning: invalid value encountered in true_divide\n",
      "  arrmean, rcount, out=arrmean, casting='unsafe', subok=False)\n",
      "/usr/lib/python2.7/dist-packages/numpy/core/_methods.py:113: RuntimeWarning: invalid value encountered in double_scalars\n",
      "  ret = ret.dtype.type(ret / rcount)\n"
     ]
    },
    {
     "name": "stdout",
     "output_type": "stream",
     "text": [
      "All statistics for both Tasks and Services (table VI and VII) :\n",
      "{'Bad': {'All': {'count': 6419660, 'std': 59363.797782965485, 'avg': 7994.3455957533452, 'med': 333.82506899999998}, 'Production': {'count': 180974, 'std': 294182.35499764903, 'avg': 148424.38833104685, 'med': 31429.425025500001}, 'Monitoring': {'count': 579, 'std': 579101.91805430409, 'avg': 388232.54421172565, 'med': 71831.589154999994}, 'Free': {'count': 2977045, 'std': 24336.442485204927, 'avg': 5195.6308373594229, 'med': 595.42672900000002}, 'Normal': {'count': 3261062, 'std': 19468.978667944168, 'avg': 2688.5756677143754, 'med': 213.9071375}}, 'Good': {'All': {'count': 17807965, 'std': 5034.5250872828892, 'avg': 1693.5795784507297, 'med': 448.90721300000001}, 'Production': {'count': 49190, 'std': 1955.1163226978615, 'avg': 493.89708989109852, 'med': 39.124604500000004}, 'Monitoring': {'count': 0, 'std': nan, 'avg': nan, 'med': nan}, 'Free': {'count': 5081775, 'std': 4518.6755414386571, 'avg': 1937.9013453466578, 'med': 345.790075}, 'Normal': {'count': 12677000, 'std': 5231.3686295941561, 'avg': 1600.2944269675959, 'med': 492.56216949999998}}}\n"
     ]
    }
   ],
   "source": [
    "priogroup_makespan = {}\n",
    "priogroup_makespan['Good'] = priogroup_makespan_stats(classification['Good'])\n",
    "priogroup_makespan['Bad'] = priogroup_makespan_stats(classification['Bad'])\n",
    "\n",
    "print(\"All statistics for both Tasks and Services (table VI and VII) :\")\n",
    "print(str(priogroup_makespan))"
   ]
  },
  {
   "cell_type": "code",
   "execution_count": 23,
   "metadata": {
    "collapsed": true
   },
   "outputs": [],
   "source": [
    "# Prepare only the average for next figure (reversed classification)\n",
    "average_all_gprio = {}\n",
    "\n",
    "for etype in ['Good', 'Bad']:\n",
    "    tmp = []\n",
    "    for g in ['Free', 'Normal', 'Production', 'Monitoring']:\n",
    "        tmp.append(priogroup_makespan[etype][g]['avg'])\n",
    "    average_all_gprio[etype] = tmp"
   ]
  },
  {
   "cell_type": "code",
   "execution_count": 24,
   "metadata": {},
   "outputs": [
    {
     "name": "stderr",
     "output_type": "stream",
     "text": [
      "/usr/lib/pymodules/python2.7/matplotlib/scale.py:97: RuntimeWarning: invalid value encountered in less_equal\n",
      "  a[a <= 0.0] = 1e-300\n"
     ]
    },
    {
     "data": {
      "image/png": "[encoded data removed]",
      "text/plain": [
       "<matplotlib.figure.Figure at 0x7fccfdb8a810>"
      ]
     },
     "metadata": {},
     "output_type": "display_data"
    }
   ],
   "source": [
    "fig, ax = plt.subplots()\n",
    "#plt.title('Average makespan for each priority')\n",
    "ax.set_yscale('log', nonposy='clip')\n",
    "ax.set_ylabel('Makespan (s)')\n",
    "plt.xticks(range(4), ['Free', 'Normal', 'Production', 'Monitoring'])\n",
    "\n",
    "#plt.bar(np.arange(4)-0.3, gprio_makespan_average, yerr=gprio_makespan_std, color='y', width=0.6)\n",
    "ax.bar(np.arange(4)-0.3, average_all_gprio['Good'], color='g', width=0.3, label='Finish')\n",
    "ax.bar(np.arange(4), average_all_gprio['Bad'], color='b', width=0.3, label='Kill')\n",
    "\n",
    "ax.set_ybound(10)\n",
    "plt.legend(loc=\"right\", fontsize='medium')\n",
    "save_fig(\"makespan_average_finish_kill\")"
   ]
  },
  {
   "cell_type": "markdown",
   "metadata": {},
   "source": [
    "# Histograms of makespan for both Good/Bad\n"
   ]
  },
  {
   "cell_type": "code",
   "execution_count": 25,
   "metadata": {},
   "outputs": [
    {
     "name": "stdout",
     "output_type": "stream",
     "text": [
      "17807965\n",
      "6419660\n"
     ]
    }
   ],
   "source": [
    "makespans = {}\n",
    "\n",
    "for etype in ['Good', 'Bad']:\n",
    "    temp = []\n",
    "    for t in classification[etype]:\n",
    "        temp.append(t[4])\n",
    "    makespans[etype] = temp\n",
    "    print(len(temp))"
   ]
  },
  {
   "cell_type": "code",
   "execution_count": 26,
   "metadata": {},
   "outputs": [
    {
     "data": {
      "image/png": "[encoded data removed]",
      "text/plain": [
       "<matplotlib.figure.Figure at 0x7fcc9c11bdd0>"
      ]
     },
     "metadata": {},
     "output_type": "display_data"
    }
   ],
   "source": [
    "plt.figure()\n",
    "\n",
    "#plt.title('Distribution of makespan for killed tasks')\n",
    "plt.yscale('log', nonposy='clip')\n",
    "plt.hist(makespans['Bad'],100)\n",
    "plt.xlabel('Time (s)')\n",
    "plt.ylabel('Number of tasks')\n",
    "save_fig(\"makespan_histo_kill\")"
   ]
  },
  {
   "cell_type": "code",
   "execution_count": 27,
   "metadata": {},
   "outputs": [
    {
     "data": {
      "image/png": "[encoded data removed]",
      "text/plain": [
       "<matplotlib.figure.Figure at 0x7fcc9c118890>"
      ]
     },
     "metadata": {},
     "output_type": "display_data"
    }
   ],
   "source": [
    "plt.figure()\n",
    "\n",
    "#plt.title('Distribution of makespan for finished tasks')\n",
    "plt.yscale('log', nonposy='clip')\n",
    "plt.hist(makespans['Good'],100)\n",
    "plt.xlabel('Time (s)')\n",
    "plt.ylabel('Number of tasks')\n",
    "save_fig(\"makespan_histo_finish\")"
   ]
  },
  {
   "cell_type": "markdown",
   "metadata": {},
   "source": [
    "# Arrival time"
   ]
  },
  {
   "cell_type": "code",
   "execution_count": 37,
   "metadata": {},
   "outputs": [
    {
     "name": "stdout",
     "output_type": "stream",
     "text": [
      "Interarrival time : mean=0.05196260895,median=2e-06\n",
      "[600.047726, 0.771533, 2.489368, 0.737554, 9.9e-05, 0.0002, 1.2e-05, 8.7e-05, 1.540691, 0.000363]\n",
      "finished\n"
     ]
    },
    {
     "data": {
      "image/png": "[encoded data removed]",
      "text/plain": [
       "<matplotlib.figure.Figure at 0x7fcb8f70a650>"
      ]
     },
     "metadata": {},
     "output_type": "display_data"
    }
   ],
   "source": [
    "arrival_delta = map(lambda x: float(x)/1000000, arrival_time)\n",
    "print arrival_delta[:10] \n",
    "print(\"Interarrival time : mean={},median={}\".format(np.mean(arrival_delta), np.median(arrival_delta)))\n",
    "\n",
    "\n",
    "import numpy as np\n",
    "from scipy.stats import kstest\n",
    "import scipy as sc\n",
    "\n",
    "#print kstest(arrival_delta, 'expon')\n",
    "\n",
    "#(b,loc, scale) = sc.stats.pareto.fit(arrival_delta, .7)\n",
    "print 'finished'\n",
    "images_path =\"figures_res/\"\n",
    "\n",
    "#fig, ax = plt.subplots(1, 1)\n",
    "#print (b,loc, scale)\n",
    "\n",
    "fig, ax = plt.subplots()\n",
    "plt.xlabel('Time (s)')\n",
    "plt.ylabel('Number of tasks')\n",
    "plt.yscale('log', nonposy='clip')\n",
    "vals = sc.stats.pareto.rvs(5,  size=len(arrival_time))\n",
    "\n",
    "v1=[x for x in arrival_delta if x < 8]\n",
    "v2=[x-1 for x in vals if x < 9]\n",
    "\n",
    "#_=plt.hist([v1,v2],100)\n",
    "\n",
    "ax.hist(v1, 50)\n",
    "ax.hist(v2, 50, rwidth=.5)\n",
    "#title='Distribution of inter-arrival time'\n",
    "ax.legend(['Google Traces Interarrival Time','Pareto law with exponent=5'],fontsize='medium')\n",
    "save_fig('interarrival')\n",
    "#plt.title('Distribution of inter-arrival time')\n"
   ]
  },
  {
   "cell_type": "code",
   "execution_count": 29,
   "metadata": {},
   "outputs": [
    {
     "data": {
      "image/png": "[encoded data removed]",
      "text/plain": [
       "<matplotlib.figure.Figure at 0x7fcaa8669d50>"
      ]
     },
     "metadata": {},
     "output_type": "display_data"
    }
   ],
   "source": [
    "\n",
    "fig, ax = plt.subplots()\n",
    "plt.xlabel('Time (s)')\n",
    "plt.ylabel('Number of tasks')\n",
    "plt.yscale('log', nonposy='clip')\n",
    "vals = sc.stats.pareto.rvs(5,  size=len(arrival_time))\n",
    "\n",
    "v1=[x for x in arrival_delta if x < 8]\n",
    "v2=[x-1 for x in vals if x < 9]\n",
    "\n",
    "nbbins = 50.0\n",
    "xlim = 8.0\n",
    "\n",
    "x = np.linspace(0.01, 8, 200)\n",
    "factor = len(v1) * (xlim/nbbins)\n",
    "pareto_model = sc.stats.pareto.pdf(x, 5, loc=-1) * factor\n",
    "\n",
    "#_=plt.hist([v1,v2],100)\n",
    "\n",
    "ax.hist(v1, 50, color='y', edgecolor='brown', label='Google Traces Interarrival Time')\n",
    "ax.plot(x, pareto_model, color='b', label='Pareto law with exponent=5', linewidth=2)\n",
    "\n",
    "ax.set_ybound(lower=1)\n",
    "\n",
    "#ax.hist(v2, 50, rwidth=.5)\n",
    "#title='Distribution of inter-arrival time'\n",
    "ax.legend(fontsize='medium')\n",
    "save_fig('interarrival_plot')\n",
    "#plt.title('Distribution of inter-arrival time')\n"
   ]
  },
  {
   "cell_type": "markdown",
   "metadata": {
    "collapsed": true
   },
   "source": [
    "# Tables\n",
    "\n"
   ]
  },
  {
   "cell_type": "markdown",
   "metadata": {},
   "source": []
  },
  {
   "cell_type": "code",
   "execution_count": 30,
   "metadata": {},
   "outputs": [
    {
     "name": "stdout",
     "output_type": "stream",
     "text": [
      "Number of events {} Total : 0\n",
      "Number of bad events 0\n",
      "Final events for three events {}\n"
     ]
    }
   ],
   "source": [
    "def tasks_stats(tasks):\n",
    "    l=defaultdict(int)\n",
    "    bad=0\n",
    "    last_event=defaultdict(int)\n",
    "    for i in tasks:\n",
    "        evts=tasks[i][2]\n",
    "        li=len(evts)\n",
    "        l[li]=l[li]+1\n",
    "        if li==3:\n",
    "            if evts[0][0] != 0 or evts[1][0]!= 1:\n",
    "                bad=bad+1\n",
    "            last_event[evts[2][0]]=last_event[evts[2][0]]+1\n",
    "    return (dict(l),dict(last_event), bad)\n",
    "\n",
    "l, last, bad = tasks_stats(tasks)\n",
    "print 'Number of events', l, 'Total :', len(tasks)\n",
    "print 'Number of bad events', bad\n",
    "print 'Final events for three events', last"
   ]
  },
  {
   "cell_type": "code",
   "execution_count": null,
   "metadata": {
    "collapsed": true
   },
   "outputs": [],
   "source": []
  },
  {
   "cell_type": "code",
   "execution_count": null,
   "metadata": {
    "collapsed": true
   },
   "outputs": [],
   "source": []
  },
  {
   "cell_type": "markdown",
   "metadata": {},
   "source": [
    "## Table III : Number of tasks and frequency for each scheduling class"
   ]
  },
  {
   "cell_type": "code",
   "execution_count": 31,
   "metadata": {},
   "outputs": [
    {
     "name": "stdout",
     "output_type": "stream",
     "text": [
      "[20317398, 3327283, 533330, 49614]\n",
      "[83.86046094076494, 13.733426202527074, 2.201330093230352, 0.20478276347764174]\n"
     ]
    }
   ],
   "source": [
    "sclTotal = []\n",
    "for i in range(len(sclGood)):\n",
    "    sclTotal.append(sclGood[i] + sclBad[i]) \n",
    "    \n",
    "sclTotalPercentage = [float(x) * 100.0 / sum(sclTotal) for x in sclTotal]\n",
    "\n",
    "print(sclTotal)\n",
    "print(sclTotalPercentage)"
   ]
  },
  {
   "cell_type": "markdown",
   "metadata": {},
   "source": [
    "## Table IV : Number of tasks for each priority level"
   ]
  },
  {
   "cell_type": "code",
   "execution_count": 32,
   "metadata": {},
   "outputs": [
    {
     "name": "stdout",
     "output_type": "stream",
     "text": [
      "[5701546, 2357274, 1078476, 1027, 13975078, 104, 633445, 0, 249932, 230164, 579, 0, 0]\n"
     ]
    }
   ],
   "source": [
    "prioTotal = []\n",
    "for i in range(len(prioGood)):\n",
    "    prioTotal.append(prioGood[i] + prioBad[i]) \n",
    "\n",
    "print(prioTotal)"
   ]
  },
  {
   "cell_type": "markdown",
   "metadata": {},
   "source": [
    "## Table V : Number of tasks and frequency for the four priority groups"
   ]
  },
  {
   "cell_type": "code",
   "execution_count": 33,
   "metadata": {},
   "outputs": [
    {
     "name": "stdout",
     "output_type": "stream",
     "text": [
      "[8058820, 15938062, 230164, 579]\n",
      "[33.26293848447795, 65.78466523235356, 0.9500064492495653, 0.002389833918925194]\n"
     ]
    }
   ],
   "source": [
    "prio_groups = [range(0, 2), range(2, 9), [9, 11], [10]]\n",
    "    \n",
    "# priority groups\n",
    "prioGroupsTotal = []\n",
    "for group in prio_groups:\n",
    "    groupsum = 0\n",
    "    for j in group:\n",
    "        groupsum += prioGood[j] + prioBad[j]\n",
    "    prioGroupsTotal.append(groupsum)\n",
    "\n",
    "prioGroupsPercentage = [float(x) * 100.0 / sum(prioGroupsTotal) for x in prioGroupsTotal]\n",
    "    \n",
    "print(prioGroupsTotal)\n",
    "print(prioGroupsPercentage)"
   ]
  },
  {
   "cell_type": "markdown",
   "metadata": {},
   "source": [
    "## Table VI : Statistics for execution time of task finsihed by a Finish event "
   ]
  },
  {
   "cell_type": "code",
   "execution_count": 34,
   "metadata": {},
   "outputs": [
    {
     "name": "stdout",
     "output_type": "stream",
     "text": [
      "All : [17807965, 1693.5795784507297, 5034.5250872828892, 448.90721300000001]\n",
      "Task number for each priority group : [5081775, 12677000, 49190, 0]\n",
      "Task makespan mean for each priority group : [1937.9013453466578, 1600.2944269675959, 493.89708989109852, nan]\n",
      "Task makespan median for each priority group : [345.790075, 492.56216949999998, 39.124604500000004, nan]\n",
      "Task makespan std dev for each priority group : [4518.6755414386571, 5231.3686295941561, 1955.1163226978615, nan]\n"
     ]
    }
   ],
   "source": [
    "# 12 priority levels\n",
    "prio_makespan = [[] for _ in range(12)]\n",
    "\n",
    "for t in classification['Good']:\n",
    "    prio_makespan[t[1]].append(t[4])\n",
    "\n",
    "# stats\n",
    "prio_makespan_average = [np.average(m) for m in prio_makespan]\n",
    "prio_makespan_std = [np.std(m) for m in prio_makespan]\n",
    "prio_makespan_median = [np.median(m) for m in prio_makespan]\n",
    "\n",
    "pm = prio_makespan\n",
    "gprio_makespan = [pm[0] + pm[1], pm[2] + pm[3] + pm[4] + pm[5] + pm[6] + pm[7] + pm[8], pm[9] + pm[11], pm[10]]\n",
    "\n",
    "gprio_makespan_average = [np.average(m) for m in gprio_makespan]\n",
    "gprio_makespan_std = [np.std(m) for m in gprio_makespan]\n",
    "gprio_makespan_median = [np.median(m) for m in gprio_makespan]\n",
    "\n",
    "\n",
    "am = []\n",
    "for m in pm:\n",
    "    am += m\n",
    "all_stats = [len(am), np.average(am), np.std(am), np.median(am)]\n",
    "print(\"All : {}\".format(all_stats))\n",
    "\n",
    "print(\"Task number for each priority group : {}\".format([len(m) for m in gprio_makespan]))\n",
    "print(\"Task makespan mean for each priority group : {}\".format(gprio_makespan_average))\n",
    "print(\"Task makespan median for each priority group : {}\".format(gprio_makespan_median))\n",
    "print(\"Task makespan std dev for each priority group : {}\".format(gprio_makespan_std))\n"
   ]
  },
  {
   "cell_type": "markdown",
   "metadata": {},
   "source": [
    "## Table VII : Statistics for execution time of tasks finished by a Kill event"
   ]
  },
  {
   "cell_type": "code",
   "execution_count": 35,
   "metadata": {},
   "outputs": [
    {
     "name": "stdout",
     "output_type": "stream",
     "text": [
      "All : [6419660, 7994.3455957533452, 59363.797782965485, 333.82506899999998]\n",
      "Task number for each priority group : [2977045, 3261062, 180974, 579]\n",
      "Task makespan mean for each priority group : [5195.6308373594229, 2688.5756677143754, 148424.38833104685, 388232.54421172565]\n",
      "Task makespan median for each priority group : [595.42672900000002, 213.9071375, 31429.425025500001, 71831.589154999994]\n",
      "Task makespan std dev for each priority group : [24336.442485204927, 19468.978667944168, 294182.35499764903, 579101.91805430409]\n",
      "test max : [1895984.935249, 2075736.979765, 2491521.08298, 2222525.79188]\n"
     ]
    }
   ],
   "source": [
    "# 12 priority levels\n",
    "prio_makespan = [[] for _ in range(12)]\n",
    "\n",
    "for t in classification['Bad']:\n",
    "    prio_makespan[t[1]].append(t[4])\n",
    "\n",
    "# stats\n",
    "prio_makespan_average = [np.average(m) for m in prio_makespan]\n",
    "prio_makespan_std = [np.std(m) for m in prio_makespan]\n",
    "prio_makespan_median = [np.median(m) for m in prio_makespan]\n",
    "\n",
    "pm = prio_makespan\n",
    "gprio_makespan = [pm[0] + pm[1], pm[2] + pm[3] + pm[4] + pm[5] + pm[6] + pm[7] + pm[8], pm[9] + pm[11], pm[10]]\n",
    "\n",
    "gprio_makespan_average = [np.average(m) for m in gprio_makespan]\n",
    "gprio_makespan_std = [np.std(m) for m in gprio_makespan]\n",
    "gprio_makespan_median = [np.median(m) for m in gprio_makespan]\n",
    "\n",
    "\n",
    "am = []\n",
    "for m in pm:\n",
    "    am += m\n",
    "all_stats = [len(am), np.average(am), np.std(am), np.median(am)]\n",
    "print(\"All : {}\".format(all_stats))\n",
    "\n",
    "\n",
    "print(\"Task number for each priority group : {}\".format([len(m) for m in gprio_makespan]))\n",
    "print(\"Task makespan mean for each priority group : {}\".format(gprio_makespan_average))\n",
    "print(\"Task makespan median for each priority group : {}\".format(gprio_makespan_median))\n",
    "print(\"Task makespan std dev for each priority group : {}\".format(gprio_makespan_std))\n",
    "print(\"test max : {}\".format([max(m if len(m) != 0 else [0]) for m in gprio_makespan]))\n"
   ]
  },
  {
   "cell_type": "markdown",
   "metadata": {
    "collapsed": true
   },
   "source": [
    "# K-means analysis\n",
    "Clustering of tasks on makespan, prio, sclass.\n",
    "Using sklearn for several reasons (better tools, results and efficiency)."
   ]
  },
  {
   "cell_type": "code",
   "execution_count": null,
   "metadata": {
    "collapsed": true
   },
   "outputs": [],
   "source": [
    "from numpy import array\n",
    "from scipy.cluster.vq import vq, kmeans, kmeans2, whiten\n",
    "import random\n",
    "\n",
    "\n",
    "from mpl_toolkits.mplot3d import Axes3D"
   ]
  },
  {
   "cell_type": "code",
   "execution_count": null,
   "metadata": {
    "collapsed": true
   },
   "outputs": [],
   "source": [
    "from sklearn.datasets import make_blobs\n",
    "from sklearn.cluster import KMeans\n",
    "from sklearn.metrics import silhouette_samples, silhouette_score\n",
    "\n",
    "import matplotlib.pyplot as plt\n",
    "import matplotlib.cm as cm"
   ]
  },
  {
   "cell_type": "code",
   "execution_count": null,
   "metadata": {
    "collapsed": true
   },
   "outputs": [],
   "source": [
    "\n",
    "# prepare data\n",
    "all_no_diff = lambda sclass, prio, diff, diffrel, makespan : (float(makespan), prio, sclass)\n",
    "#all_no_diff_filter = lambda sclass, prio, diff, diffrel, makespan : diff<100000 and diff > 0.01 and makespan < 10000000 and makespan > 1\n",
    "all_no_diff_filter = lambda sclass, prio, diff, diffrel, makespan : makespan > 1\n",
    "\n",
    "\n",
    "def prepare_data_kmeans(fields_func, filter_func):\n",
    "    transform = lambda items : array([fields_func(*item) for item in items if filter_func(*item)])\n",
    "    \n",
    "    items_good = transform(classification['Good'])\n",
    "    items_bad = transform(classification['Bad'])\n",
    "    \n",
    "    items_all = np.concatenate((items_good, items_bad))\n",
    "    \n",
    "    std_items = np.std(items_all, 0)\n",
    "    \n",
    "    return (np.divide(items_all, std_items), len(items_good), std_items)\n",
    "    \n",
    "\n",
    "def do_kmeans_analysis2(k, whiten, good_nb, std_items, postprocess_func=None):\n",
    "    nbcluster = k\n",
    "    \n",
    "    #centroids_whiten, distortion = kmeans(whiten, nbcluster)\n",
    "    #idx,_ = vq(whiten, centroids_whiten)\n",
    "\n",
    "    resolv = KMeans(k)\n",
    "    resolv.fit(whiten)\n",
    "    idx = resolv.predict(whiten)\n",
    "    centroids_whiten = resolv.cluster_centers_\n",
    "    distortion = resolv.score(whiten)\n",
    "    \n",
    "    \n",
    "    # XXX : we suppose the full whiten array is a concatenation of [good, bad] arrays\n",
    "    goodones = idx[:good_nb]\n",
    "    badones = idx[good_nb:]\n",
    "    \n",
    "    centroids = np.multiply(centroids_whiten, std_items)\n",
    "    \n",
    "    print('For {}-means, distortion = {}'.format(k, distortion))\n",
    "    for c in centroids:\n",
    "        print('\\t centroid : {}'.format(c))\n",
    "        \n",
    "    # distribution between the two groups\n",
    "    print('Rate between Finished ane Killed tasks for the different clusters')\n",
    "    for i in range(k):\n",
    "        rate = lambda i, x: (x == i).sum() / float(len(x)) * 100.0\n",
    "        print('Group {0}  : ({1:.3f}%, {2:.3f}%)'.format(i, rate(i, goodones), rate(i, badones)))\n",
    "\n",
    "\n",
    "    format_centroid = lambda c: '[makespan {0:.2f}, prio {1:.3f}, sclass {2:.3f}]'.format(*c)\n",
    "    for i in range(k):\n",
    "        nb = (idx == i).sum()\n",
    "        print('Centroid {0}, nb = {1}'.format(format_centroid(centroids[i]), nb))\n",
    "\n",
    "    if postprocess_func is not None:\n",
    "        postprocess_func(k, whiten, std_items, resolv)\n",
    "    \n",
    "    # TODO here\n",
    "    return (k, whiten, std_items, resolv)"
   ]
  },
  {
   "cell_type": "code",
   "execution_count": null,
   "metadata": {
    "collapsed": true
   },
   "outputs": [],
   "source": [
    "# almost a copy-past from http://scikit-learn.org/stable/auto_examples/cluster/plot_kmeans_silhouette_analysis.html\n",
    "def show_silouhette(k, whiten, std_items, resolv, plot_samples=5000, xlim=[-0.05, 1]):\n",
    "    X = whiten\n",
    "    n_clusters = k\n",
    "    # Create a subplot with 1 row and 2 columns\n",
    "    fig, ax1 = plt.subplots(1, 1)\n",
    "    #fig.set_size_inches(18, 7)\n",
    "    \n",
    "    plot_samples = len(X) if plot_samples is None else plot_samples\n",
    "\n",
    "    # The 1st subplot is the silhouette plot\n",
    "    # The silhouette coefficient can range from -1, 1 but in this example all\n",
    "    # lie within [-0.1, 1]\n",
    "    ax1.set_xlim(xlim)\n",
    "    # The (n_clusters+1)*10 is for inserting blank space between silhouette\n",
    "    # plots of individual clusters, to demarcate them clearly.\n",
    "    ax1.set_ylim([0, plot_samples + (n_clusters + 1) * 10])\n",
    "\n",
    "    clusterer = resolv\n",
    "    cluster_labels = clusterer.fit_predict(X)\n",
    "\n",
    "    # The silhouette_score gives the average value for all the samples.\n",
    "    # This gives a perspective into the density and separation of the formed\n",
    "    # clusters\n",
    "    \n",
    "    sample =  np.random.choice(X.shape[0], plot_samples, replace=False)\n",
    "    print(str(X.shape))\n",
    "    print(str(sample.shape))\n",
    "    X_resamp = X[sample]\n",
    "    cluster_labels = cluster_labels[sample]\n",
    "    \n",
    "    silhouette_avg = silhouette_score(X_resamp, cluster_labels)\n",
    "    print(\"For n_clusters =\", n_clusters,\n",
    "          \"The average silhouette_score is :\", silhouette_avg)\n",
    "\n",
    "    # Compute the silhouette scores for each sample\n",
    "    sample_silhouette_values = silhouette_samples(X_resamp, cluster_labels)\n",
    "\n",
    "    y_lower = 10\n",
    "    for i in range(n_clusters):\n",
    "        # Aggregate the silhouette scores for samples belonging to\n",
    "        # cluster i, and sort them\n",
    "        ith_cluster_silhouette_values = \\\n",
    "            sample_silhouette_values[cluster_labels == i]\n",
    "            \n",
    "        #print(str(ith_cluster_silhouette_values.shape))\n",
    "\n",
    "        ith_cluster_silhouette_values.sort()\n",
    "\n",
    "        size_cluster_i = ith_cluster_silhouette_values.shape[0]\n",
    "        y_upper = y_lower + size_cluster_i\n",
    "\n",
    "        color = cm.spectral(float(i) / n_clusters)\n",
    "        ax1.fill_betweenx(np.arange(y_lower, y_upper),\n",
    "                          0, ith_cluster_silhouette_values,\n",
    "                          facecolor=color, edgecolor=color, alpha=0.7)\n",
    "\n",
    "        # Label the silhouette plots with their cluster numbers at the middle\n",
    "        ax1.text(-0.05, y_lower + 0.5 * size_cluster_i, str(i))\n",
    "\n",
    "        # Compute the new y_lower for next plot\n",
    "        y_lower = y_upper + 10  # 10 for the 0 samples\n",
    "\n",
    "    #ax1.set_title(\"Silhouette plot for the 4-cluster\")\n",
    "    ax1.set_xlabel(\"Silhouette coefficient values\")\n",
    "    ax1.set_ylabel(\"Cluster label\")\n",
    "\n",
    "    # The vertical line for average silhouette score of all the values\n",
    "    ax1.axvline(x=silhouette_avg, color=\"red\", linestyle=\"--\")\n",
    "\n",
    "    ax1.set_yticks([])  # Clear the yaxis labels / ticks\n",
    "    #ax1.set_xticks([-0.1, 0, 0.2, 0.4, 0.6, 0.8, 1])\n",
    "    fig.show()"
   ]
  },
  {
   "cell_type": "code",
   "execution_count": null,
   "metadata": {
    "collapsed": true
   },
   "outputs": [],
   "source": [
    "def analysis_makespan_clusters(k, whiten, std_items, clusterer):\n",
    "    data = np.multiply(whiten, std_items) \n",
    "\n",
    "    idx = clusterer.fit_predict(whiten)\n",
    "    \n",
    "    for i in range(k):\n",
    "        cluster_data = data[idx == i]\n",
    "        cluster_makespan = cluster_data[:,0]\n",
    "        \n",
    "        avg = np.average(cluster_makespan)\n",
    "        std = np.std(cluster_makespan)\n",
    "        median = np.median(cluster_makespan)\n",
    "        \n",
    "        print('Cluster {0}: avg={1:.3f}, std={2:.3f}, med={3:.3f}'.format(i, avg, std, median))"
   ]
  },
  {
   "cell_type": "markdown",
   "metadata": {},
   "source": [
    "## Analysis score of different values of k"
   ]
  },
  {
   "cell_type": "code",
   "execution_count": null,
   "metadata": {
    "collapsed": true
   },
   "outputs": [],
   "source": [
    "def kmeans_distortion2(items, nbcluster, nrun = 1):\n",
    "    all_disp = []\n",
    "    for i in range(nrun):\n",
    "        resolv = KMeans(nbcluster)\n",
    "        resolv.fit(items)\n",
    "        disp = -resolv.score(items) / len(items)\n",
    "        #_, disp = kmeans(items, nbcluster)\n",
    "        all_disp.append(disp)\n",
    "    return np.mean(disp)"
   ]
  },
  {
   "cell_type": "code",
   "execution_count": null,
   "metadata": {
    "collapsed": true
   },
   "outputs": [],
   "source": [
    "disp_kmeans = []\n",
    "(whiten_items, _, _) = prepare_data_kmeans(all_no_diff, all_no_diff_filter)\n",
    "\n",
    "for k in range(1, 12):\n",
    "    disp = kmeans_distortion2(whiten_items, k, 1)\n",
    "    disp_kmeans.append( (k, disp) )\n",
    "    print(str( (k, disp) ))"
   ]
  },
  {
   "cell_type": "code",
   "execution_count": null,
   "metadata": {
    "collapsed": true
   },
   "outputs": [],
   "source": [
    "fig, ax = plt.subplots()\n",
    "plt.ylabel('Average distance')\n",
    "plt.xlabel('Number of cluster (k)')\n",
    "\n",
    "# TODO : diff entre k et k+1 (% ou value)\n",
    "# --> justif du choix de k dans le texte\n",
    "\n",
    "plt.plot(*zip(*disp_kmeans), marker='x')\n",
    "save_fig('distance_cluster')"
   ]
  },
  {
   "cell_type": "code",
   "execution_count": null,
   "metadata": {
    "collapsed": true
   },
   "outputs": [],
   "source": [
    "delta_dist = [(k, a-b) for (_, a), (k, b) in zip(disp_kmeans, disp_kmeans[1:])]\n",
    "delta_dist"
   ]
  },
  {
   "cell_type": "markdown",
   "metadata": {},
   "source": [
    "## For 2-clustering"
   ]
  },
  {
   "cell_type": "code",
   "execution_count": null,
   "metadata": {
    "collapsed": true
   },
   "outputs": [],
   "source": [
    "prepared_data = prepare_data_kmeans(all_no_diff, all_no_diff_filter)\n",
    "kmean_partial = do_kmeans_analysis2(2, *prepared_data)"
   ]
  },
  {
   "cell_type": "code",
   "execution_count": null,
   "metadata": {
    "collapsed": true
   },
   "outputs": [],
   "source": [
    "show_silouhette(*kmean_partial, plot_samples=20000, xlim=[-0.1, 1])\n",
    "save_fig('silhouette_2_clustering')"
   ]
  },
  {
   "cell_type": "code",
   "execution_count": null,
   "metadata": {
    "collapsed": true
   },
   "outputs": [],
   "source": [
    "analysis_makespan_clusters(*kmean_partial)"
   ]
  },
  {
   "cell_type": "markdown",
   "metadata": {},
   "source": [
    "## For 4-clustering"
   ]
  },
  {
   "cell_type": "code",
   "execution_count": null,
   "metadata": {
    "collapsed": true
   },
   "outputs": [],
   "source": [
    "prepared_data = prepare_data_kmeans(all_no_diff, all_no_diff_filter)\n",
    "kmean_partial = do_kmeans_analysis2(4, *prepared_data)"
   ]
  },
  {
   "cell_type": "code",
   "execution_count": null,
   "metadata": {
    "collapsed": true
   },
   "outputs": [],
   "source": [
    "show_silouhette(*kmean_partial, plot_samples=20000, xlim=[-0.3, 1])\n",
    "save_fig('silhouette_4_clustering')"
   ]
  },
  {
   "cell_type": "code",
   "execution_count": null,
   "metadata": {
    "collapsed": true
   },
   "outputs": [],
   "source": [
    "analysis_makespan_clusters(*kmean_partial)"
   ]
  }
 ],
 "metadata": {
  "kernelspec": {
   "display_name": "Python 2",
   "language": "python",
   "name": "python2"
  },
  "language_info": {
   "codemirror_mode": {
    "name": "ipython",
    "version": 3
   },
   "file_extension": ".py",
   "mimetype": "text/x-python",
   "name": "python",
   "nbconvert_exporter": "python",
   "pygments_lexer": "ipython3",
   "version": "3.6.9"
  }
 },
 "nbformat": 4,
 "nbformat_minor": 1
}
